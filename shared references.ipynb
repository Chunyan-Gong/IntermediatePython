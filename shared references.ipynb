{
 "cells": [
  {
   "cell_type": "code",
   "execution_count": 5,
   "metadata": {},
   "outputs": [
    {
     "name": "stdout",
     "output_type": "stream",
     "text": [
      "93898874829632\n",
      "93898874829632\n"
     ]
    }
   ],
   "source": [
    "a=10\n",
    "print(id(a))\n",
    "b=a\n",
    "print(id(b))"
   ]
  },
  {
   "cell_type": "code",
   "execution_count": 6,
   "metadata": {},
   "outputs": [
    {
     "name": "stdout",
     "output_type": "stream",
     "text": [
      "93898874829632\n",
      "93898874829632\n"
     ]
    }
   ],
   "source": [
    "c=100\n",
    "print(id(a))\n",
    "d=100\n",
    "print(id(b))"
   ]
  },
  {
   "cell_type": "code",
   "execution_count": 7,
   "metadata": {},
   "outputs": [
    {
     "name": "stdout",
     "output_type": "stream",
     "text": [
      "140656689124688\n",
      "140656689124656\n"
     ]
    }
   ],
   "source": [
    "e=500\n",
    "print(id(e))\n",
    "f=500\n",
    "print(id(f))\n",
    "#发现并不是有一样的值就是有一样的地址，为什么呢？那么什么时候有，什么时候没有呢？"
   ]
  },
  {
   "cell_type": "code",
   "execution_count": 10,
   "metadata": {},
   "outputs": [
    {
     "name": "stdout",
     "output_type": "stream",
     "text": [
      "140656689179912\n",
      "140656689177992\n"
     ]
    },
    {
     "data": {
      "text/plain": [
       "False"
      ]
     },
     "execution_count": 10,
     "metadata": {},
     "output_type": "execute_result"
    }
   ],
   "source": [
    "g=[1,2,3]\n",
    "print(id(g))\n",
    "h=[1,2,3]\n",
    "print(id(h))\n",
    "#如果有同样的mmutable objects, address 也是不一样的\n",
    "g is h"
   ]
  },
  {
   "cell_type": "code",
   "execution_count": 11,
   "metadata": {},
   "outputs": [
    {
     "name": "stdout",
     "output_type": "stream",
     "text": [
      "140656689178312\n",
      "140656689178312\n"
     ]
    },
    {
     "data": {
      "text/plain": [
       "True"
      ]
     },
     "execution_count": 11,
     "metadata": {},
     "output_type": "execute_result"
    }
   ],
   "source": [
    "i=[1,2,3]\n",
    "print(id(i))\n",
    "j=i\n",
    "print(id(j))\n",
    "#但是这里又是一样的，really confusing now\n",
    "i is j"
   ]
  },
  {
   "cell_type": "code",
   "execution_count": null,
   "metadata": {},
   "outputs": [],
   "source": []
  }
 ],
 "metadata": {
  "kernelspec": {
   "display_name": "Python 3.6",
   "language": "python",
   "name": "python36"
  },
  "language_info": {
   "codemirror_mode": {
    "name": "ipython",
    "version": 3
   },
   "file_extension": ".py",
   "mimetype": "text/x-python",
   "name": "python",
   "nbconvert_exporter": "python",
   "pygments_lexer": "ipython3",
   "version": "3.6.6"
  }
 },
 "nbformat": 4,
 "nbformat_minor": 2
}
