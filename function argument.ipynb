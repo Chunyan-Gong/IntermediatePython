{
 "cells": [
  {
   "cell_type": "code",
   "execution_count": 2,
   "metadata": {},
   "outputs": [],
   "source": [
    "#1. immutable objects\n",
    "def process(s):\n",
    "    s = s +'world'\n",
    "    return s"
   ]
  },
  {
   "cell_type": "code",
   "execution_count": 3,
   "metadata": {},
   "outputs": [
    {
     "data": {
      "text/plain": [
       "'helloworld'"
      ]
     },
     "execution_count": 3,
     "metadata": {},
     "output_type": "execute_result"
    }
   ],
   "source": [
    "my_var = 'hello'\n",
    "#when we pass my_var to the function of process(), my_var's reference is passed to process()\n",
    "#process() scope store that reference in the variable s , so s point to the same object in memory just as my_var does\n",
    "#when the function runs, we actually create a new address to process my_var because my_var point to a string which is immutable \n",
    "#这个不是废话吗？\n",
    "#and after the process, s points to a new object \"hello world\"\n",
    "\n",
    "process(my_var)"
   ]
  },
  {
   "cell_type": "code",
   "execution_count": 4,
   "metadata": {},
   "outputs": [
    {
     "name": "stdout",
     "output_type": "stream",
     "text": [
      "hello\n"
     ]
    }
   ],
   "source": [
    "print(my_var) #my_var is not mutable, it is not changed after being passed to process()"
   ]
  },
  {
   "cell_type": "code",
   "execution_count": 9,
   "metadata": {},
   "outputs": [
    {
     "name": "stdout",
     "output_type": "stream",
     "text": [
      "my_var #=140158897056824\n",
      "Initial s #=140158897056824\n",
      "Final s #=140158894231344\n"
     ]
    }
   ],
   "source": [
    "#1.1\n",
    "#we can modity the function to see it more clearly \n",
    "def process(s):\n",
    "    print(\"Initial s #={0}\".format(id(s)))\n",
    "    s = s +'world'\n",
    "    print(\"Final s #={0}\".format(id(s)))\n",
    "my_var = 'hello'\n",
    "print('my_var #={0}'.format(id(my_var)))\n",
    "process(my_var)\n",
    "#可以看出s的地址一开始和my_var是一样的，但是后面就不同了。"
   ]
  },
  {
   "cell_type": "code",
   "execution_count": null,
   "metadata": {},
   "outputs": [],
   "source": [
    "#2. mutable objects"
   ]
  },
  {
   "cell_type": "code",
   "execution_count": 11,
   "metadata": {},
   "outputs": [
    {
     "name": "stdout",
     "output_type": "stream",
     "text": [
      "140158898031112\n",
      "initial lst #=140158898031112\n",
      "Final lst #=140158898031112\n",
      "[1, 2, 3, 4, 100]\n"
     ]
    }
   ],
   "source": [
    "def modify_lst(lst):\n",
    "    print(\"initial lst #={0}\".format(id(lst)))\n",
    "    lst.append(100)\n",
    "    print(\"Final lst #={0}\".format(id(lst)))\n",
    "    #we'll find that the lst address will not be changed, which means only the inner state of the list being modified\n",
    "my_list = [1,2,3,4]\n",
    "print(id(my_list))\n",
    "modify_lst(my_list)\n",
    "print(my_list)#the list's inner state has changed"
   ]
  },
  {
   "cell_type": "code",
   "execution_count": null,
   "metadata": {},
   "outputs": [],
   "source": [
    "#这不是废话吗,mutable object 当然会被change 啊"
   ]
  },
  {
   "cell_type": "code",
   "execution_count": 12,
   "metadata": {},
   "outputs": [
    {
     "name": "stdout",
     "output_type": "stream",
     "text": [
      "140158898049928\n",
      "Initial t #=140158898049928\n",
      "Final t #=140158898049928\n",
      "([1, 2, 3], 'a')\n"
     ]
    }
   ],
   "source": [
    "#3. immutable object with mutable objects\n",
    "def modify_tuple(t):\n",
    "    print(\"Initial t #={0}\".format(id(t)))\n",
    "    t[0].append(3)\n",
    "    print(\"Final t #={0}\".format(id(t)))\n",
    "    \n",
    "my_tuple=([1,2],'a')\n",
    "print(id(my_tuple))\n",
    "modify_tuple(my_tuple)\n",
    "print(my_tuple)\n",
    "\n",
    "#all the addresses are the same"
   ]
  },
  {
   "cell_type": "code",
   "execution_count": null,
   "metadata": {},
   "outputs": [],
   "source": []
  }
 ],
 "metadata": {
  "kernelspec": {
   "display_name": "Python 3.6",
   "language": "python",
   "name": "python36"
  },
  "language_info": {
   "codemirror_mode": {
    "name": "ipython",
    "version": 3
   },
   "file_extension": ".py",
   "mimetype": "text/x-python",
   "name": "python",
   "nbconvert_exporter": "python",
   "pygments_lexer": "ipython3",
   "version": "3.6.6"
  }
 },
 "nbformat": 4,
 "nbformat_minor": 2
}
