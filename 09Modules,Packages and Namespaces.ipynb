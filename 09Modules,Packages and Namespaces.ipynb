{
 "cells": [
  {
   "cell_type": "code",
   "execution_count": null,
   "metadata": {
    "collapsed": true
   },
   "outputs": [],
   "source": [
    "#modules are objects of type ModuleType\n",
    "#__main__\n",
    "#zip archive\n",
    "#zipping an entire python app\n",
    "#creating an xecutable app in bash "
   ]
  },
  {
   "cell_type": "code",
   "execution_count": null,
   "metadata": {},
   "outputs": [],
   "source": [
    "#******************************Modules*****************************"
   ]
  },
  {
   "cell_type": "code",
   "execution_count": null,
   "metadata": {},
   "outputs": [],
   "source": [
    "#module is an object of a certain data type"
   ]
  },
  {
   "cell_type": "code",
   "execution_count": 2,
   "metadata": {},
   "outputs": [],
   "source": [
    "def func():\n",
    "    a=10\n",
    "    return a"
   ]
  },
  {
   "cell_type": "code",
   "execution_count": 3,
   "metadata": {},
   "outputs": [
    {
     "data": {
      "text/plain": [
       "<function __main__.func()>"
      ]
     },
     "execution_count": 3,
     "metadata": {},
     "output_type": "execute_result"
    }
   ],
   "source": [
    "func   #this is just the name of the function"
   ]
  },
  {
   "cell_type": "code",
   "execution_count": 4,
   "metadata": {},
   "outputs": [
    {
     "data": {
      "text/plain": [
       "10"
      ]
     },
     "execution_count": 4,
     "metadata": {},
     "output_type": "execute_result"
    }
   ],
   "source": [
    "func()"
   ]
  },
  {
   "cell_type": "code",
   "execution_count": 5,
   "metadata": {},
   "outputs": [
    {
     "data": {
      "text/plain": [
       "140575157634048"
      ]
     },
     "execution_count": 5,
     "metadata": {},
     "output_type": "execute_result"
    }
   ],
   "source": [
    "id(func)"
   ]
  },
  {
   "cell_type": "code",
   "execution_count": 8,
   "metadata": {},
   "outputs": [
    {
     "data": {
      "text/plain": [
       "{'__name__': '__main__',\n",
       " '__doc__': 'Automatically created module for IPython interactive environment',\n",
       " '__package__': None,\n",
       " '__loader__': None,\n",
       " '__spec__': None,\n",
       " '__builtin__': <module 'builtins' (built-in)>,\n",
       " '__builtins__': <module 'builtins' (built-in)>,\n",
       " '_ih': ['',\n",
       "  'func',\n",
       "  'def func():\\n    a=10\\n    return a',\n",
       "  'func',\n",
       "  'func()',\n",
       "  'id(func)',\n",
       "  'globals()',\n",
       "  'f is func',\n",
       "  'globals()'],\n",
       " '_oh': {3: <function __main__.func()>, 4: 10, 5: 140575157634048, 6: {...}},\n",
       " '_dh': ['/home/nbuser/library'],\n",
       " 'In': ['',\n",
       "  'func',\n",
       "  'def func():\\n    a=10\\n    return a',\n",
       "  'func',\n",
       "  'func()',\n",
       "  'id(func)',\n",
       "  'globals()',\n",
       "  'f is func',\n",
       "  'globals()'],\n",
       " 'Out': {3: <function __main__.func()>, 4: 10, 5: 140575157634048, 6: {...}},\n",
       " 'get_ipython': <bound method InteractiveShell.get_ipython of <ipykernel.zmqshell.ZMQInteractiveShell object at 0x7fda349acb38>>,\n",
       " 'exit': <IPython.core.autocall.ZMQExitAutocall at 0x7fda3491ab00>,\n",
       " 'quit': <IPython.core.autocall.ZMQExitAutocall at 0x7fda3491ab00>,\n",
       " '_': {...},\n",
       " '__': 140575157634048,\n",
       " '___': 10,\n",
       " '_i': 'f is func',\n",
       " '_ii': 'globals()',\n",
       " '_iii': 'id(func)',\n",
       " '_i1': 'func',\n",
       " '_i2': 'def func():\\n    a=10\\n    return a',\n",
       " 'func': <function __main__.func()>,\n",
       " '_i3': 'func',\n",
       " '_3': <function __main__.func()>,\n",
       " '_i4': 'func()',\n",
       " '_4': 10,\n",
       " '_i5': 'id(func)',\n",
       " '_5': 140575157634048,\n",
       " '_i6': 'globals()',\n",
       " '_6': {...},\n",
       " '_i7': 'f is func',\n",
       " '_i8': 'globals()'}"
      ]
     },
     "execution_count": 8,
     "metadata": {},
     "output_type": "execute_result"
    }
   ],
   "source": [
    "globals()  #it returns the global namespaces"
   ]
  },
  {
   "cell_type": "code",
   "execution_count": 9,
   "metadata": {},
   "outputs": [],
   "source": [
    "# so we can use global to get our func\n",
    "f=globals()['func']"
   ]
  },
  {
   "cell_type": "code",
   "execution_count": 10,
   "metadata": {},
   "outputs": [
    {
     "data": {
      "text/plain": [
       "True"
      ]
     },
     "execution_count": 10,
     "metadata": {},
     "output_type": "execute_result"
    }
   ],
   "source": [
    "f is func"
   ]
  },
  {
   "cell_type": "code",
   "execution_count": 11,
   "metadata": {},
   "outputs": [
    {
     "data": {
      "text/plain": [
       "10"
      ]
     },
     "execution_count": 11,
     "metadata": {},
     "output_type": "execute_result"
    }
   ],
   "source": [
    "f()   #so what is the point of this ? to change the name of the function ?"
   ]
  },
  {
   "cell_type": "code",
   "execution_count": null,
   "metadata": {},
   "outputs": [],
   "source": [
    "#globals does not only contains the name, but also the meaning of the name "
   ]
  },
  {
   "cell_type": "code",
   "execution_count": 12,
   "metadata": {},
   "outputs": [
    {
     "data": {
      "text/plain": [
       "{'__name__': '__main__',\n",
       " '__doc__': 'Automatically created module for IPython interactive environment',\n",
       " '__package__': None,\n",
       " '__loader__': None,\n",
       " '__spec__': None,\n",
       " '__builtin__': <module 'builtins' (built-in)>,\n",
       " '__builtins__': <module 'builtins' (built-in)>,\n",
       " '_ih': ['',\n",
       "  'func',\n",
       "  'def func():\\n    a=10\\n    return a',\n",
       "  'func',\n",
       "  'func()',\n",
       "  'id(func)',\n",
       "  'globals()',\n",
       "  'f is func',\n",
       "  'globals()',\n",
       "  \"# so we can use global to get our func\\nf=globals()['func']\",\n",
       "  'f is func',\n",
       "  'f()',\n",
       "  'locals()'],\n",
       " '_oh': {3: <function __main__.func()>,\n",
       "  4: 10,\n",
       "  5: 140575157634048,\n",
       "  6: {...},\n",
       "  8: {...},\n",
       "  10: True,\n",
       "  11: 10},\n",
       " '_dh': ['/home/nbuser/library'],\n",
       " 'In': ['',\n",
       "  'func',\n",
       "  'def func():\\n    a=10\\n    return a',\n",
       "  'func',\n",
       "  'func()',\n",
       "  'id(func)',\n",
       "  'globals()',\n",
       "  'f is func',\n",
       "  'globals()',\n",
       "  \"# so we can use global to get our func\\nf=globals()['func']\",\n",
       "  'f is func',\n",
       "  'f()',\n",
       "  'locals()'],\n",
       " 'Out': {3: <function __main__.func()>,\n",
       "  4: 10,\n",
       "  5: 140575157634048,\n",
       "  6: {...},\n",
       "  8: {...},\n",
       "  10: True,\n",
       "  11: 10},\n",
       " 'get_ipython': <bound method InteractiveShell.get_ipython of <ipykernel.zmqshell.ZMQInteractiveShell object at 0x7fda349acb38>>,\n",
       " 'exit': <IPython.core.autocall.ZMQExitAutocall at 0x7fda3491ab00>,\n",
       " 'quit': <IPython.core.autocall.ZMQExitAutocall at 0x7fda3491ab00>,\n",
       " '_': 10,\n",
       " '__': True,\n",
       " '___': {...},\n",
       " '_i': 'f()',\n",
       " '_ii': 'f is func',\n",
       " '_iii': \"# so we can use global to get our func\\nf=globals()['func']\",\n",
       " '_i1': 'func',\n",
       " '_i2': 'def func():\\n    a=10\\n    return a',\n",
       " 'func': <function __main__.func()>,\n",
       " '_i3': 'func',\n",
       " '_3': <function __main__.func()>,\n",
       " '_i4': 'func()',\n",
       " '_4': 10,\n",
       " '_i5': 'id(func)',\n",
       " '_5': 140575157634048,\n",
       " '_i6': 'globals()',\n",
       " '_6': {...},\n",
       " '_i7': 'f is func',\n",
       " '_i8': 'globals()',\n",
       " '_8': {...},\n",
       " '_i9': \"# so we can use global to get our func\\nf=globals()['func']\",\n",
       " 'f': <function __main__.func()>,\n",
       " '_i10': 'f is func',\n",
       " '_10': True,\n",
       " '_i11': 'f()',\n",
       " '_11': 10,\n",
       " '_i12': 'locals()'}"
      ]
     },
     "execution_count": 12,
     "metadata": {},
     "output_type": "execute_result"
    }
   ],
   "source": [
    "locals()"
   ]
  },
  {
   "cell_type": "code",
   "execution_count": 13,
   "metadata": {},
   "outputs": [
    {
     "data": {
      "text/plain": [
       "True"
      ]
     },
     "execution_count": 13,
     "metadata": {},
     "output_type": "execute_result"
    }
   ],
   "source": [
    "#locals and globals are the same dictionary \n",
    "locals() is globals()"
   ]
  },
  {
   "cell_type": "code",
   "execution_count": null,
   "metadata": {},
   "outputs": [],
   "source": [
    "def func():\n",
    "    a=10\n",
    "    b=10\n",
    "    print(locals())\n",
    "func()"
   ]
  },
  {
   "cell_type": "code",
   "execution_count": null,
   "metadata": {},
   "outputs": [],
   "source": [
    "#~~~~~~~~~~~~~~~~~~~~~~~import a moduel~~~~~~~~~~~~~~~~~~~~~"
   ]
  },
  {
   "cell_type": "code",
   "execution_count": 15,
   "metadata": {},
   "outputs": [],
   "source": [
    "import math"
   ]
  },
  {
   "cell_type": "code",
   "execution_count": 16,
   "metadata": {},
   "outputs": [],
   "source": [
    "#when we import a module, python goes into globals() to find the name of the module"
   ]
  },
  {
   "cell_type": "code",
   "execution_count": 17,
   "metadata": {},
   "outputs": [
    {
     "data": {
      "text/plain": [
       "{'__name__': '__main__',\n",
       " '__doc__': 'Automatically created module for IPython interactive environment',\n",
       " '__package__': None,\n",
       " '__loader__': None,\n",
       " '__spec__': None,\n",
       " '__builtin__': <module 'builtins' (built-in)>,\n",
       " '__builtins__': <module 'builtins' (built-in)>,\n",
       " '_ih': ['',\n",
       "  'func',\n",
       "  'def func():\\n    a=10\\n    return a',\n",
       "  'func',\n",
       "  'func()',\n",
       "  'id(func)',\n",
       "  'globals()',\n",
       "  'f is func',\n",
       "  'globals()',\n",
       "  \"# so we can use global to get our func\\nf=globals()['func']\",\n",
       "  'f is func',\n",
       "  'f()',\n",
       "  'locals()',\n",
       "  '#locals and globals are the same dictionary \\nlocals() is globals()',\n",
       "  'def func():\\n    a=10\\n    b=10\\n    print(locals())\\nfunc()',\n",
       "  'import math',\n",
       "  '#when we import a module, python goes into globals() to find the name of the module',\n",
       "  'globals()'],\n",
       " '_oh': {3: <function __main__.func()>,\n",
       "  4: 10,\n",
       "  5: 140575157634048,\n",
       "  6: {...},\n",
       "  8: {...},\n",
       "  10: True,\n",
       "  11: 10,\n",
       "  12: {...},\n",
       "  13: True},\n",
       " '_dh': ['/home/nbuser/library'],\n",
       " 'In': ['',\n",
       "  'func',\n",
       "  'def func():\\n    a=10\\n    return a',\n",
       "  'func',\n",
       "  'func()',\n",
       "  'id(func)',\n",
       "  'globals()',\n",
       "  'f is func',\n",
       "  'globals()',\n",
       "  \"# so we can use global to get our func\\nf=globals()['func']\",\n",
       "  'f is func',\n",
       "  'f()',\n",
       "  'locals()',\n",
       "  '#locals and globals are the same dictionary \\nlocals() is globals()',\n",
       "  'def func():\\n    a=10\\n    b=10\\n    print(locals())\\nfunc()',\n",
       "  'import math',\n",
       "  '#when we import a module, python goes into globals() to find the name of the module',\n",
       "  'globals()'],\n",
       " 'Out': {3: <function __main__.func()>,\n",
       "  4: 10,\n",
       "  5: 140575157634048,\n",
       "  6: {...},\n",
       "  8: {...},\n",
       "  10: True,\n",
       "  11: 10,\n",
       "  12: {...},\n",
       "  13: True},\n",
       " 'get_ipython': <bound method InteractiveShell.get_ipython of <ipykernel.zmqshell.ZMQInteractiveShell object at 0x7fda349acb38>>,\n",
       " 'exit': <IPython.core.autocall.ZMQExitAutocall at 0x7fda3491ab00>,\n",
       " 'quit': <IPython.core.autocall.ZMQExitAutocall at 0x7fda3491ab00>,\n",
       " '_': True,\n",
       " '__': {...},\n",
       " '___': 10,\n",
       " '_i': '#when we import a module, python goes into globals() to find the name of the module',\n",
       " '_ii': 'import math',\n",
       " '_iii': 'def func():\\n    a=10\\n    b=10\\n    print(locals())\\nfunc()',\n",
       " '_i1': 'func',\n",
       " '_i2': 'def func():\\n    a=10\\n    return a',\n",
       " 'func': <function __main__.func()>,\n",
       " '_i3': 'func',\n",
       " '_3': <function __main__.func()>,\n",
       " '_i4': 'func()',\n",
       " '_4': 10,\n",
       " '_i5': 'id(func)',\n",
       " '_5': 140575157634048,\n",
       " '_i6': 'globals()',\n",
       " '_6': {...},\n",
       " '_i7': 'f is func',\n",
       " '_i8': 'globals()',\n",
       " '_8': {...},\n",
       " '_i9': \"# so we can use global to get our func\\nf=globals()['func']\",\n",
       " 'f': <function __main__.func()>,\n",
       " '_i10': 'f is func',\n",
       " '_10': True,\n",
       " '_i11': 'f()',\n",
       " '_11': 10,\n",
       " '_i12': 'locals()',\n",
       " '_12': {...},\n",
       " '_i13': '#locals and globals are the same dictionary \\nlocals() is globals()',\n",
       " '_13': True,\n",
       " '_i14': 'def func():\\n    a=10\\n    b=10\\n    print(locals())\\nfunc()',\n",
       " '_i15': 'import math',\n",
       " 'math': <module 'math' from '/home/nbuser/anaconda3_501/lib/python3.6/lib-dynload/math.cpython-36m-x86_64-linux-gnu.so'>,\n",
       " '_i16': '#when we import a module, python goes into globals() to find the name of the module',\n",
       " '_i17': 'globals()'}"
      ]
     },
     "execution_count": 17,
     "metadata": {},
     "output_type": "execute_result"
    }
   ],
   "source": [
    "globals()"
   ]
  },
  {
   "cell_type": "code",
   "execution_count": 19,
   "metadata": {},
   "outputs": [
    {
     "data": {
      "text/plain": [
       "1.4142135623730951"
      ]
     },
     "execution_count": 19,
     "metadata": {},
     "output_type": "execute_result"
    }
   ],
   "source": [
    "mod_math=globals()['math']\n",
    "mod_math.sqrt(2)"
   ]
  },
  {
   "cell_type": "code",
   "execution_count": 20,
   "metadata": {},
   "outputs": [
    {
     "data": {
      "text/plain": [
       "{'builtins': <module 'builtins' (built-in)>,\n",
       " 'sys': <module 'sys' (built-in)>,\n",
       " '_frozen_importlib': <module 'importlib._bootstrap' (frozen)>,\n",
       " '_imp': <module '_imp' (built-in)>,\n",
       " '_warnings': <module '_warnings' (built-in)>,\n",
       " '_thread': <module '_thread' (built-in)>,\n",
       " '_weakref': <module '_weakref' (built-in)>,\n",
       " '_frozen_importlib_external': <module 'importlib._bootstrap_external' (frozen)>,\n",
       " '_io': <module 'io' (built-in)>,\n",
       " 'marshal': <module 'marshal' (built-in)>,\n",
       " 'posix': <module 'posix' (built-in)>,\n",
       " 'zipimport': <module 'zipimport' (built-in)>,\n",
       " 'encodings': <module 'encodings' from '/home/nbuser/anaconda3_501/lib/python3.6/encodings/__init__.py'>,\n",
       " 'codecs': <module 'codecs' from '/home/nbuser/anaconda3_501/lib/python3.6/codecs.py'>,\n",
       " '_codecs': <module '_codecs' (built-in)>,\n",
       " 'encodings.aliases': <module 'encodings.aliases' from '/home/nbuser/anaconda3_501/lib/python3.6/encodings/aliases.py'>,\n",
       " 'encodings.utf_8': <module 'encodings.utf_8' from '/home/nbuser/anaconda3_501/lib/python3.6/encodings/utf_8.py'>,\n",
       " '_signal': <module '_signal' (built-in)>,\n",
       " '__main__': <module '__main__'>,\n",
       " 'encodings.latin_1': <module 'encodings.latin_1' from '/home/nbuser/anaconda3_501/lib/python3.6/encodings/latin_1.py'>,\n",
       " 'io': <module 'io' from '/home/nbuser/anaconda3_501/lib/python3.6/io.py'>,\n",
       " 'abc': <module 'abc' from '/home/nbuser/anaconda3_501/lib/python3.6/abc.py'>,\n",
       " '_weakrefset': <module '_weakrefset' from '/home/nbuser/anaconda3_501/lib/python3.6/_weakrefset.py'>,\n",
       " '_bootlocale': <module '_bootlocale' from '/home/nbuser/anaconda3_501/lib/python3.6/_bootlocale.py'>,\n",
       " '_locale': <module '_locale' (built-in)>,\n",
       " 'site': <module 'site' from '/home/nbuser/anaconda3_501/lib/python3.6/site.py'>,\n",
       " 'os': <module 'os' from '/home/nbuser/anaconda3_501/lib/python3.6/os.py'>,\n",
       " 'errno': <module 'errno' (built-in)>,\n",
       " 'stat': <module 'stat' from '/home/nbuser/anaconda3_501/lib/python3.6/stat.py'>,\n",
       " '_stat': <module '_stat' (built-in)>,\n",
       " 'posixpath': <module 'posixpath' from '/home/nbuser/anaconda3_501/lib/python3.6/posixpath.py'>,\n",
       " 'genericpath': <module 'genericpath' from '/home/nbuser/anaconda3_501/lib/python3.6/genericpath.py'>,\n",
       " 'os.path': <module 'posixpath' from '/home/nbuser/anaconda3_501/lib/python3.6/posixpath.py'>,\n",
       " '_collections_abc': <module '_collections_abc' from '/home/nbuser/anaconda3_501/lib/python3.6/_collections_abc.py'>,\n",
       " '_sitebuiltins': <module '_sitebuiltins' from '/home/nbuser/anaconda3_501/lib/python3.6/_sitebuiltins.py'>,\n",
       " 'sysconfig': <module 'sysconfig' from '/home/nbuser/anaconda3_501/lib/python3.6/sysconfig.py'>,\n",
       " '_sysconfigdata_m_linux_x86_64-linux-gnu': <module '_sysconfigdata_m_linux_x86_64-linux-gnu' from '/home/nbuser/anaconda3_501/lib/python3.6/_sysconfigdata_m_linux_x86_64-linux-gnu.py'>,\n",
       " 'types': <module 'types' from '/home/nbuser/anaconda3_501/lib/python3.6/types.py'>,\n",
       " 'functools': <module 'functools' from '/home/nbuser/anaconda3_501/lib/python3.6/functools.py'>,\n",
       " '_functools': <module '_functools' (built-in)>,\n",
       " 'collections': <module 'collections' from '/home/nbuser/anaconda3_501/lib/python3.6/collections/__init__.py'>,\n",
       " 'operator': <module 'operator' from '/home/nbuser/anaconda3_501/lib/python3.6/operator.py'>,\n",
       " '_operator': <module '_operator' (built-in)>,\n",
       " 'keyword': <module 'keyword' from '/home/nbuser/anaconda3_501/lib/python3.6/keyword.py'>,\n",
       " 'heapq': <module 'heapq' from '/home/nbuser/anaconda3_501/lib/python3.6/heapq.py'>,\n",
       " '_heapq': <module '_heapq' from '/home/nbuser/anaconda3_501/lib/python3.6/lib-dynload/_heapq.cpython-36m-x86_64-linux-gnu.so'>,\n",
       " 'itertools': <module 'itertools' (built-in)>,\n",
       " 'reprlib': <module 'reprlib' from '/home/nbuser/anaconda3_501/lib/python3.6/reprlib.py'>,\n",
       " '_collections': <module '_collections' (built-in)>,\n",
       " 'weakref': <module 'weakref' from '/home/nbuser/anaconda3_501/lib/python3.6/weakref.py'>,\n",
       " 'collections.abc': <module 'collections.abc' from '/home/nbuser/anaconda3_501/lib/python3.6/collections/abc.py'>,\n",
       " 'importlib': <module 'importlib' from '/home/nbuser/anaconda3_501/lib/python3.6/importlib/__init__.py'>,\n",
       " 'importlib._bootstrap': <module 'importlib._bootstrap' (frozen)>,\n",
       " 'importlib._bootstrap_external': <module 'importlib._bootstrap_external' (frozen)>,\n",
       " 'warnings': <module 'warnings' from '/home/nbuser/anaconda3_501/lib/python3.6/warnings.py'>,\n",
       " 'importlib.util': <module 'importlib.util' from '/home/nbuser/anaconda3_501/lib/python3.6/importlib/util.py'>,\n",
       " 'importlib.abc': <module 'importlib.abc' from '/home/nbuser/anaconda3_501/lib/python3.6/importlib/abc.py'>,\n",
       " 'importlib.machinery': <module 'importlib.machinery' from '/home/nbuser/anaconda3_501/lib/python3.6/importlib/machinery.py'>,\n",
       " 'contextlib': <module 'contextlib' from '/home/nbuser/anaconda3_501/lib/python3.6/contextlib.py'>,\n",
       " 'azure': <module 'azure' from '/home/nbuser/anaconda3_501/lib/python3.6/site-packages/azure/__init__.py'>,\n",
       " 'mpl_toolkits': <module 'mpl_toolkits' (namespace)>,\n",
       " 'google': <module 'google' (namespace)>,\n",
       " 'ruamel': <module 'ruamel' (namespace)>,\n",
       " 'sphinxcontrib': <module 'sphinxcontrib' from '/home/nbuser/anaconda3_501/lib/python3.6/site-packages/sphinxcontrib/__init__.py'>,\n",
       " 'zope': <module 'zope' from '/home/nbuser/anaconda3_501/lib/python3.6/site-packages/zope/__init__.py'>,\n",
       " 'runpy': <module 'runpy' from '/home/nbuser/anaconda3_501/lib/python3.6/runpy.py'>,\n",
       " 'pkgutil': <module 'pkgutil' from '/home/nbuser/anaconda3_501/lib/python3.6/pkgutil.py'>,\n",
       " 'ipykernel': <module 'ipykernel' from '/home/nbuser/anaconda3_501/lib/python3.6/site-packages/ipykernel/__init__.py'>,\n",
       " 'ipykernel._version': <module 'ipykernel._version' from '/home/nbuser/anaconda3_501/lib/python3.6/site-packages/ipykernel/_version.py'>,\n",
       " 'ipykernel.connect': <module 'ipykernel.connect' from '/home/nbuser/anaconda3_501/lib/python3.6/site-packages/ipykernel/connect.py'>,\n",
       " '__future__': <module '__future__' from '/home/nbuser/anaconda3_501/lib/python3.6/__future__.py'>,\n",
       " 'json': <module 'json' from '/home/nbuser/anaconda3_501/lib/python3.6/json/__init__.py'>,\n",
       " 'json.decoder': <module 'json.decoder' from '/home/nbuser/anaconda3_501/lib/python3.6/json/decoder.py'>,\n",
       " 're': <module 're' from '/home/nbuser/anaconda3_501/lib/python3.6/re.py'>,\n",
       " 'enum': <module 'enum' from '/home/nbuser/anaconda3_501/lib/python3.6/enum.py'>,\n",
       " 'sre_compile': <module 'sre_compile' from '/home/nbuser/anaconda3_501/lib/python3.6/sre_compile.py'>,\n",
       " '_sre': <module '_sre' (built-in)>,\n",
       " 'sre_parse': <module 'sre_parse' from '/home/nbuser/anaconda3_501/lib/python3.6/sre_parse.py'>,\n",
       " 'sre_constants': <module 'sre_constants' from '/home/nbuser/anaconda3_501/lib/python3.6/sre_constants.py'>,\n",
       " 'copyreg': <module 'copyreg' from '/home/nbuser/anaconda3_501/lib/python3.6/copyreg.py'>,\n",
       " 'json.scanner': <module 'json.scanner' from '/home/nbuser/anaconda3_501/lib/python3.6/json/scanner.py'>,\n",
       " '_json': <module '_json' from '/home/nbuser/anaconda3_501/lib/python3.6/lib-dynload/_json.cpython-36m-x86_64-linux-gnu.so'>,\n",
       " 'json.encoder': <module 'json.encoder' from '/home/nbuser/anaconda3_501/lib/python3.6/json/encoder.py'>,\n",
       " 'subprocess': <module 'subprocess' from '/home/nbuser/anaconda3_501/lib/python3.6/subprocess.py'>,\n",
       " 'time': <module 'time' (built-in)>,\n",
       " 'signal': <module 'signal' from '/home/nbuser/anaconda3_501/lib/python3.6/signal.py'>,\n",
       " '_posixsubprocess': <module '_posixsubprocess' from '/home/nbuser/anaconda3_501/lib/python3.6/lib-dynload/_posixsubprocess.cpython-36m-x86_64-linux-gnu.so'>,\n",
       " 'select': <module 'select' from '/home/nbuser/anaconda3_501/lib/python3.6/lib-dynload/select.cpython-36m-x86_64-linux-gnu.so'>,\n",
       " 'selectors': <module 'selectors' from '/home/nbuser/anaconda3_501/lib/python3.6/selectors.py'>,\n",
       " 'math': <module 'math' from '/home/nbuser/anaconda3_501/lib/python3.6/lib-dynload/math.cpython-36m-x86_64-linux-gnu.so'>,\n",
       " 'threading': <module 'threading' from '/home/nbuser/anaconda3_501/lib/python3.6/threading.py'>,\n",
       " 'traceback': <module 'traceback' from '/home/nbuser/anaconda3_501/lib/python3.6/traceback.py'>,\n",
       " 'linecache': <module 'linecache' from '/home/nbuser/anaconda3_501/lib/python3.6/linecache.py'>,\n",
       " 'tokenize': <module 'tokenize' from '/home/nbuser/anaconda3_501/lib/python3.6/tokenize.py'>,\n",
       " 'token': <module 'token' from '/home/nbuser/anaconda3_501/lib/python3.6/token.py'>,\n",
       " 'IPython': <module 'IPython' from '/home/nbuser/anaconda3_501/lib/python3.6/site-packages/IPython/__init__.py'>,\n",
       " 'IPython.core': <module 'IPython.core' from '/home/nbuser/anaconda3_501/lib/python3.6/site-packages/IPython/core/__init__.py'>,\n",
       " 'IPython.core.getipython': <module 'IPython.core.getipython' from '/home/nbuser/anaconda3_501/lib/python3.6/site-packages/IPython/core/getipython.py'>,\n",
       " 'IPython.core.release': <module 'IPython.core.release' from '/home/nbuser/anaconda3_501/lib/python3.6/site-packages/IPython/core/release.py'>,\n",
       " 'IPython.core.application': <module 'IPython.core.application' from '/home/nbuser/anaconda3_501/lib/python3.6/site-packages/IPython/core/application.py'>,\n",
       " 'atexit': <module 'atexit' (built-in)>,\n",
       " 'copy': <module 'copy' from '/home/nbuser/anaconda3_501/lib/python3.6/copy.py'>,\n",
       " 'glob': <module 'glob' from '/home/nbuser/anaconda3_501/lib/python3.6/glob.py'>,\n",
       " 'fnmatch': <module 'fnmatch' from '/home/nbuser/anaconda3_501/lib/python3.6/fnmatch.py'>,\n",
       " 'logging': <module 'logging' from '/home/nbuser/anaconda3_501/lib/python3.6/logging/__init__.py'>,\n",
       " 'string': <module 'string' from '/home/nbuser/anaconda3_501/lib/python3.6/string.py'>,\n",
       " '_string': <module '_string' (built-in)>,\n",
       " 'shutil': <module 'shutil' from '/home/nbuser/anaconda3_501/lib/python3.6/shutil.py'>,\n",
       " 'zlib': <module 'zlib' from '/home/nbuser/anaconda3_501/lib/python3.6/lib-dynload/zlib.cpython-36m-x86_64-linux-gnu.so'>,\n",
       " 'bz2': <module 'bz2' from '/home/nbuser/anaconda3_501/lib/python3.6/bz2.py'>,\n",
       " '_compression': <module '_compression' from '/home/nbuser/anaconda3_501/lib/python3.6/_compression.py'>,\n",
       " '_bz2': <module '_bz2' from '/home/nbuser/anaconda3_501/lib/python3.6/lib-dynload/_bz2.cpython-36m-x86_64-linux-gnu.so'>,\n",
       " 'lzma': <module 'lzma' from '/home/nbuser/anaconda3_501/lib/python3.6/lzma.py'>,\n",
       " '_lzma': <module '_lzma' from '/home/nbuser/anaconda3_501/lib/python3.6/lib-dynload/_lzma.cpython-36m-x86_64-linux-gnu.so'>,\n",
       " 'pwd': <module 'pwd' (built-in)>,\n",
       " 'grp': <module 'grp' from '/home/nbuser/anaconda3_501/lib/python3.6/lib-dynload/grp.cpython-36m-x86_64-linux-gnu.so'>,\n",
       " 'traitlets': <module 'traitlets' from '/home/nbuser/anaconda3_501/lib/python3.6/site-packages/traitlets/__init__.py'>,\n",
       " 'traitlets.traitlets': <module 'traitlets.traitlets' from '/home/nbuser/anaconda3_501/lib/python3.6/site-packages/traitlets/traitlets.py'>,\n",
       " 'inspect': <module 'inspect' from '/home/nbuser/anaconda3_501/lib/python3.6/inspect.py'>,\n",
       " 'ast': <module 'ast' from '/home/nbuser/anaconda3_501/lib/python3.6/ast.py'>,\n",
       " '_ast': <module '_ast' (built-in)>,\n",
       " 'dis': <module 'dis' from '/home/nbuser/anaconda3_501/lib/python3.6/dis.py'>,\n",
       " 'opcode': <module 'opcode' from '/home/nbuser/anaconda3_501/lib/python3.6/opcode.py'>,\n",
       " '_opcode': <module '_opcode' from '/home/nbuser/anaconda3_501/lib/python3.6/lib-dynload/_opcode.cpython-36m-x86_64-linux-gnu.so'>,\n",
       " 'six': <module 'six' from '/home/nbuser/anaconda3_501/lib/python3.6/site-packages/six.py'>,\n",
       " 'struct': <module 'struct' from '/home/nbuser/anaconda3_501/lib/python3.6/struct.py'>,\n",
       " '_struct': <module '_struct' from '/home/nbuser/anaconda3_501/lib/python3.6/lib-dynload/_struct.cpython-36m-x86_64-linux-gnu.so'>,\n",
       " 'traitlets.utils': <module 'traitlets.utils' from '/home/nbuser/anaconda3_501/lib/python3.6/site-packages/traitlets/utils/__init__.py'>,\n",
       " 'traitlets.utils.getargspec': <module 'traitlets.utils.getargspec' from '/home/nbuser/anaconda3_501/lib/python3.6/site-packages/traitlets/utils/getargspec.py'>,\n",
       " 'traitlets.utils.importstring': <module 'traitlets.utils.importstring' from '/home/nbuser/anaconda3_501/lib/python3.6/site-packages/traitlets/utils/importstring.py'>,\n",
       " 'ipython_genutils': <module 'ipython_genutils' from '/home/nbuser/anaconda3_501/lib/python3.6/site-packages/ipython_genutils/__init__.py'>,\n",
       " 'ipython_genutils._version': <module 'ipython_genutils._version' from '/home/nbuser/anaconda3_501/lib/python3.6/site-packages/ipython_genutils/_version.py'>,\n",
       " 'ipython_genutils.py3compat': <module 'ipython_genutils.py3compat' from '/home/nbuser/anaconda3_501/lib/python3.6/site-packages/ipython_genutils/py3compat.py'>,\n",
       " 'ipython_genutils.encoding': <module 'ipython_genutils.encoding' from '/home/nbuser/anaconda3_501/lib/python3.6/site-packages/ipython_genutils/encoding.py'>,\n",
       " 'locale': <module 'locale' from '/home/nbuser/anaconda3_501/lib/python3.6/locale.py'>,\n",
       " 'platform': <module 'platform' from '/home/nbuser/anaconda3_501/lib/python3.6/platform.py'>,\n",
       " 'traitlets.utils.sentinel': <module 'traitlets.utils.sentinel' from '/home/nbuser/anaconda3_501/lib/python3.6/site-packages/traitlets/utils/sentinel.py'>,\n",
       " 'traitlets.utils.bunch': <module 'traitlets.utils.bunch' from '/home/nbuser/anaconda3_501/lib/python3.6/site-packages/traitlets/utils/bunch.py'>,\n",
       " 'traitlets._version': <module 'traitlets._version' from '/home/nbuser/anaconda3_501/lib/python3.6/site-packages/traitlets/_version.py'>,\n",
       " 'traitlets.config': <module 'traitlets.config' from '/home/nbuser/anaconda3_501/lib/python3.6/site-packages/traitlets/config/__init__.py'>,\n",
       " 'traitlets.config.application': <module 'traitlets.config.application' from '/home/nbuser/anaconda3_501/lib/python3.6/site-packages/traitlets/config/application.py'>,\n",
       " 'decorator': <module 'decorator' from '/home/nbuser/anaconda3_501/lib/python3.6/site-packages/decorator.py'>,\n",
       " 'traitlets.config.configurable': <module 'traitlets.config.configurable' from '/home/nbuser/anaconda3_501/lib/python3.6/site-packages/traitlets/config/configurable.py'>,\n",
       " 'traitlets.config.loader': <module 'traitlets.config.loader' from '/home/nbuser/anaconda3_501/lib/python3.6/site-packages/traitlets/config/loader.py'>,\n",
       " 'argparse': <module 'argparse' from '/home/nbuser/anaconda3_501/lib/python3.6/argparse.py'>,\n",
       " 'textwrap': <module 'textwrap' from '/home/nbuser/anaconda3_501/lib/python3.6/textwrap.py'>,\n",
       " 'gettext': <module 'gettext' from '/home/nbuser/anaconda3_501/lib/python3.6/gettext.py'>,\n",
       " 'ipython_genutils.path': <module 'ipython_genutils.path' from '/home/nbuser/anaconda3_501/lib/python3.6/site-packages/ipython_genutils/path.py'>,\n",
       " 'random': <module 'random' from '/home/nbuser/anaconda3_501/lib/python3.6/random.py'>,\n",
       " 'hashlib': <module 'hashlib' from '/home/nbuser/anaconda3_501/lib/python3.6/hashlib.py'>,\n",
       " '_hashlib': <module '_hashlib' from '/home/nbuser/anaconda3_501/lib/python3.6/lib-dynload/_hashlib.cpython-36m-x86_64-linux-gnu.so'>,\n",
       " '_blake2': <module '_blake2' from '/home/nbuser/anaconda3_501/lib/python3.6/lib-dynload/_blake2.cpython-36m-x86_64-linux-gnu.so'>,\n",
       " '_sha3': <module '_sha3' from '/home/nbuser/anaconda3_501/lib/python3.6/lib-dynload/_sha3.cpython-36m-x86_64-linux-gnu.so'>,\n",
       " 'bisect': <module 'bisect' from '/home/nbuser/anaconda3_501/lib/python3.6/bisect.py'>,\n",
       " '_bisect': <module '_bisect' from '/home/nbuser/anaconda3_501/lib/python3.6/lib-dynload/_bisect.cpython-36m-x86_64-linux-gnu.so'>,\n",
       " '_random': <module '_random' from '/home/nbuser/anaconda3_501/lib/python3.6/lib-dynload/_random.cpython-36m-x86_64-linux-gnu.so'>,\n",
       " 'ipython_genutils.text': <module 'ipython_genutils.text' from '/home/nbuser/anaconda3_501/lib/python3.6/site-packages/ipython_genutils/text.py'>,\n",
       " 'ipython_genutils.importstring': <module 'ipython_genutils.importstring' from '/home/nbuser/anaconda3_501/lib/python3.6/site-packages/ipython_genutils/importstring.py'>,\n",
       " 'IPython.core.crashhandler': <module 'IPython.core.crashhandler' from '/home/nbuser/anaconda3_501/lib/python3.6/site-packages/IPython/core/crashhandler.py'>,\n",
       " 'pprint': <module 'pprint' from '/home/nbuser/anaconda3_501/lib/python3.6/pprint.py'>,\n",
       " 'IPython.core.ultratb': <module 'IPython.core.ultratb' from '/home/nbuser/anaconda3_501/lib/python3.6/site-packages/IPython/core/ultratb.py'>,\n",
       " 'pydoc': <module 'pydoc' from '/home/nbuser/anaconda3_501/lib/python3.6/pydoc.py'>,\n",
       " 'urllib': <module 'urllib' from '/home/nbuser/anaconda3_501/lib/python3.6/urllib/__init__.py'>,\n",
       " 'urllib.parse': <module 'urllib.parse' from '/home/nbuser/anaconda3_501/lib/python3.6/urllib/parse.py'>,\n",
       " 'IPython.core.debugger': <module 'IPython.core.debugger' from '/home/nbuser/anaconda3_501/lib/python3.6/site-packages/IPython/core/debugger.py'>,\n",
       " 'bdb': <module 'bdb' from '/home/nbuser/anaconda3_501/lib/python3.6/bdb.py'>,\n",
       " 'IPython.utils': <module 'IPython.utils' from '/home/nbuser/anaconda3_501/lib/python3.6/site-packages/IPython/utils/__init__.py'>,\n",
       " 'IPython.utils.PyColorize': <module 'IPython.utils.PyColorize' from '/home/nbuser/anaconda3_501/lib/python3.6/site-packages/IPython/utils/PyColorize.py'>,\n",
       " 'IPython.utils.coloransi': <module 'IPython.utils.coloransi' from '/home/nbuser/anaconda3_501/lib/python3.6/site-packages/IPython/utils/coloransi.py'>,\n",
       " 'IPython.utils.ipstruct': <module 'IPython.utils.ipstruct' from '/home/nbuser/anaconda3_501/lib/python3.6/site-packages/IPython/utils/ipstruct.py'>,\n",
       " 'IPython.utils.colorable': <module 'IPython.utils.colorable' from '/home/nbuser/anaconda3_501/lib/python3.6/site-packages/IPython/utils/colorable.py'>,\n",
       " 'pygments': <module 'pygments' from '/home/nbuser/anaconda3_501/lib/python3.6/site-packages/pygments/__init__.py'>,\n",
       " 'pygments.util': <module 'pygments.util' from '/home/nbuser/anaconda3_501/lib/python3.6/site-packages/pygments/util.py'>,\n",
       " 'IPython.utils.py3compat': <module 'IPython.utils.py3compat' from '/home/nbuser/anaconda3_501/lib/python3.6/site-packages/IPython/utils/py3compat.py'>,\n",
       " 'IPython.utils.encoding': <module 'IPython.utils.encoding' from '/home/nbuser/anaconda3_501/lib/python3.6/site-packages/IPython/utils/encoding.py'>,\n",
       " 'IPython.core.excolors': <module 'IPython.core.excolors' from '/home/nbuser/anaconda3_501/lib/python3.6/site-packages/IPython/core/excolors.py'>,\n",
       " 'IPython.testing': <module 'IPython.testing' from '/home/nbuser/anaconda3_501/lib/python3.6/site-packages/IPython/testing/__init__.py'>,\n",
       " 'IPython.testing.skipdoctest': <module 'IPython.testing.skipdoctest' from '/home/nbuser/anaconda3_501/lib/python3.6/site-packages/IPython/testing/skipdoctest.py'>,\n",
       " 'pdb': <module 'pdb' from '/home/nbuser/anaconda3_501/lib/python3.6/pdb.py'>,\n",
       " 'cmd': <module 'cmd' from '/home/nbuser/anaconda3_501/lib/python3.6/cmd.py'>,\n",
       " 'code': <module 'code' from '/home/nbuser/anaconda3_501/lib/python3.6/code.py'>,\n",
       " 'codeop': <module 'codeop' from '/home/nbuser/anaconda3_501/lib/python3.6/codeop.py'>,\n",
       " 'IPython.core.display_trap': <module 'IPython.core.display_trap' from '/home/nbuser/anaconda3_501/lib/python3.6/site-packages/IPython/core/display_trap.py'>,\n",
       " 'IPython.utils.path': <module 'IPython.utils.path' from '/home/nbuser/anaconda3_501/lib/python3.6/site-packages/IPython/utils/path.py'>,\n",
       " 'IPython.utils.process': <module 'IPython.utils.process' from '/home/nbuser/anaconda3_501/lib/python3.6/site-packages/IPython/utils/process.py'>,\n",
       " 'IPython.utils._process_posix': <module 'IPython.utils._process_posix' from '/home/nbuser/anaconda3_501/lib/python3.6/site-packages/IPython/utils/_process_posix.py'>,\n",
       " 'pexpect': <module 'pexpect' from '/home/nbuser/anaconda3_501/lib/python3.6/site-packages/pexpect/__init__.py'>,\n",
       " 'pexpect.exceptions': <module 'pexpect.exceptions' from '/home/nbuser/anaconda3_501/lib/python3.6/site-packages/pexpect/exceptions.py'>,\n",
       " 'pexpect.utils': <module 'pexpect.utils' from '/home/nbuser/anaconda3_501/lib/python3.6/site-packages/pexpect/utils.py'>,\n",
       " 'pexpect.expect': <module 'pexpect.expect' from '/home/nbuser/anaconda3_501/lib/python3.6/site-packages/pexpect/expect.py'>,\n",
       " 'pexpect.pty_spawn': <module 'pexpect.pty_spawn' from '/home/nbuser/anaconda3_501/lib/python3.6/site-packages/pexpect/pty_spawn.py'>,\n",
       " 'pty': <module 'pty' from '/home/nbuser/anaconda3_501/lib/python3.6/pty.py'>,\n",
       " 'tty': <module 'tty' from '/home/nbuser/anaconda3_501/lib/python3.6/tty.py'>,\n",
       " 'termios': <module 'termios' from '/home/nbuser/anaconda3_501/lib/python3.6/lib-dynload/termios.cpython-36m-x86_64-linux-gnu.so'>,\n",
       " 'ptyprocess': <module 'ptyprocess' from '/home/nbuser/anaconda3_501/lib/python3.6/site-packages/ptyprocess/__init__.py'>,\n",
       " 'ptyprocess.ptyprocess': <module 'ptyprocess.ptyprocess' from '/home/nbuser/anaconda3_501/lib/python3.6/site-packages/ptyprocess/ptyprocess.py'>,\n",
       " 'fcntl': <module 'fcntl' from '/home/nbuser/anaconda3_501/lib/python3.6/lib-dynload/fcntl.cpython-36m-x86_64-linux-gnu.so'>,\n",
       " 'resource': <module 'resource' from '/home/nbuser/anaconda3_501/lib/python3.6/lib-dynload/resource.cpython-36m-x86_64-linux-gnu.so'>,\n",
       " 'ptyprocess.util': <module 'ptyprocess.util' from '/home/nbuser/anaconda3_501/lib/python3.6/site-packages/ptyprocess/util.py'>,\n",
       " 'pexpect.spawnbase': <module 'pexpect.spawnbase' from '/home/nbuser/anaconda3_501/lib/python3.6/site-packages/pexpect/spawnbase.py'>,\n",
       " 'pexpect.run': <module 'pexpect.run' from '/home/nbuser/anaconda3_501/lib/python3.6/site-packages/pexpect/run.py'>,\n",
       " 'IPython.utils._process_common': <module 'IPython.utils._process_common' from '/home/nbuser/anaconda3_501/lib/python3.6/site-packages/IPython/utils/_process_common.py'>,\n",
       " 'shlex': <module 'shlex' from '/home/nbuser/anaconda3_501/lib/python3.6/shlex.py'>,\n",
       " 'IPython.utils.decorators': <module 'IPython.utils.decorators' from '/home/nbuser/anaconda3_501/lib/python3.6/site-packages/IPython/utils/decorators.py'>,\n",
       " 'IPython.utils.data': <module 'IPython.utils.data' from '/home/nbuser/anaconda3_501/lib/python3.6/site-packages/IPython/utils/data.py'>,\n",
       " 'IPython.utils.terminal': <module 'IPython.utils.terminal' from '/home/nbuser/anaconda3_501/lib/python3.6/site-packages/IPython/utils/terminal.py'>,\n",
       " 'IPython.utils.sysinfo': <module 'IPython.utils.sysinfo' from '/home/nbuser/anaconda3_501/lib/python3.6/site-packages/IPython/utils/sysinfo.py'>,\n",
       " 'IPython.utils._sysinfo': <module 'IPython.utils._sysinfo' from '/home/nbuser/anaconda3_501/lib/python3.6/site-packages/IPython/utils/_sysinfo.py'>,\n",
       " 'IPython.core.profiledir': <module 'IPython.core.profiledir' from '/home/nbuser/anaconda3_501/lib/python3.6/site-packages/IPython/core/profiledir.py'>,\n",
       " 'IPython.paths': <module 'IPython.paths' from '/home/nbuser/anaconda3_501/lib/python3.6/site-packages/IPython/paths.py'>,\n",
       " 'tempfile': <module 'tempfile' from '/home/nbuser/anaconda3_501/lib/python3.6/tempfile.py'>,\n",
       " 'IPython.utils.importstring': <module 'IPython.utils.importstring' from '/home/nbuser/anaconda3_501/lib/python3.6/site-packages/IPython/utils/importstring.py'>,\n",
       " 'IPython.terminal': <module 'IPython.terminal' from '/home/nbuser/anaconda3_501/lib/python3.6/site-packages/IPython/terminal/__init__.py'>,\n",
       " 'IPython.terminal.embed': <module 'IPython.terminal.embed' from '/home/nbuser/anaconda3_501/lib/python3.6/site-packages/IPython/terminal/embed.py'>,\n",
       " 'IPython.core.compilerop': <module 'IPython.core.compilerop' from '/home/nbuser/anaconda3_501/lib/python3.6/site-packages/IPython/core/compilerop.py'>,\n",
       " 'IPython.core.magic_arguments': <module 'IPython.core.magic_arguments' from '/home/nbuser/anaconda3_501/lib/python3.6/site-packages/IPython/core/magic_arguments.py'>,\n",
       " 'IPython.core.error': <module 'IPython.core.error' from '/home/nbuser/anaconda3_501/lib/python3.6/site-packages/IPython/core/error.py'>,\n",
       " 'IPython.utils.text': <module 'IPython.utils.text' from '/home/nbuser/anaconda3_501/lib/python3.6/site-packages/IPython/utils/text.py'>,\n",
       " 'pathlib': <module 'pathlib' from '/home/nbuser/anaconda3_501/lib/python3.6/pathlib.py'>,\n",
       " 'ntpath': <module 'ntpath' from '/home/nbuser/anaconda3_501/lib/python3.6/ntpath.py'>,\n",
       " 'IPython.core.magic': <module 'IPython.core.magic' from '/home/nbuser/anaconda3_501/lib/python3.6/site-packages/IPython/core/magic.py'>,\n",
       " 'getopt': <module 'getopt' from '/home/nbuser/anaconda3_501/lib/python3.6/getopt.py'>,\n",
       " 'IPython.core.oinspect': <module 'IPython.core.oinspect' from '/home/nbuser/anaconda3_501/lib/python3.6/site-packages/IPython/core/oinspect.py'>,\n",
       " 'IPython.core.page': <module 'IPython.core.page' from '/home/nbuser/anaconda3_501/lib/python3.6/site-packages/IPython/core/page.py'>,\n",
       " 'IPython.core.display': <module 'IPython.core.display' from '/home/nbuser/anaconda3_501/lib/python3.6/site-packages/IPython/core/display.py'>,\n",
       " 'binascii': <module 'binascii' from '/home/nbuser/anaconda3_501/lib/python3.6/lib-dynload/binascii.cpython-36m-x86_64-linux-gnu.so'>,\n",
       " 'mimetypes': <module 'mimetypes' from '/home/nbuser/anaconda3_501/lib/python3.6/mimetypes.py'>,\n",
       " 'IPython.lib': <module 'IPython.lib' from '/home/nbuser/anaconda3_501/lib/python3.6/site-packages/IPython/lib/__init__.py'>,\n",
       " 'IPython.lib.security': <module 'IPython.lib.security' from '/home/nbuser/anaconda3_501/lib/python3.6/site-packages/IPython/lib/security.py'>,\n",
       " 'getpass': <module 'getpass' from '/home/nbuser/anaconda3_501/lib/python3.6/getpass.py'>,\n",
       " 'IPython.lib.pretty': <module 'IPython.lib.pretty' from '/home/nbuser/anaconda3_501/lib/python3.6/site-packages/IPython/lib/pretty.py'>,\n",
       " 'datetime': <module 'datetime' from '/home/nbuser/anaconda3_501/lib/python3.6/datetime.py'>,\n",
       " '_datetime': <module '_datetime' from '/home/nbuser/anaconda3_501/lib/python3.6/lib-dynload/_datetime.cpython-36m-x86_64-linux-gnu.so'>,\n",
       " 'IPython.utils.openpy': <module 'IPython.utils.openpy' from '/home/nbuser/anaconda3_501/lib/python3.6/site-packages/IPython/utils/openpy.py'>,\n",
       " 'IPython.utils.dir2': <module 'IPython.utils.dir2' from '/home/nbuser/anaconda3_501/lib/python3.6/site-packages/IPython/utils/dir2.py'>,\n",
       " 'IPython.utils.wildcard': <module 'IPython.utils.wildcard' from '/home/nbuser/anaconda3_501/lib/python3.6/site-packages/IPython/utils/wildcard.py'>,\n",
       " 'pygments.lexers': <module 'pygments.lexers' from '/home/nbuser/anaconda3_501/lib/python3.6/site-packages/pygments/lexers/__init__.py'>,\n",
       " 'pygments.lexers._mapping': <module 'pygments.lexers._mapping' from '/home/nbuser/anaconda3_501/lib/python3.6/site-packages/pygments/lexers/_mapping.py'>,\n",
       " 'pygments.modeline': <module 'pygments.modeline' from '/home/nbuser/anaconda3_501/lib/python3.6/site-packages/pygments/modeline.py'>,\n",
       " 'pygments.plugin': <module 'pygments.plugin' from '/home/nbuser/anaconda3_501/lib/python3.6/site-packages/pygments/plugin.py'>,\n",
       " 'pygments.lexers.python': <module 'pygments.lexers.python' from '/home/nbuser/anaconda3_501/lib/python3.6/site-packages/pygments/lexers/python.py'>,\n",
       " 'pygments.lexer': <module 'pygments.lexer' from '/home/nbuser/anaconda3_501/lib/python3.6/site-packages/pygments/lexer.py'>,\n",
       " 'pygments.filter': <module 'pygments.filter' from '/home/nbuser/anaconda3_501/lib/python3.6/site-packages/pygments/filter.py'>,\n",
       " 'pygments.filters': <module 'pygments.filters' from '/home/nbuser/anaconda3_501/lib/python3.6/site-packages/pygments/filters/__init__.py'>,\n",
       " 'pygments.token': <module 'pygments.token' from '/home/nbuser/anaconda3_501/lib/python3.6/site-packages/pygments/token.py'>,\n",
       " 'pygments.regexopt': <module 'pygments.regexopt' from '/home/nbuser/anaconda3_501/lib/python3.6/site-packages/pygments/regexopt.py'>,\n",
       " 'pygments.unistring': <module 'pygments.unistring' from '/home/nbuser/anaconda3_501/lib/python3.6/site-packages/pygments/unistring.py'>,\n",
       " 'pygments.formatters': <module 'pygments.formatters' from '/home/nbuser/anaconda3_501/lib/python3.6/site-packages/pygments/formatters/__init__.py'>,\n",
       " 'pygments.formatters._mapping': <module 'pygments.formatters._mapping' from '/home/nbuser/anaconda3_501/lib/python3.6/site-packages/pygments/formatters/_mapping.py'>,\n",
       " 'pygments.formatters.html': <module 'pygments.formatters.html' from '/home/nbuser/anaconda3_501/lib/python3.6/site-packages/pygments/formatters/html.py'>,\n",
       " 'pygments.formatter': <module 'pygments.formatter' from '/home/nbuser/anaconda3_501/lib/python3.6/site-packages/pygments/formatter.py'>,\n",
       " 'pygments.styles': <module 'pygments.styles' from '/home/nbuser/anaconda3_501/lib/python3.6/site-packages/pygments/styles/__init__.py'>,\n",
       " 'IPython.core.inputtransformer2': <module 'IPython.core.inputtransformer2' from '/home/nbuser/anaconda3_501/lib/python3.6/site-packages/IPython/core/inputtransformer2.py'>,\n",
       " 'typing': <module 'typing' from '/home/nbuser/anaconda3_501/lib/python3.6/typing.py'>,\n",
       " 'typing.io': typing.io,\n",
       " 'typing.re': typing.re,\n",
       " 'IPython.core.interactiveshell': <module 'IPython.core.interactiveshell' from '/home/nbuser/anaconda3_501/lib/python3.6/site-packages/IPython/core/interactiveshell.py'>,\n",
       " 'asyncio': <module 'asyncio' from '/home/nbuser/anaconda3_501/lib/python3.6/asyncio/__init__.py'>,\n",
       " 'asyncio.base_events': <module 'asyncio.base_events' from '/home/nbuser/anaconda3_501/lib/python3.6/asyncio/base_events.py'>,\n",
       " 'concurrent': <module 'concurrent' from '/home/nbuser/anaconda3_501/lib/python3.6/concurrent/__init__.py'>,\n",
       " 'concurrent.futures': <module 'concurrent.futures' from '/home/nbuser/anaconda3_501/lib/python3.6/concurrent/futures/__init__.py'>,\n",
       " 'concurrent.futures._base': <module 'concurrent.futures._base' from '/home/nbuser/anaconda3_501/lib/python3.6/concurrent/futures/_base.py'>,\n",
       " 'concurrent.futures.process': <module 'concurrent.futures.process' from '/home/nbuser/anaconda3_501/lib/python3.6/concurrent/futures/process.py'>,\n",
       " 'queue': <module 'queue' from '/home/nbuser/anaconda3_501/lib/python3.6/queue.py'>,\n",
       " 'multiprocessing': <module 'multiprocessing' from '/home/nbuser/anaconda3_501/lib/python3.6/multiprocessing/__init__.py'>,\n",
       " 'multiprocessing.context': <module 'multiprocessing.context' from '/home/nbuser/anaconda3_501/lib/python3.6/multiprocessing/context.py'>,\n",
       " 'multiprocessing.process': <module 'multiprocessing.process' from '/home/nbuser/anaconda3_501/lib/python3.6/multiprocessing/process.py'>,\n",
       " 'multiprocessing.reduction': <module 'multiprocessing.reduction' from '/home/nbuser/anaconda3_501/lib/python3.6/multiprocessing/reduction.py'>,\n",
       " 'pickle': <module 'pickle' from '/home/nbuser/anaconda3_501/lib/python3.6/pickle.py'>,\n",
       " '_compat_pickle': <module '_compat_pickle' from '/home/nbuser/anaconda3_501/lib/python3.6/_compat_pickle.py'>,\n",
       " '_pickle': <module '_pickle' from '/home/nbuser/anaconda3_501/lib/python3.6/lib-dynload/_pickle.cpython-36m-x86_64-linux-gnu.so'>,\n",
       " 'socket': <module 'socket' from '/home/nbuser/anaconda3_501/lib/python3.6/socket.py'>,\n",
       " '_socket': <module '_socket' from '/home/nbuser/anaconda3_501/lib/python3.6/lib-dynload/_socket.cpython-36m-x86_64-linux-gnu.so'>,\n",
       " 'array': <module 'array' from '/home/nbuser/anaconda3_501/lib/python3.6/lib-dynload/array.cpython-36m-x86_64-linux-gnu.so'>,\n",
       " '__mp_main__': <module 'ipykernel.__main__' from '/home/nbuser/anaconda3_501/lib/python3.6/site-packages/ipykernel/__main__.py'>,\n",
       " 'multiprocessing.connection': <module 'multiprocessing.connection' from '/home/nbuser/anaconda3_501/lib/python3.6/multiprocessing/connection.py'>,\n",
       " '_multiprocessing': <module '_multiprocessing' from '/home/nbuser/anaconda3_501/lib/python3.6/lib-dynload/_multiprocessing.cpython-36m-x86_64-linux-gnu.so'>,\n",
       " 'multiprocessing.util': <module 'multiprocessing.util' from '/home/nbuser/anaconda3_501/lib/python3.6/multiprocessing/util.py'>,\n",
       " 'concurrent.futures.thread': <module 'concurrent.futures.thread' from '/home/nbuser/anaconda3_501/lib/python3.6/concurrent/futures/thread.py'>,\n",
       " 'asyncio.compat': <module 'asyncio.compat' from '/home/nbuser/anaconda3_501/lib/python3.6/asyncio/compat.py'>,\n",
       " 'asyncio.coroutines': <module 'asyncio.coroutines' from '/home/nbuser/anaconda3_501/lib/python3.6/asyncio/coroutines.py'>,\n",
       " 'asyncio.constants': <module 'asyncio.constants' from '/home/nbuser/anaconda3_501/lib/python3.6/asyncio/constants.py'>,\n",
       " 'asyncio.events': <module 'asyncio.events' from '/home/nbuser/anaconda3_501/lib/python3.6/asyncio/events.py'>,\n",
       " 'asyncio.base_futures': <module 'asyncio.base_futures' from '/home/nbuser/anaconda3_501/lib/python3.6/asyncio/base_futures.py'>,\n",
       " 'asyncio.log': <module 'asyncio.log' from '/home/nbuser/anaconda3_501/lib/python3.6/asyncio/log.py'>,\n",
       " 'asyncio.futures': <module 'asyncio.futures' from '/home/nbuser/anaconda3_501/lib/python3.6/asyncio/futures.py'>,\n",
       " 'asyncio.base_tasks': <module 'asyncio.base_tasks' from '/home/nbuser/anaconda3_501/lib/python3.6/asyncio/base_tasks.py'>,\n",
       " '_asyncio': <module '_asyncio' from '/home/nbuser/anaconda3_501/lib/python3.6/lib-dynload/_asyncio.cpython-36m-x86_64-linux-gnu.so'>,\n",
       " 'asyncio.tasks': <module 'asyncio.tasks' from '/home/nbuser/anaconda3_501/lib/python3.6/asyncio/tasks.py'>,\n",
       " 'asyncio.locks': <module 'asyncio.locks' from '/home/nbuser/anaconda3_501/lib/python3.6/asyncio/locks.py'>,\n",
       " 'asyncio.protocols': <module 'asyncio.protocols' from '/home/nbuser/anaconda3_501/lib/python3.6/asyncio/protocols.py'>,\n",
       " 'asyncio.queues': <module 'asyncio.queues' from '/home/nbuser/anaconda3_501/lib/python3.6/asyncio/queues.py'>,\n",
       " 'asyncio.streams': <module 'asyncio.streams' from '/home/nbuser/anaconda3_501/lib/python3.6/asyncio/streams.py'>,\n",
       " 'asyncio.subprocess': <module 'asyncio.subprocess' from '/home/nbuser/anaconda3_501/lib/python3.6/asyncio/subprocess.py'>,\n",
       " 'asyncio.transports': <module 'asyncio.transports' from '/home/nbuser/anaconda3_501/lib/python3.6/asyncio/transports.py'>,\n",
       " 'asyncio.unix_events': <module 'asyncio.unix_events' from '/home/nbuser/anaconda3_501/lib/python3.6/asyncio/unix_events.py'>,\n",
       " 'asyncio.base_subprocess': <module 'asyncio.base_subprocess' from '/home/nbuser/anaconda3_501/lib/python3.6/asyncio/base_subprocess.py'>,\n",
       " 'asyncio.selector_events': <module 'asyncio.selector_events' from '/home/nbuser/anaconda3_501/lib/python3.6/asyncio/selector_events.py'>,\n",
       " 'ssl': <module 'ssl' from '/home/nbuser/anaconda3_501/lib/python3.6/ssl.py'>,\n",
       " 'ipaddress': <module 'ipaddress' from '/home/nbuser/anaconda3_501/lib/python3.6/ipaddress.py'>,\n",
       " '_ssl': <module '_ssl' from '/home/nbuser/anaconda3_501/lib/python3.6/lib-dynload/_ssl.cpython-36m-x86_64-linux-gnu.so'>,\n",
       " 'base64': <module 'base64' from '/home/nbuser/anaconda3_501/lib/python3.6/base64.py'>,\n",
       " 'asyncio.sslproto': <module 'asyncio.sslproto' from '/home/nbuser/anaconda3_501/lib/python3.6/asyncio/sslproto.py'>,\n",
       " 'pickleshare': <module 'pickleshare' from '/home/nbuser/anaconda3_501/lib/python3.6/site-packages/pickleshare.py'>,\n",
       " 'IPython.core.prefilter': <module 'IPython.core.prefilter' from '/home/nbuser/anaconda3_501/lib/python3.6/site-packages/IPython/core/prefilter.py'>,\n",
       " 'IPython.core.autocall': <module 'IPython.core.autocall' from '/home/nbuser/anaconda3_501/lib/python3.6/site-packages/IPython/core/autocall.py'>,\n",
       " 'IPython.core.macro': <module 'IPython.core.macro' from '/home/nbuser/anaconda3_501/lib/python3.6/site-packages/IPython/core/macro.py'>,\n",
       " 'IPython.core.splitinput': <module 'IPython.core.splitinput' from '/home/nbuser/anaconda3_501/lib/python3.6/site-packages/IPython/core/splitinput.py'>,\n",
       " 'IPython.core.alias': <module 'IPython.core.alias' from '/home/nbuser/anaconda3_501/lib/python3.6/site-packages/IPython/core/alias.py'>,\n",
       " 'IPython.core.builtin_trap': <module 'IPython.core.builtin_trap' from '/home/nbuser/anaconda3_501/lib/python3.6/site-packages/IPython/core/builtin_trap.py'>,\n",
       " 'IPython.core.events': <module 'IPython.core.events' from '/home/nbuser/anaconda3_501/lib/python3.6/site-packages/IPython/core/events.py'>,\n",
       " 'backcall': <module 'backcall' from '/home/nbuser/anaconda3_501/lib/python3.6/site-packages/backcall/__init__.py'>,\n",
       " 'backcall.backcall': <module 'backcall.backcall' from '/home/nbuser/anaconda3_501/lib/python3.6/site-packages/backcall/backcall.py'>,\n",
       " 'IPython.core.displayhook': <module 'IPython.core.displayhook' from '/home/nbuser/anaconda3_501/lib/python3.6/site-packages/IPython/core/displayhook.py'>,\n",
       " 'IPython.core.displaypub': <module 'IPython.core.displaypub' from '/home/nbuser/anaconda3_501/lib/python3.6/site-packages/IPython/core/displaypub.py'>,\n",
       " 'IPython.core.extensions': <module 'IPython.core.extensions' from '/home/nbuser/anaconda3_501/lib/python3.6/site-packages/IPython/core/extensions.py'>,\n",
       " 'IPython.core.formatters': <module 'IPython.core.formatters' from '/home/nbuser/anaconda3_501/lib/python3.6/site-packages/IPython/core/formatters.py'>,\n",
       " 'IPython.utils.sentinel': <module 'IPython.utils.sentinel' from '/home/nbuser/anaconda3_501/lib/python3.6/site-packages/IPython/utils/sentinel.py'>,\n",
       " 'IPython.core.history': <module 'IPython.core.history' from '/home/nbuser/anaconda3_501/lib/python3.6/site-packages/IPython/core/history.py'>,\n",
       " 'sqlite3': <module 'sqlite3' from '/home/nbuser/anaconda3_501/lib/python3.6/sqlite3/__init__.py'>,\n",
       " 'sqlite3.dbapi2': <module 'sqlite3.dbapi2' from '/home/nbuser/anaconda3_501/lib/python3.6/sqlite3/dbapi2.py'>,\n",
       " '_sqlite3': <module '_sqlite3' from '/home/nbuser/anaconda3_501/lib/python3.6/lib-dynload/_sqlite3.cpython-36m-x86_64-linux-gnu.so'>,\n",
       " 'IPython.core.logger': <module 'IPython.core.logger' from '/home/nbuser/anaconda3_501/lib/python3.6/site-packages/IPython/core/logger.py'>,\n",
       " 'IPython.core.payload': <module 'IPython.core.payload' from '/home/nbuser/anaconda3_501/lib/python3.6/site-packages/IPython/core/payload.py'>,\n",
       " 'IPython.core.usage': <module 'IPython.core.usage' from '/home/nbuser/anaconda3_501/lib/python3.6/site-packages/IPython/core/usage.py'>,\n",
       " 'IPython.display': <module 'IPython.display' from '/home/nbuser/anaconda3_501/lib/python3.6/site-packages/IPython/display.py'>,\n",
       " 'IPython.lib.display': <module 'IPython.lib.display' from '/home/nbuser/anaconda3_501/lib/python3.6/site-packages/IPython/lib/display.py'>,\n",
       " 'html': <module 'html' from '/home/nbuser/anaconda3_501/lib/python3.6/html/__init__.py'>,\n",
       " 'html.entities': <module 'html.entities' from '/home/nbuser/anaconda3_501/lib/python3.6/html/entities.py'>,\n",
       " 'IPython.utils.io': <module 'IPython.utils.io' from '/home/nbuser/anaconda3_501/lib/python3.6/site-packages/IPython/utils/io.py'>,\n",
       " 'IPython.utils.capture': <module 'IPython.utils.capture' from '/home/nbuser/anaconda3_501/lib/python3.6/site-packages/IPython/utils/capture.py'>,\n",
       " 'IPython.utils.strdispatch': <module 'IPython.utils.strdispatch' from '/home/nbuser/anaconda3_501/lib/python3.6/site-packages/IPython/utils/strdispatch.py'>,\n",
       " 'IPython.core.hooks': <module 'IPython.core.hooks' from '/home/nbuser/anaconda3_501/lib/python3.6/site-packages/IPython/core/hooks.py'>,\n",
       " 'IPython.utils.syspathcontext': <module 'IPython.utils.syspathcontext' from '/home/nbuser/anaconda3_501/lib/python3.6/site-packages/IPython/utils/syspathcontext.py'>,\n",
       " 'IPython.utils.tempdir': <module 'IPython.utils.tempdir' from '/home/nbuser/anaconda3_501/lib/python3.6/site-packages/IPython/utils/tempdir.py'>,\n",
       " 'IPython.utils.contexts': <module 'IPython.utils.contexts' from '/home/nbuser/anaconda3_501/lib/python3.6/site-packages/IPython/utils/contexts.py'>,\n",
       " 'IPython.core.async_helpers': <module 'IPython.core.async_helpers' from '/home/nbuser/anaconda3_501/lib/python3.6/site-packages/IPython/core/async_helpers.py'>,\n",
       " 'IPython.terminal.interactiveshell': <module 'IPython.terminal.interactiveshell' from '/home/nbuser/anaconda3_501/lib/python3.6/site-packages/IPython/terminal/interactiveshell.py'>,\n",
       " 'prompt_toolkit': <module 'prompt_toolkit' from '/home/nbuser/anaconda3_501/lib/python3.6/site-packages/prompt_toolkit/__init__.py'>,\n",
       " 'prompt_toolkit.application': <module 'prompt_toolkit.application' from '/home/nbuser/anaconda3_501/lib/python3.6/site-packages/prompt_toolkit/application/__init__.py'>,\n",
       " 'prompt_toolkit.application.application': <module 'prompt_toolkit.application.application' from '/home/nbuser/anaconda3_501/lib/python3.6/site-packages/prompt_toolkit/application/application.py'>,\n",
       " 'prompt_toolkit.buffer': <module 'prompt_toolkit.buffer' from '/home/nbuser/anaconda3_501/lib/python3.6/site-packages/prompt_toolkit/buffer.py'>,\n",
       " 'prompt_toolkit.application.current': <module 'prompt_toolkit.application.current' from '/home/nbuser/anaconda3_501/lib/python3.6/site-packages/prompt_toolkit/application/current.py'>,\n",
       " 'prompt_toolkit.eventloop': <module 'prompt_toolkit.eventloop' from '/home/nbuser/anaconda3_501/lib/python3.6/site-packages/prompt_toolkit/eventloop/__init__.py'>,\n",
       " 'prompt_toolkit.eventloop.base': <module 'prompt_toolkit.eventloop.base' from '/home/nbuser/anaconda3_501/lib/python3.6/site-packages/prompt_toolkit/eventloop/base.py'>,\n",
       " 'prompt_toolkit.log': <module 'prompt_toolkit.log' from '/home/nbuser/anaconda3_501/lib/python3.6/site-packages/prompt_toolkit/log.py'>,\n",
       " 'prompt_toolkit.eventloop.coroutine': <module 'prompt_toolkit.eventloop.coroutine' from '/home/nbuser/anaconda3_501/lib/python3.6/site-packages/prompt_toolkit/eventloop/coroutine.py'>,\n",
       " 'prompt_toolkit.eventloop.defaults': <module 'prompt_toolkit.eventloop.defaults' from '/home/nbuser/anaconda3_501/lib/python3.6/site-packages/prompt_toolkit/eventloop/defaults.py'>,\n",
       " 'prompt_toolkit.utils': <module 'prompt_toolkit.utils' from '/home/nbuser/anaconda3_501/lib/python3.6/site-packages/prompt_toolkit/utils.py'>,\n",
       " 'six.moves': <module 'six.moves' (<six._SixMetaPathImporter object at 0x7fda375c3240>)>,\n",
       " 'wcwidth': <module 'wcwidth' from '/home/nbuser/anaconda3_501/lib/python3.6/site-packages/wcwidth/__init__.py'>,\n",
       " 'wcwidth.wcwidth': <module 'wcwidth.wcwidth' from '/home/nbuser/anaconda3_501/lib/python3.6/site-packages/wcwidth/wcwidth.py'>,\n",
       " 'wcwidth.table_wide': <module 'wcwidth.table_wide' from '/home/nbuser/anaconda3_501/lib/python3.6/site-packages/wcwidth/table_wide.py'>,\n",
       " 'wcwidth.table_zero': <module 'wcwidth.table_zero' from '/home/nbuser/anaconda3_501/lib/python3.6/site-packages/wcwidth/table_zero.py'>,\n",
       " 'prompt_toolkit.cache': <module 'prompt_toolkit.cache' from '/home/nbuser/anaconda3_501/lib/python3.6/site-packages/prompt_toolkit/cache.py'>,\n",
       " 'prompt_toolkit.eventloop.future': <module 'prompt_toolkit.eventloop.future' from '/home/nbuser/anaconda3_501/lib/python3.6/site-packages/prompt_toolkit/eventloop/future.py'>,\n",
       " 'prompt_toolkit.eventloop.context': <module 'prompt_toolkit.eventloop.context' from '/home/nbuser/anaconda3_501/lib/python3.6/site-packages/prompt_toolkit/eventloop/context.py'>,\n",
       " 'prompt_toolkit.eventloop.async_generator': <module 'prompt_toolkit.eventloop.async_generator' from '/home/nbuser/anaconda3_501/lib/python3.6/site-packages/prompt_toolkit/eventloop/async_generator.py'>,\n",
       " 'six.moves.queue': <module 'queue' from '/home/nbuser/anaconda3_501/lib/python3.6/queue.py'>,\n",
       " 'prompt_toolkit.eventloop.event': <module 'prompt_toolkit.eventloop.event' from '/home/nbuser/anaconda3_501/lib/python3.6/site-packages/prompt_toolkit/eventloop/event.py'>,\n",
       " 'prompt_toolkit.application.run_in_terminal': <module 'prompt_toolkit.application.run_in_terminal' from '/home/nbuser/anaconda3_501/lib/python3.6/site-packages/prompt_toolkit/application/run_in_terminal.py'>,\n",
       " 'prompt_toolkit.auto_suggest': <module 'prompt_toolkit.auto_suggest' from '/home/nbuser/anaconda3_501/lib/python3.6/site-packages/prompt_toolkit/auto_suggest.py'>,\n",
       " 'prompt_toolkit.filters': <module 'prompt_toolkit.filters' from '/home/nbuser/anaconda3_501/lib/python3.6/site-packages/prompt_toolkit/filters/__init__.py'>,\n",
       " 'prompt_toolkit.filters.base': <module 'prompt_toolkit.filters.base' from '/home/nbuser/anaconda3_501/lib/python3.6/site-packages/prompt_toolkit/filters/base.py'>,\n",
       " 'prompt_toolkit.filters.app': <module 'prompt_toolkit.filters.app' from '/home/nbuser/anaconda3_501/lib/python3.6/site-packages/prompt_toolkit/filters/app.py'>,\n",
       " 'prompt_toolkit.enums': <module 'prompt_toolkit.enums' from '/home/nbuser/anaconda3_501/lib/python3.6/site-packages/prompt_toolkit/enums.py'>,\n",
       " 'prompt_toolkit.filters.utils': <module 'prompt_toolkit.filters.utils' from '/home/nbuser/anaconda3_501/lib/python3.6/site-packages/prompt_toolkit/filters/utils.py'>,\n",
       " 'prompt_toolkit.filters.cli': <module 'prompt_toolkit.filters.cli' from '/home/nbuser/anaconda3_501/lib/python3.6/site-packages/prompt_toolkit/filters/cli.py'>,\n",
       " 'prompt_toolkit.clipboard': <module 'prompt_toolkit.clipboard' from '/home/nbuser/anaconda3_501/lib/python3.6/site-packages/prompt_toolkit/clipboard/__init__.py'>,\n",
       " 'prompt_toolkit.clipboard.base': <module 'prompt_toolkit.clipboard.base' from '/home/nbuser/anaconda3_501/lib/python3.6/site-packages/prompt_toolkit/clipboard/base.py'>,\n",
       " 'prompt_toolkit.selection': <module 'prompt_toolkit.selection' from '/home/nbuser/anaconda3_501/lib/python3.6/site-packages/prompt_toolkit/selection.py'>,\n",
       " 'prompt_toolkit.clipboard.in_memory': <module 'prompt_toolkit.clipboard.in_memory' from '/home/nbuser/anaconda3_501/lib/python3.6/site-packages/prompt_toolkit/clipboard/in_memory.py'>,\n",
       " 'prompt_toolkit.completion': <module 'prompt_toolkit.completion' from '/home/nbuser/anaconda3_501/lib/python3.6/site-packages/prompt_toolkit/completion/__init__.py'>,\n",
       " 'prompt_toolkit.completion.base': <module 'prompt_toolkit.completion.base' from '/home/nbuser/anaconda3_501/lib/python3.6/site-packages/prompt_toolkit/completion/base.py'>,\n",
       " 'prompt_toolkit.completion.filesystem': <module 'prompt_toolkit.completion.filesystem' from '/home/nbuser/anaconda3_501/lib/python3.6/site-packages/prompt_toolkit/completion/filesystem.py'>,\n",
       " 'prompt_toolkit.completion.word_completer': <module 'prompt_toolkit.completion.word_completer' from '/home/nbuser/anaconda3_501/lib/python3.6/site-packages/prompt_toolkit/completion/word_completer.py'>,\n",
       " 'prompt_toolkit.document': <module 'prompt_toolkit.document' from '/home/nbuser/anaconda3_501/lib/python3.6/site-packages/prompt_toolkit/document.py'>,\n",
       " 'prompt_toolkit.history': <module 'prompt_toolkit.history' from '/home/nbuser/anaconda3_501/lib/python3.6/site-packages/prompt_toolkit/history.py'>,\n",
       " 'prompt_toolkit.search': <module 'prompt_toolkit.search' from '/home/nbuser/anaconda3_501/lib/python3.6/site-packages/prompt_toolkit/search.py'>,\n",
       " 'prompt_toolkit.key_binding': <module 'prompt_toolkit.key_binding' from '/home/nbuser/anaconda3_501/lib/python3.6/site-packages/prompt_toolkit/key_binding/__init__.py'>,\n",
       " 'prompt_toolkit.key_binding.key_bindings': <module 'prompt_toolkit.key_binding.key_bindings' from '/home/nbuser/anaconda3_501/lib/python3.6/site-packages/prompt_toolkit/key_binding/key_bindings.py'>,\n",
       " 'prompt_toolkit.keys': <module 'prompt_toolkit.keys' from '/home/nbuser/anaconda3_501/lib/python3.6/site-packages/prompt_toolkit/keys.py'>,\n",
       " 'prompt_toolkit.key_binding.vi_state': <module 'prompt_toolkit.key_binding.vi_state' from '/home/nbuser/anaconda3_501/lib/python3.6/site-packages/prompt_toolkit/key_binding/vi_state.py'>,\n",
       " 'prompt_toolkit.validation': <module 'prompt_toolkit.validation' from '/home/nbuser/anaconda3_501/lib/python3.6/site-packages/prompt_toolkit/validation.py'>,\n",
       " 'prompt_toolkit.input': <module 'prompt_toolkit.input' from '/home/nbuser/anaconda3_501/lib/python3.6/site-packages/prompt_toolkit/input/__init__.py'>,\n",
       " 'prompt_toolkit.input.base': <module 'prompt_toolkit.input.base' from '/home/nbuser/anaconda3_501/lib/python3.6/site-packages/prompt_toolkit/input/base.py'>,\n",
       " 'prompt_toolkit.input.defaults': <module 'prompt_toolkit.input.defaults' from '/home/nbuser/anaconda3_501/lib/python3.6/site-packages/prompt_toolkit/input/defaults.py'>,\n",
       " 'prompt_toolkit.input.typeahead': <module 'prompt_toolkit.input.typeahead' from '/home/nbuser/anaconda3_501/lib/python3.6/site-packages/prompt_toolkit/input/typeahead.py'>,\n",
       " 'prompt_toolkit.key_binding.bindings': <module 'prompt_toolkit.key_binding.bindings' from '/home/nbuser/anaconda3_501/lib/python3.6/site-packages/prompt_toolkit/key_binding/bindings/__init__.py'>,\n",
       " 'prompt_toolkit.key_binding.bindings.page_navigation': <module 'prompt_toolkit.key_binding.bindings.page_navigation' from '/home/nbuser/anaconda3_501/lib/python3.6/site-packages/prompt_toolkit/key_binding/bindings/page_navigation.py'>,\n",
       " 'prompt_toolkit.key_binding.bindings.scroll': <module 'prompt_toolkit.key_binding.bindings.scroll' from '/home/nbuser/anaconda3_501/lib/python3.6/site-packages/prompt_toolkit/key_binding/bindings/scroll.py'>,\n",
       " 'prompt_toolkit.key_binding.defaults': <module 'prompt_toolkit.key_binding.defaults' from '/home/nbuser/anaconda3_501/lib/python3.6/site-packages/prompt_toolkit/key_binding/defaults.py'>,\n",
       " 'prompt_toolkit.key_binding.bindings.basic': <module 'prompt_toolkit.key_binding.bindings.basic' from '/home/nbuser/anaconda3_501/lib/python3.6/site-packages/prompt_toolkit/key_binding/bindings/basic.py'>,\n",
       " 'prompt_toolkit.key_binding.key_processor': <module 'prompt_toolkit.key_binding.key_processor' from '/home/nbuser/anaconda3_501/lib/python3.6/site-packages/prompt_toolkit/key_binding/key_processor.py'>,\n",
       " 'prompt_toolkit.key_binding.bindings.named_commands': <module 'prompt_toolkit.key_binding.bindings.named_commands' from '/home/nbuser/anaconda3_501/lib/python3.6/site-packages/prompt_toolkit/key_binding/bindings/named_commands.py'>,\n",
       " 'prompt_toolkit.key_binding.bindings.completion': <module 'prompt_toolkit.key_binding.bindings.completion' from '/home/nbuser/anaconda3_501/lib/python3.6/site-packages/prompt_toolkit/key_binding/bindings/completion.py'>,\n",
       " 'prompt_toolkit.key_binding.bindings.emacs': <module 'prompt_toolkit.key_binding.bindings.emacs' from '/home/nbuser/anaconda3_501/lib/python3.6/site-packages/prompt_toolkit/key_binding/bindings/emacs.py'>,\n",
       " 'prompt_toolkit.key_binding.bindings.vi': <module 'prompt_toolkit.key_binding.bindings.vi' from '/home/nbuser/anaconda3_501/lib/python3.6/site-packages/prompt_toolkit/key_binding/bindings/vi.py'>,\n",
       " 'prompt_toolkit.input.vt100_parser': <module 'prompt_toolkit.input.vt100_parser' from '/home/nbuser/anaconda3_501/lib/python3.6/site-packages/prompt_toolkit/input/vt100_parser.py'>,\n",
       " 'prompt_toolkit.input.ansi_escape_sequences': <module 'prompt_toolkit.input.ansi_escape_sequences' from '/home/nbuser/anaconda3_501/lib/python3.6/site-packages/prompt_toolkit/input/ansi_escape_sequences.py'>,\n",
       " 'prompt_toolkit.key_binding.digraphs': <module 'prompt_toolkit.key_binding.digraphs' from '/home/nbuser/anaconda3_501/lib/python3.6/site-packages/prompt_toolkit/key_binding/digraphs.py'>,\n",
       " 'prompt_toolkit.key_binding.bindings.mouse': <module 'prompt_toolkit.key_binding.bindings.mouse' from '/home/nbuser/anaconda3_501/lib/python3.6/site-packages/prompt_toolkit/key_binding/bindings/mouse.py'>,\n",
       " 'prompt_toolkit.layout': <module 'prompt_toolkit.layout' from '/home/nbuser/anaconda3_501/lib/python3.6/site-packages/prompt_toolkit/layout/__init__.py'>,\n",
       " 'prompt_toolkit.layout.containers': <module 'prompt_toolkit.layout.containers' from '/home/nbuser/anaconda3_501/lib/python3.6/site-packages/prompt_toolkit/layout/containers.py'>,\n",
       " 'prompt_toolkit.layout.controls': <module 'prompt_toolkit.layout.controls' from '/home/nbuser/anaconda3_501/lib/python3.6/site-packages/prompt_toolkit/layout/controls.py'>,\n",
       " 'prompt_toolkit.formatted_text': <module 'prompt_toolkit.formatted_text' from '/home/nbuser/anaconda3_501/lib/python3.6/site-packages/prompt_toolkit/formatted_text/__init__.py'>,\n",
       " 'prompt_toolkit.formatted_text.base': <module 'prompt_toolkit.formatted_text.base' from '/home/nbuser/anaconda3_501/lib/python3.6/site-packages/prompt_toolkit/formatted_text/base.py'>,\n",
       " 'prompt_toolkit.formatted_text.html': <module 'prompt_toolkit.formatted_text.html' from '/home/nbuser/anaconda3_501/lib/python3.6/site-packages/prompt_toolkit/formatted_text/html.py'>,\n",
       " 'xml': <module 'xml' from '/home/nbuser/anaconda3_501/lib/python3.6/xml/__init__.py'>,\n",
       " 'xml.dom': <module 'xml.dom' from '/home/nbuser/anaconda3_501/lib/python3.6/xml/dom/__init__.py'>,\n",
       " 'xml.dom.domreg': <module 'xml.dom.domreg' from '/home/nbuser/anaconda3_501/lib/python3.6/xml/dom/domreg.py'>,\n",
       " 'xml.dom.minidom': <module 'xml.dom.minidom' from '/home/nbuser/anaconda3_501/lib/python3.6/xml/dom/minidom.py'>,\n",
       " 'xml.dom.minicompat': <module 'xml.dom.minicompat' from '/home/nbuser/anaconda3_501/lib/python3.6/xml/dom/minicompat.py'>,\n",
       " 'xml.dom.xmlbuilder': <module 'xml.dom.xmlbuilder' from '/home/nbuser/anaconda3_501/lib/python3.6/xml/dom/xmlbuilder.py'>,\n",
       " 'xml.dom.NodeFilter': <module 'xml.dom.NodeFilter' from '/home/nbuser/anaconda3_501/lib/python3.6/xml/dom/NodeFilter.py'>,\n",
       " 'prompt_toolkit.formatted_text.ansi': <module 'prompt_toolkit.formatted_text.ansi' from '/home/nbuser/anaconda3_501/lib/python3.6/site-packages/prompt_toolkit/formatted_text/ansi.py'>,\n",
       " 'prompt_toolkit.output': <module 'prompt_toolkit.output' from '/home/nbuser/anaconda3_501/lib/python3.6/site-packages/prompt_toolkit/output/__init__.py'>,\n",
       " 'prompt_toolkit.output.base': <module 'prompt_toolkit.output.base' from '/home/nbuser/anaconda3_501/lib/python3.6/site-packages/prompt_toolkit/output/base.py'>,\n",
       " 'prompt_toolkit.layout.screen': <module 'prompt_toolkit.layout.screen' from '/home/nbuser/anaconda3_501/lib/python3.6/site-packages/prompt_toolkit/layout/screen.py'>,\n",
       " 'prompt_toolkit.output.defaults': <module 'prompt_toolkit.output.defaults' from '/home/nbuser/anaconda3_501/lib/python3.6/site-packages/prompt_toolkit/output/defaults.py'>,\n",
       " 'prompt_toolkit.output.color_depth': <module 'prompt_toolkit.output.color_depth' from '/home/nbuser/anaconda3_501/lib/python3.6/site-packages/prompt_toolkit/output/color_depth.py'>,\n",
       " 'prompt_toolkit.output.vt100': <module 'prompt_toolkit.output.vt100' from '/home/nbuser/anaconda3_501/lib/python3.6/site-packages/prompt_toolkit/output/vt100.py'>,\n",
       " 'prompt_toolkit.styles': <module 'prompt_toolkit.styles' from '/home/nbuser/anaconda3_501/lib/python3.6/site-packages/prompt_toolkit/styles/__init__.py'>,\n",
       " 'prompt_toolkit.styles.base': <module 'prompt_toolkit.styles.base' from '/home/nbuser/anaconda3_501/lib/python3.6/site-packages/prompt_toolkit/styles/base.py'>,\n",
       " 'prompt_toolkit.styles.defaults': <module 'prompt_toolkit.styles.defaults' from '/home/nbuser/anaconda3_501/lib/python3.6/site-packages/prompt_toolkit/styles/defaults.py'>,\n",
       " 'prompt_toolkit.styles.style': <module 'prompt_toolkit.styles.style' from '/home/nbuser/anaconda3_501/lib/python3.6/site-packages/prompt_toolkit/styles/style.py'>,\n",
       " 'prompt_toolkit.styles.named_colors': <module 'prompt_toolkit.styles.named_colors' from '/home/nbuser/anaconda3_501/lib/python3.6/site-packages/prompt_toolkit/styles/named_colors.py'>,\n",
       " 'prompt_toolkit.styles.pygments': <module 'prompt_toolkit.styles.pygments' from '/home/nbuser/anaconda3_501/lib/python3.6/site-packages/prompt_toolkit/styles/pygments.py'>,\n",
       " 'prompt_toolkit.styles.style_transformation': <module 'prompt_toolkit.styles.style_transformation' from '/home/nbuser/anaconda3_501/lib/python3.6/site-packages/prompt_toolkit/styles/style_transformation.py'>,\n",
       " 'colorsys': <module 'colorsys' from '/home/nbuser/anaconda3_501/lib/python3.6/colorsys.py'>,\n",
       " 'prompt_toolkit.formatted_text.pygments': <module 'prompt_toolkit.formatted_text.pygments' from '/home/nbuser/anaconda3_501/lib/python3.6/site-packages/prompt_toolkit/formatted_text/pygments.py'>,\n",
       " 'prompt_toolkit.formatted_text.utils': <module 'prompt_toolkit.formatted_text.utils' from '/home/nbuser/anaconda3_501/lib/python3.6/site-packages/prompt_toolkit/formatted_text/utils.py'>,\n",
       " 'prompt_toolkit.lexers': <module 'prompt_toolkit.lexers' from '/home/nbuser/anaconda3_501/lib/python3.6/site-packages/prompt_toolkit/lexers/__init__.py'>,\n",
       " 'prompt_toolkit.lexers.base': <module 'prompt_toolkit.lexers.base' from '/home/nbuser/anaconda3_501/lib/python3.6/site-packages/prompt_toolkit/lexers/base.py'>,\n",
       " 'prompt_toolkit.lexers.pygments': <module 'prompt_toolkit.lexers.pygments' from '/home/nbuser/anaconda3_501/lib/python3.6/site-packages/prompt_toolkit/lexers/pygments.py'>,\n",
       " 'prompt_toolkit.mouse_events': <module 'prompt_toolkit.mouse_events' from '/home/nbuser/anaconda3_501/lib/python3.6/site-packages/prompt_toolkit/mouse_events.py'>,\n",
       " 'prompt_toolkit.layout.processors': <module 'prompt_toolkit.layout.processors' from '/home/nbuser/anaconda3_501/lib/python3.6/site-packages/prompt_toolkit/layout/processors.py'>,\n",
       " 'prompt_toolkit.layout.utils': <module 'prompt_toolkit.layout.utils' from '/home/nbuser/anaconda3_501/lib/python3.6/site-packages/prompt_toolkit/layout/utils.py'>,\n",
       " 'prompt_toolkit.layout.dimension': <module 'prompt_toolkit.layout.dimension' from '/home/nbuser/anaconda3_501/lib/python3.6/site-packages/prompt_toolkit/layout/dimension.py'>,\n",
       " 'prompt_toolkit.layout.margins': <module 'prompt_toolkit.layout.margins' from '/home/nbuser/anaconda3_501/lib/python3.6/site-packages/prompt_toolkit/layout/margins.py'>,\n",
       " 'prompt_toolkit.layout.layout': <module 'prompt_toolkit.layout.layout' from '/home/nbuser/anaconda3_501/lib/python3.6/site-packages/prompt_toolkit/layout/layout.py'>,\n",
       " 'prompt_toolkit.layout.menus': <module 'prompt_toolkit.layout.menus' from '/home/nbuser/anaconda3_501/lib/python3.6/site-packages/prompt_toolkit/layout/menus.py'>,\n",
       " 'prompt_toolkit.renderer': <module 'prompt_toolkit.renderer' from '/home/nbuser/anaconda3_501/lib/python3.6/site-packages/prompt_toolkit/renderer.py'>,\n",
       " 'prompt_toolkit.layout.mouse_handlers': <module 'prompt_toolkit.layout.mouse_handlers' from '/home/nbuser/anaconda3_501/lib/python3.6/site-packages/prompt_toolkit/layout/mouse_handlers.py'>,\n",
       " 'prompt_toolkit.key_binding.bindings.cpr': <module 'prompt_toolkit.key_binding.bindings.cpr' from '/home/nbuser/anaconda3_501/lib/python3.6/site-packages/prompt_toolkit/key_binding/bindings/cpr.py'>,\n",
       " 'prompt_toolkit.key_binding.emacs_state': <module 'prompt_toolkit.key_binding.emacs_state' from '/home/nbuser/anaconda3_501/lib/python3.6/site-packages/prompt_toolkit/key_binding/emacs_state.py'>,\n",
       " 'prompt_toolkit.layout.dummy': <module 'prompt_toolkit.layout.dummy' from '/home/nbuser/anaconda3_501/lib/python3.6/site-packages/prompt_toolkit/layout/dummy.py'>,\n",
       " 'prompt_toolkit.application.dummy': <module 'prompt_toolkit.application.dummy' from '/home/nbuser/anaconda3_501/lib/python3.6/site-packages/prompt_toolkit/application/dummy.py'>,\n",
       " 'prompt_toolkit.shortcuts': <module 'prompt_toolkit.shortcuts' from '/home/nbuser/anaconda3_501/lib/python3.6/site-packages/prompt_toolkit/shortcuts/__init__.py'>,\n",
       " 'prompt_toolkit.shortcuts.dialogs': <module 'prompt_toolkit.shortcuts.dialogs' from '/home/nbuser/anaconda3_501/lib/python3.6/site-packages/prompt_toolkit/shortcuts/dialogs.py'>,\n",
       " 'prompt_toolkit.key_binding.bindings.focus': <module 'prompt_toolkit.key_binding.bindings.focus' from '/home/nbuser/anaconda3_501/lib/python3.6/site-packages/prompt_toolkit/key_binding/bindings/focus.py'>,\n",
       " 'prompt_toolkit.widgets': <module 'prompt_toolkit.widgets' from '/home/nbuser/anaconda3_501/lib/python3.6/site-packages/prompt_toolkit/widgets/__init__.py'>,\n",
       " 'prompt_toolkit.widgets.base': <module 'prompt_toolkit.widgets.base' from '/home/nbuser/anaconda3_501/lib/python3.6/site-packages/prompt_toolkit/widgets/base.py'>,\n",
       " 'prompt_toolkit.widgets.toolbars': <module 'prompt_toolkit.widgets.toolbars' from '/home/nbuser/anaconda3_501/lib/python3.6/site-packages/prompt_toolkit/widgets/toolbars.py'>,\n",
       " 'prompt_toolkit.widgets.dialogs': <module 'prompt_toolkit.widgets.dialogs' from '/home/nbuser/anaconda3_501/lib/python3.6/site-packages/prompt_toolkit/widgets/dialogs.py'>,\n",
       " 'prompt_toolkit.widgets.menus': <module 'prompt_toolkit.widgets.menus' from '/home/nbuser/anaconda3_501/lib/python3.6/site-packages/prompt_toolkit/widgets/menus.py'>,\n",
       " 'prompt_toolkit.shortcuts.prompt': <module 'prompt_toolkit.shortcuts.prompt' from '/home/nbuser/anaconda3_501/lib/python3.6/site-packages/prompt_toolkit/shortcuts/prompt.py'>,\n",
       " 'prompt_toolkit.key_binding.bindings.auto_suggest': <module 'prompt_toolkit.key_binding.bindings.auto_suggest' from '/home/nbuser/anaconda3_501/lib/python3.6/site-packages/prompt_toolkit/key_binding/bindings/auto_suggest.py'>,\n",
       " 'prompt_toolkit.key_binding.bindings.open_in_editor': <module 'prompt_toolkit.key_binding.bindings.open_in_editor' from '/home/nbuser/anaconda3_501/lib/python3.6/site-packages/prompt_toolkit/key_binding/bindings/open_in_editor.py'>,\n",
       " 'prompt_toolkit.shortcuts.utils': <module 'prompt_toolkit.shortcuts.utils' from '/home/nbuser/anaconda3_501/lib/python3.6/site-packages/prompt_toolkit/shortcuts/utils.py'>,\n",
       " 'prompt_toolkit.shortcuts.progress_bar': <module 'prompt_toolkit.shortcuts.progress_bar' from '/home/nbuser/anaconda3_501/lib/python3.6/site-packages/prompt_toolkit/shortcuts/progress_bar/__init__.py'>,\n",
       " 'prompt_toolkit.shortcuts.progress_bar.base': <module 'prompt_toolkit.shortcuts.progress_bar.base' from '/home/nbuser/anaconda3_501/lib/python3.6/site-packages/prompt_toolkit/shortcuts/progress_bar/base.py'>,\n",
       " 'prompt_toolkit.shortcuts.progress_bar.formatters': <module 'prompt_toolkit.shortcuts.progress_bar.formatters' from '/home/nbuser/anaconda3_501/lib/python3.6/site-packages/prompt_toolkit/shortcuts/progress_bar/formatters.py'>,\n",
       " 'prompt_toolkit.patch_stdout': <module 'prompt_toolkit.patch_stdout' from '/home/nbuser/anaconda3_501/lib/python3.6/site-packages/prompt_toolkit/patch_stdout.py'>,\n",
       " 'pygments.style': <module 'pygments.style' from '/home/nbuser/anaconda3_501/lib/python3.6/site-packages/pygments/style.py'>,\n",
       " 'IPython.terminal.debugger': <module 'IPython.terminal.debugger' from '/home/nbuser/anaconda3_501/lib/python3.6/site-packages/IPython/terminal/debugger.py'>,\n",
       " 'IPython.core.completer': <module 'IPython.core.completer' from '/home/nbuser/anaconda3_501/lib/python3.6/site-packages/IPython/core/completer.py'>,\n",
       " 'unicodedata': <module 'unicodedata' from '/home/nbuser/anaconda3_501/lib/python3.6/lib-dynload/unicodedata.cpython-36m-x86_64-linux-gnu.so'>,\n",
       " 'IPython.core.latex_symbols': <module 'IPython.core.latex_symbols' from '/home/nbuser/anaconda3_501/lib/python3.6/site-packages/IPython/core/latex_symbols.py'>,\n",
       " 'IPython.utils.generics': <module 'IPython.utils.generics' from '/home/nbuser/anaconda3_501/lib/python3.6/site-packages/IPython/utils/generics.py'>,\n",
       " 'jedi': <module 'jedi' from '/home/nbuser/anaconda3_501/lib/python3.6/site-packages/jedi/__init__.py'>,\n",
       " 'jedi.api': <module 'jedi.api' from '/home/nbuser/anaconda3_501/lib/python3.6/site-packages/jedi/api/__init__.py'>,\n",
       " 'parso': <module 'parso' from '/home/nbuser/anaconda3_501/lib/python3.6/site-packages/parso/__init__.py'>,\n",
       " 'parso.parser': <module 'parso.parser' from '/home/nbuser/anaconda3_501/lib/python3.6/site-packages/parso/parser.py'>,\n",
       " 'parso.tree': <module 'parso.tree' from '/home/nbuser/anaconda3_501/lib/python3.6/site-packages/parso/tree.py'>,\n",
       " 'parso._compatibility': <module 'parso._compatibility' from '/home/nbuser/anaconda3_501/lib/python3.6/site-packages/parso/_compatibility.py'>,\n",
       " 'parso.pgen2': <module 'parso.pgen2' from '/home/nbuser/anaconda3_501/lib/python3.6/site-packages/parso/pgen2/__init__.py'>,\n",
       " 'parso.pgen2.generator': <module 'parso.pgen2.generator' from '/home/nbuser/anaconda3_501/lib/python3.6/site-packages/parso/pgen2/generator.py'>,\n",
       " 'parso.pgen2.grammar_parser': <module 'parso.pgen2.grammar_parser' from '/home/nbuser/anaconda3_501/lib/python3.6/site-packages/parso/pgen2/grammar_parser.py'>,\n",
       " 'parso.python': <module 'parso.python' from '/home/nbuser/anaconda3_501/lib/python3.6/site-packages/parso/python/__init__.py'>,\n",
       " 'parso.python.tokenize': <module 'parso.python.tokenize' from '/home/nbuser/anaconda3_501/lib/python3.6/site-packages/parso/python/tokenize.py'>,\n",
       " 'parso.python.token': <module 'parso.python.token' from '/home/nbuser/anaconda3_501/lib/python3.6/site-packages/parso/python/token.py'>,\n",
       " 'parso.utils': <module 'parso.utils' from '/home/nbuser/anaconda3_501/lib/python3.6/site-packages/parso/utils.py'>,\n",
       " 'parso.grammar': <module 'parso.grammar' from '/home/nbuser/anaconda3_501/lib/python3.6/site-packages/parso/grammar.py'>,\n",
       " 'parso.python.diff': <module 'parso.python.diff' from '/home/nbuser/anaconda3_501/lib/python3.6/site-packages/parso/python/diff.py'>,\n",
       " 'difflib': <module 'difflib' from '/home/nbuser/anaconda3_501/lib/python3.6/difflib.py'>,\n",
       " 'parso.python.parser': <module 'parso.python.parser' from '/home/nbuser/anaconda3_501/lib/python3.6/site-packages/parso/python/parser.py'>,\n",
       " 'parso.python.tree': <module 'parso.python.tree' from '/home/nbuser/anaconda3_501/lib/python3.6/site-packages/parso/python/tree.py'>,\n",
       " 'parso.python.prefix': <module 'parso.python.prefix' from '/home/nbuser/anaconda3_501/lib/python3.6/site-packages/parso/python/prefix.py'>,\n",
       " 'parso.cache': <module 'parso.cache' from '/home/nbuser/anaconda3_501/lib/python3.6/site-packages/parso/cache.py'>,\n",
       " 'gc': <module 'gc' (built-in)>,\n",
       " 'parso.python.errors': <module 'parso.python.errors' from '/home/nbuser/anaconda3_501/lib/python3.6/site-packages/parso/python/errors.py'>,\n",
       " 'parso.normalizer': <module 'parso.normalizer' from '/home/nbuser/anaconda3_501/lib/python3.6/site-packages/parso/normalizer.py'>,\n",
       " 'parso.python.pep8': <module 'parso.python.pep8' from '/home/nbuser/anaconda3_501/lib/python3.6/site-packages/parso/python/pep8.py'>,\n",
       " 'jedi._compatibility': <module 'jedi._compatibility' from '/home/nbuser/anaconda3_501/lib/python3.6/site-packages/jedi/_compatibility.py'>,\n",
       " 'jedi.parser_utils': <module 'jedi.parser_utils' from '/home/nbuser/anaconda3_501/lib/python3.6/site-packages/jedi/parser_utils.py'>,\n",
       " 'jedi.debug': <module 'jedi.debug' from '/home/nbuser/anaconda3_501/lib/python3.6/site-packages/jedi/debug.py'>,\n",
       " 'colorama': <module 'colorama' from '/home/nbuser/anaconda3_501/lib/python3.6/site-packages/colorama/__init__.py'>,\n",
       " 'colorama.initialise': <module 'colorama.initialise' from '/home/nbuser/anaconda3_501/lib/python3.6/site-packages/colorama/initialise.py'>,\n",
       " 'colorama.ansitowin32': <module 'colorama.ansitowin32' from '/home/nbuser/anaconda3_501/lib/python3.6/site-packages/colorama/ansitowin32.py'>,\n",
       " 'colorama.ansi': <module 'colorama.ansi' from '/home/nbuser/anaconda3_501/lib/python3.6/site-packages/colorama/ansi.py'>,\n",
       " 'colorama.winterm': <module 'colorama.winterm' from '/home/nbuser/anaconda3_501/lib/python3.6/site-packages/colorama/winterm.py'>,\n",
       " 'colorama.win32': <module 'colorama.win32' from '/home/nbuser/anaconda3_501/lib/python3.6/site-packages/colorama/win32.py'>,\n",
       " 'ctypes': <module 'ctypes' from '/home/nbuser/anaconda3_501/lib/python3.6/ctypes/__init__.py'>,\n",
       " '_ctypes': <module '_ctypes' from '/home/nbuser/anaconda3_501/lib/python3.6/lib-dynload/_ctypes.cpython-36m-x86_64-linux-gnu.so'>,\n",
       " 'ctypes._endian': <module 'ctypes._endian' from '/home/nbuser/anaconda3_501/lib/python3.6/ctypes/_endian.py'>,\n",
       " 'jedi.settings': <module 'jedi.settings' from '/home/nbuser/anaconda3_501/lib/python3.6/site-packages/jedi/settings.py'>,\n",
       " 'jedi.cache': <module 'jedi.cache' from '/home/nbuser/anaconda3_501/lib/python3.6/site-packages/jedi/cache.py'>,\n",
       " 'jedi.api.classes': <module 'jedi.api.classes' from '/home/nbuser/anaconda3_501/lib/python3.6/site-packages/jedi/api/classes.py'>,\n",
       " 'jedi.evaluate': <module 'jedi.evaluate' from '/home/nbuser/anaconda3_501/lib/python3.6/site-packages/jedi/evaluate/__init__.py'>,\n",
       " 'jedi.evaluate.utils': <module 'jedi.evaluate.utils' from '/home/nbuser/anaconda3_501/lib/python3.6/site-packages/jedi/evaluate/utils.py'>,\n",
       " 'jedi.evaluate.imports': <module 'jedi.evaluate.imports' from '/home/nbuser/anaconda3_501/lib/python3.6/site-packages/jedi/evaluate/imports.py'>,\n",
       " 'jedi.evaluate.sys_path': <module 'jedi.evaluate.sys_path' from '/home/nbuser/anaconda3_501/lib/python3.6/site-packages/jedi/evaluate/sys_path.py'>,\n",
       " 'jedi.evaluate.cache': <module 'jedi.evaluate.cache' from '/home/nbuser/anaconda3_501/lib/python3.6/site-packages/jedi/evaluate/cache.py'>,\n",
       " 'jedi.evaluate.base_context': <module 'jedi.evaluate.base_context' from '/home/nbuser/anaconda3_501/lib/python3.6/site-packages/jedi/evaluate/base_context.py'>,\n",
       " 'jedi.common': <module 'jedi.common' from '/home/nbuser/anaconda3_501/lib/python3.6/site-packages/jedi/common/__init__.py'>,\n",
       " 'jedi.common.context': <module 'jedi.common.context' from '/home/nbuser/anaconda3_501/lib/python3.6/site-packages/jedi/common/context.py'>,\n",
       " 'jedi.evaluate.helpers': <module 'jedi.evaluate.helpers' from '/home/nbuser/anaconda3_501/lib/python3.6/site-packages/jedi/evaluate/helpers.py'>,\n",
       " 'jedi.common.utils': <module 'jedi.common.utils' from '/home/nbuser/anaconda3_501/lib/python3.6/site-packages/jedi/common/utils.py'>,\n",
       " 'jedi.evaluate.compiled': <module 'jedi.evaluate.compiled' from '/home/nbuser/anaconda3_501/lib/python3.6/site-packages/jedi/evaluate/compiled/__init__.py'>,\n",
       " 'jedi.evaluate.compiled.context': <module 'jedi.evaluate.compiled.context' from '/home/nbuser/anaconda3_501/lib/python3.6/site-packages/jedi/evaluate/compiled/context.py'>,\n",
       " 'jedi.evaluate.filters': <module 'jedi.evaluate.filters' from '/home/nbuser/anaconda3_501/lib/python3.6/site-packages/jedi/evaluate/filters.py'>,\n",
       " 'jedi.evaluate.flow_analysis': <module 'jedi.evaluate.flow_analysis' from '/home/nbuser/anaconda3_501/lib/python3.6/site-packages/jedi/evaluate/flow_analysis.py'>,\n",
       " 'jedi.evaluate.recursion': <module 'jedi.evaluate.recursion' from '/home/nbuser/anaconda3_501/lib/python3.6/site-packages/jedi/evaluate/recursion.py'>,\n",
       " 'jedi.evaluate.lazy_context': <module 'jedi.evaluate.lazy_context' from '/home/nbuser/anaconda3_501/lib/python3.6/site-packages/jedi/evaluate/lazy_context.py'>,\n",
       " 'jedi.evaluate.compiled.access': <module 'jedi.evaluate.compiled.access' from '/home/nbuser/anaconda3_501/lib/python3.6/site-packages/jedi/evaluate/compiled/access.py'>,\n",
       " 'jedi.evaluate.compiled.getattr_static': <module 'jedi.evaluate.compiled.getattr_static' from '/home/nbuser/anaconda3_501/lib/python3.6/site-packages/jedi/evaluate/compiled/getattr_static.py'>,\n",
       " 'jedi.evaluate.compiled.fake': <module 'jedi.evaluate.compiled.fake' from '/home/nbuser/anaconda3_501/lib/python3.6/site-packages/jedi/evaluate/compiled/fake.py'>,\n",
       " 'jedi.evaluate.analysis': <module 'jedi.evaluate.analysis' from '/home/nbuser/anaconda3_501/lib/python3.6/site-packages/jedi/evaluate/analysis.py'>,\n",
       " 'jedi.evaluate.context': <module 'jedi.evaluate.context' from '/home/nbuser/anaconda3_501/lib/python3.6/site-packages/jedi/evaluate/context/__init__.py'>,\n",
       " 'jedi.evaluate.context.module': <module 'jedi.evaluate.context.module' from '/home/nbuser/anaconda3_501/lib/python3.6/site-packages/jedi/evaluate/context/module.py'>,\n",
       " 'jedi.evaluate.context.klass': <module 'jedi.evaluate.context.klass' from '/home/nbuser/anaconda3_501/lib/python3.6/site-packages/jedi/evaluate/context/klass.py'>,\n",
       " 'jedi.evaluate.context.function': <module 'jedi.evaluate.context.function' from '/home/nbuser/anaconda3_501/lib/python3.6/site-packages/jedi/evaluate/context/function.py'>,\n",
       " 'jedi.evaluate.docstrings': <module 'jedi.evaluate.docstrings' from '/home/nbuser/anaconda3_501/lib/python3.6/site-packages/jedi/evaluate/docstrings.py'>,\n",
       " 'jedi.evaluate.pep0484': <module 'jedi.evaluate.pep0484' from '/home/nbuser/anaconda3_501/lib/python3.6/site-packages/jedi/evaluate/pep0484.py'>,\n",
       " 'jedi.evaluate.arguments': <module 'jedi.evaluate.arguments' from '/home/nbuser/anaconda3_501/lib/python3.6/site-packages/jedi/evaluate/arguments.py'>,\n",
       " 'jedi.evaluate.context.iterable': <module 'jedi.evaluate.context.iterable' from '/home/nbuser/anaconda3_501/lib/python3.6/site-packages/jedi/evaluate/context/iterable.py'>,\n",
       " 'jedi.evaluate.param': <module 'jedi.evaluate.param' from '/home/nbuser/anaconda3_501/lib/python3.6/site-packages/jedi/evaluate/param.py'>,\n",
       " 'jedi.evaluate.context.asynchronous': <module 'jedi.evaluate.context.asynchronous' from '/home/nbuser/anaconda3_501/lib/python3.6/site-packages/jedi/evaluate/context/asynchronous.py'>,\n",
       " 'jedi.evaluate.parser_cache': <module 'jedi.evaluate.parser_cache' from '/home/nbuser/anaconda3_501/lib/python3.6/site-packages/jedi/evaluate/parser_cache.py'>,\n",
       " 'jedi.evaluate.context.instance': <module 'jedi.evaluate.context.instance' from '/home/nbuser/anaconda3_501/lib/python3.6/site-packages/jedi/evaluate/context/instance.py'>,\n",
       " 'jedi.evaluate.syntax_tree': <module 'jedi.evaluate.syntax_tree' from '/home/nbuser/anaconda3_501/lib/python3.6/site-packages/jedi/evaluate/syntax_tree.py'>,\n",
       " 'jedi.evaluate.finder': <module 'jedi.evaluate.finder' from '/home/nbuser/anaconda3_501/lib/python3.6/site-packages/jedi/evaluate/finder.py'>,\n",
       " 'jedi.api.keywords': <module 'jedi.api.keywords' from '/home/nbuser/anaconda3_501/lib/python3.6/site-packages/jedi/api/keywords.py'>,\n",
       " 'pydoc_data': <module 'pydoc_data' from '/home/nbuser/anaconda3_501/lib/python3.6/pydoc_data/__init__.py'>,\n",
       " 'pydoc_data.topics': <module 'pydoc_data.topics' from '/home/nbuser/anaconda3_501/lib/python3.6/pydoc_data/topics.py'>,\n",
       " 'jedi.api.interpreter': <module 'jedi.api.interpreter' from '/home/nbuser/anaconda3_501/lib/python3.6/site-packages/jedi/api/interpreter.py'>,\n",
       " 'jedi.evaluate.compiled.mixed': <module 'jedi.evaluate.compiled.mixed' from '/home/nbuser/anaconda3_501/lib/python3.6/site-packages/jedi/evaluate/compiled/mixed.py'>,\n",
       " 'jedi.api.helpers': <module 'jedi.api.helpers' from '/home/nbuser/anaconda3_501/lib/python3.6/site-packages/jedi/api/helpers.py'>,\n",
       " 'jedi.api.completion': <module 'jedi.api.completion' from '/home/nbuser/anaconda3_501/lib/python3.6/site-packages/jedi/api/completion.py'>,\n",
       " 'jedi.api.environment': <module 'jedi.api.environment' from '/home/nbuser/anaconda3_501/lib/python3.6/site-packages/jedi/api/environment.py'>,\n",
       " 'filecmp': <module 'filecmp' from '/home/nbuser/anaconda3_501/lib/python3.6/filecmp.py'>,\n",
       " 'jedi.evaluate.compiled.subprocess': <module 'jedi.evaluate.compiled.subprocess' from '/home/nbuser/anaconda3_501/lib/python3.6/site-packages/jedi/evaluate/compiled/subprocess/__init__.py'>,\n",
       " 'jedi.evaluate.compiled.subprocess.functions': <module 'jedi.evaluate.compiled.subprocess.functions' from '/home/nbuser/anaconda3_501/lib/python3.6/site-packages/jedi/evaluate/compiled/subprocess/functions.py'>,\n",
       " 'jedi.api.exceptions': <module 'jedi.api.exceptions' from '/home/nbuser/anaconda3_501/lib/python3.6/site-packages/jedi/api/exceptions.py'>,\n",
       " 'jedi.api.project': <module 'jedi.api.project' from '/home/nbuser/anaconda3_501/lib/python3.6/site-packages/jedi/api/project.py'>,\n",
       " 'jedi.evaluate.usages': <module 'jedi.evaluate.usages' from '/home/nbuser/anaconda3_501/lib/python3.6/site-packages/jedi/evaluate/usages.py'>,\n",
       " 'IPython.terminal.ptutils': <module 'IPython.terminal.ptutils' from '/home/nbuser/anaconda3_501/lib/python3.6/site-packages/IPython/terminal/ptutils.py'>,\n",
       " 'IPython.terminal.shortcuts': <module 'IPython.terminal.shortcuts' from '/home/nbuser/anaconda3_501/lib/python3.6/site-packages/IPython/terminal/shortcuts.py'>,\n",
       " 'IPython.terminal.magics': <module 'IPython.terminal.magics' from '/home/nbuser/anaconda3_501/lib/python3.6/site-packages/IPython/terminal/magics.py'>,\n",
       " 'IPython.lib.clipboard': <module 'IPython.lib.clipboard' from '/home/nbuser/anaconda3_501/lib/python3.6/site-packages/IPython/lib/clipboard.py'>,\n",
       " 'IPython.terminal.pt_inputhooks': <module 'IPython.terminal.pt_inputhooks' from '/home/nbuser/anaconda3_501/lib/python3.6/site-packages/IPython/terminal/pt_inputhooks/__init__.py'>,\n",
       " 'IPython.terminal.prompts': <module 'IPython.terminal.prompts' from '/home/nbuser/anaconda3_501/lib/python3.6/site-packages/IPython/terminal/prompts.py'>,\n",
       " 'IPython.terminal.ipapp': <module 'IPython.terminal.ipapp' from '/home/nbuser/anaconda3_501/lib/python3.6/site-packages/IPython/terminal/ipapp.py'>,\n",
       " 'IPython.core.magics': <module 'IPython.core.magics' from '/home/nbuser/anaconda3_501/lib/python3.6/site-packages/IPython/core/magics/__init__.py'>,\n",
       " 'IPython.core.magics.auto': <module 'IPython.core.magics.auto' from '/home/nbuser/anaconda3_501/lib/python3.6/site-packages/IPython/core/magics/auto.py'>,\n",
       " 'IPython.core.magics.basic': <module 'IPython.core.magics.basic' from '/home/nbuser/anaconda3_501/lib/python3.6/site-packages/IPython/core/magics/basic.py'>,\n",
       " 'IPython.core.magics.code': <module 'IPython.core.magics.code' from '/home/nbuser/anaconda3_501/lib/python3.6/site-packages/IPython/core/magics/code.py'>,\n",
       " 'urllib.request': <module 'urllib.request' from '/home/nbuser/anaconda3_501/lib/python3.6/urllib/request.py'>,\n",
       " 'email': <module 'email' from '/home/nbuser/anaconda3_501/lib/python3.6/email/__init__.py'>,\n",
       " 'http': <module 'http' from '/home/nbuser/anaconda3_501/lib/python3.6/http/__init__.py'>,\n",
       " 'http.client': <module 'http.client' from '/home/nbuser/anaconda3_501/lib/python3.6/http/client.py'>,\n",
       " 'email.parser': <module 'email.parser' from '/home/nbuser/anaconda3_501/lib/python3.6/email/parser.py'>,\n",
       " 'email.feedparser': <module 'email.feedparser' from '/home/nbuser/anaconda3_501/lib/python3.6/email/feedparser.py'>,\n",
       " 'email.errors': <module 'email.errors' from '/home/nbuser/anaconda3_501/lib/python3.6/email/errors.py'>,\n",
       " 'email._policybase': <module 'email._policybase' from '/home/nbuser/anaconda3_501/lib/python3.6/email/_policybase.py'>,\n",
       " 'email.header': <module 'email.header' from '/home/nbuser/anaconda3_501/lib/python3.6/email/header.py'>,\n",
       " 'email.quoprimime': <module 'email.quoprimime' from '/home/nbuser/anaconda3_501/lib/python3.6/email/quoprimime.py'>,\n",
       " 'email.base64mime': <module 'email.base64mime' from '/home/nbuser/anaconda3_501/lib/python3.6/email/base64mime.py'>,\n",
       " 'email.charset': <module 'email.charset' from '/home/nbuser/anaconda3_501/lib/python3.6/email/charset.py'>,\n",
       " 'email.encoders': <module 'email.encoders' from '/home/nbuser/anaconda3_501/lib/python3.6/email/encoders.py'>,\n",
       " 'quopri': <module 'quopri' from '/home/nbuser/anaconda3_501/lib/python3.6/quopri.py'>,\n",
       " 'email.utils': <module 'email.utils' from '/home/nbuser/anaconda3_501/lib/python3.6/email/utils.py'>,\n",
       " 'email._parseaddr': <module 'email._parseaddr' from '/home/nbuser/anaconda3_501/lib/python3.6/email/_parseaddr.py'>,\n",
       " 'calendar': <module 'calendar' from '/home/nbuser/anaconda3_501/lib/python3.6/calendar.py'>,\n",
       " 'email.message': <module 'email.message' from '/home/nbuser/anaconda3_501/lib/python3.6/email/message.py'>,\n",
       " 'uu': <module 'uu' from '/home/nbuser/anaconda3_501/lib/python3.6/uu.py'>,\n",
       " 'email._encoded_words': <module 'email._encoded_words' from '/home/nbuser/anaconda3_501/lib/python3.6/email/_encoded_words.py'>,\n",
       " 'email.iterators': <module 'email.iterators' from '/home/nbuser/anaconda3_501/lib/python3.6/email/iterators.py'>,\n",
       " 'urllib.error': <module 'urllib.error' from '/home/nbuser/anaconda3_501/lib/python3.6/urllib/error.py'>,\n",
       " 'urllib.response': <module 'urllib.response' from '/home/nbuser/anaconda3_501/lib/python3.6/urllib/response.py'>,\n",
       " 'IPython.core.magics.config': <module 'IPython.core.magics.config' from '/home/nbuser/anaconda3_501/lib/python3.6/site-packages/IPython/core/magics/config.py'>,\n",
       " 'IPython.core.magics.display': <module 'IPython.core.magics.display' from '/home/nbuser/anaconda3_501/lib/python3.6/site-packages/IPython/core/magics/display.py'>,\n",
       " 'IPython.core.magics.execution': <module 'IPython.core.magics.execution' from '/home/nbuser/anaconda3_501/lib/python3.6/site-packages/IPython/core/magics/execution.py'>,\n",
       " 'timeit': <module 'timeit' from '/home/nbuser/anaconda3_501/lib/python3.6/timeit.py'>,\n",
       " 'cProfile': <module 'cProfile' from '/home/nbuser/anaconda3_501/lib/python3.6/cProfile.py'>,\n",
       " '_lsprof': <module '_lsprof' from '/home/nbuser/anaconda3_501/lib/python3.6/lib-dynload/_lsprof.cpython-36m-x86_64-linux-gnu.so'>,\n",
       " 'profile': <module 'profile' from '/home/nbuser/anaconda3_501/lib/python3.6/profile.py'>,\n",
       " 'optparse': <module 'optparse' from '/home/nbuser/anaconda3_501/lib/python3.6/optparse.py'>,\n",
       " 'pstats': <module 'pstats' from '/home/nbuser/anaconda3_501/lib/python3.6/pstats.py'>,\n",
       " 'IPython.utils.module_paths': <module 'IPython.utils.module_paths' from '/home/nbuser/anaconda3_501/lib/python3.6/site-packages/IPython/utils/module_paths.py'>,\n",
       " 'IPython.utils.timing': <module 'IPython.utils.timing' from '/home/nbuser/anaconda3_501/lib/python3.6/site-packages/IPython/utils/timing.py'>,\n",
       " 'IPython.core.magics.extension': <module 'IPython.core.magics.extension' from '/home/nbuser/anaconda3_501/lib/python3.6/site-packages/IPython/core/magics/extension.py'>,\n",
       " 'IPython.core.magics.history': <module 'IPython.core.magics.history' from '/home/nbuser/anaconda3_501/lib/python3.6/site-packages/IPython/core/magics/history.py'>,\n",
       " 'IPython.core.magics.logging': <module 'IPython.core.magics.logging' from '/home/nbuser/anaconda3_501/lib/python3.6/site-packages/IPython/core/magics/logging.py'>,\n",
       " 'IPython.core.magics.namespace': <module 'IPython.core.magics.namespace' from '/home/nbuser/anaconda3_501/lib/python3.6/site-packages/IPython/core/magics/namespace.py'>,\n",
       " 'IPython.core.magics.osm': <module 'IPython.core.magics.osm' from '/home/nbuser/anaconda3_501/lib/python3.6/site-packages/IPython/core/magics/osm.py'>,\n",
       " 'IPython.core.magics.pylab': <module 'IPython.core.magics.pylab' from '/home/nbuser/anaconda3_501/lib/python3.6/site-packages/IPython/core/magics/pylab.py'>,\n",
       " 'IPython.core.pylabtools': <module 'IPython.core.pylabtools' from '/home/nbuser/anaconda3_501/lib/python3.6/site-packages/IPython/core/pylabtools.py'>,\n",
       " 'IPython.core.magics.script': <module 'IPython.core.magics.script' from '/home/nbuser/anaconda3_501/lib/python3.6/site-packages/IPython/core/magics/script.py'>,\n",
       " 'IPython.lib.backgroundjobs': <module 'IPython.lib.backgroundjobs' from '/home/nbuser/anaconda3_501/lib/python3.6/site-packages/IPython/lib/backgroundjobs.py'>,\n",
       " 'IPython.core.shellapp': <module 'IPython.core.shellapp' from '/home/nbuser/anaconda3_501/lib/python3.6/site-packages/IPython/core/shellapp.py'>,\n",
       " 'IPython.extensions': <module 'IPython.extensions' from '/home/nbuser/anaconda3_501/lib/python3.6/site-packages/IPython/extensions/__init__.py'>,\n",
       " 'IPython.extensions.storemagic': <module 'IPython.extensions.storemagic' from '/home/nbuser/anaconda3_501/lib/python3.6/site-packages/IPython/extensions/storemagic.py'>,\n",
       " 'IPython.utils.frame': <module 'IPython.utils.frame' from '/home/nbuser/anaconda3_501/lib/python3.6/site-packages/IPython/utils/frame.py'>,\n",
       " 'jupyter_client': <module 'jupyter_client' from '/home/nbuser/anaconda3_501/lib/python3.6/site-packages/jupyter_client/__init__.py'>,\n",
       " 'jupyter_client._version': <module 'jupyter_client._version' from '/home/nbuser/anaconda3_501/lib/python3.6/site-packages/jupyter_client/_version.py'>,\n",
       " 'jupyter_client.connect': <module 'jupyter_client.connect' from '/home/nbuser/anaconda3_501/lib/python3.6/site-packages/jupyter_client/connect.py'>,\n",
       " 'zmq': <module 'zmq' from '/home/nbuser/anaconda3_501/lib/python3.6/site-packages/zmq/__init__.py'>,\n",
       " 'zmq.backend': <module 'zmq.backend' from '/home/nbuser/anaconda3_501/lib/python3.6/site-packages/zmq/backend/__init__.py'>,\n",
       " 'zmq.backend.select': <module 'zmq.backend.select' from '/home/nbuser/anaconda3_501/lib/python3.6/site-packages/zmq/backend/select.py'>,\n",
       " 'zmq.backend.cython': <module 'zmq.backend.cython' from '/home/nbuser/anaconda3_501/lib/python3.6/site-packages/zmq/backend/cython/__init__.py'>,\n",
       " 'cython_runtime': <module 'cython_runtime'>,\n",
       " 'zmq.backend.cython.constants': <module 'zmq.backend.cython.constants' from '/home/nbuser/anaconda3_501/lib/python3.6/site-packages/zmq/backend/cython/constants.cpython-36m-x86_64-linux-gnu.so'>,\n",
       " '_cython_0_28_5': <module '_cython_0_28_5'>,\n",
       " 'zmq.backend.cython.error': <module 'zmq.backend.cython.error' from '/home/nbuser/anaconda3_501/lib/python3.6/site-packages/zmq/backend/cython/error.cpython-36m-x86_64-linux-gnu.so'>,\n",
       " 'zmq.backend.cython.message': <module 'zmq.backend.cython.message' from '/home/nbuser/anaconda3_501/lib/python3.6/site-packages/zmq/backend/cython/message.cpython-36m-x86_64-linux-gnu.so'>,\n",
       " 'zmq.error': <module 'zmq.error' from '/home/nbuser/anaconda3_501/lib/python3.6/site-packages/zmq/error.py'>,\n",
       " 'zmq.backend.cython.context': <module 'zmq.backend.cython.context' from '/home/nbuser/anaconda3_501/lib/python3.6/site-packages/zmq/backend/cython/context.cpython-36m-x86_64-linux-gnu.so'>,\n",
       " 'zmq.backend.cython.socket': <module 'zmq.backend.cython.socket' from '/home/nbuser/anaconda3_501/lib/python3.6/site-packages/zmq/backend/cython/socket.cpython-36m-x86_64-linux-gnu.so'>,\n",
       " 'zmq.backend.cython.utils': <module 'zmq.backend.cython.utils' from '/home/nbuser/anaconda3_501/lib/python3.6/site-packages/zmq/backend/cython/utils.cpython-36m-x86_64-linux-gnu.so'>,\n",
       " 'zmq.backend.cython._poll': <module 'zmq.backend.cython._poll' from '/home/nbuser/anaconda3_501/lib/python3.6/site-packages/zmq/backend/cython/_poll.cpython-36m-x86_64-linux-gnu.so'>,\n",
       " 'zmq.backend.cython._version': <module 'zmq.backend.cython._version' from '/home/nbuser/anaconda3_501/lib/python3.6/site-packages/zmq/backend/cython/_version.cpython-36m-x86_64-linux-gnu.so'>,\n",
       " 'zmq.backend.cython._device': <module 'zmq.backend.cython._device' from '/home/nbuser/anaconda3_501/lib/python3.6/site-packages/zmq/backend/cython/_device.cpython-36m-x86_64-linux-gnu.so'>,\n",
       " 'zmq.sugar': <module 'zmq.sugar' from '/home/nbuser/anaconda3_501/lib/python3.6/site-packages/zmq/sugar/__init__.py'>,\n",
       " 'zmq.sugar.constants': <module 'zmq.sugar.constants' from '/home/nbuser/anaconda3_501/lib/python3.6/site-packages/zmq/sugar/constants.py'>,\n",
       " 'zmq.utils': <module 'zmq.utils' from '/home/nbuser/anaconda3_501/lib/python3.6/site-packages/zmq/utils/__init__.py'>,\n",
       " 'zmq.utils.constant_names': <module 'zmq.utils.constant_names' from '/home/nbuser/anaconda3_501/lib/python3.6/site-packages/zmq/utils/constant_names.py'>,\n",
       " 'zmq.sugar.context': <module 'zmq.sugar.context' from '/home/nbuser/anaconda3_501/lib/python3.6/site-packages/zmq/sugar/context.py'>,\n",
       " 'zmq.sugar.attrsettr': <module 'zmq.sugar.attrsettr' from '/home/nbuser/anaconda3_501/lib/python3.6/site-packages/zmq/sugar/attrsettr.py'>,\n",
       " 'zmq.sugar.socket': <module 'zmq.sugar.socket' from '/home/nbuser/anaconda3_501/lib/python3.6/site-packages/zmq/sugar/socket.py'>,\n",
       " 'zmq.sugar.poll': <module 'zmq.sugar.poll' from '/home/nbuser/anaconda3_501/lib/python3.6/site-packages/zmq/sugar/poll.py'>,\n",
       " 'zmq.utils.jsonapi': <module 'zmq.utils.jsonapi' from '/home/nbuser/anaconda3_501/lib/python3.6/site-packages/zmq/utils/jsonapi.py'>,\n",
       " 'zmq.utils.strtypes': <module 'zmq.utils.strtypes' from '/home/nbuser/anaconda3_501/lib/python3.6/site-packages/zmq/utils/strtypes.py'>,\n",
       " 'zmq.sugar.frame': <module 'zmq.sugar.frame' from '/home/nbuser/anaconda3_501/lib/python3.6/site-packages/zmq/sugar/frame.py'>,\n",
       " 'zmq.sugar.tracker': <module 'zmq.sugar.tracker' from '/home/nbuser/anaconda3_501/lib/python3.6/site-packages/zmq/sugar/tracker.py'>,\n",
       " 'zmq.sugar.version': <module 'zmq.sugar.version' from '/home/nbuser/anaconda3_501/lib/python3.6/site-packages/zmq/sugar/version.py'>,\n",
       " 'zmq.sugar.stopwatch': <module 'zmq.sugar.stopwatch' from '/home/nbuser/anaconda3_501/lib/python3.6/site-packages/zmq/sugar/stopwatch.py'>,\n",
       " 'jupyter_client.localinterfaces': <module 'jupyter_client.localinterfaces' from '/home/nbuser/anaconda3_501/lib/python3.6/site-packages/jupyter_client/localinterfaces.py'>,\n",
       " 'jupyter_core': <module 'jupyter_core' from '/home/nbuser/anaconda3_501/lib/python3.6/site-packages/jupyter_core/__init__.py'>,\n",
       " 'jupyter_core.version': <module 'jupyter_core.version' from '/home/nbuser/anaconda3_501/lib/python3.6/site-packages/jupyter_core/version.py'>,\n",
       " 'jupyter_core.paths': <module 'jupyter_core.paths' from '/home/nbuser/anaconda3_501/lib/python3.6/site-packages/jupyter_core/paths.py'>,\n",
       " 'jupyter_client.launcher': <module 'jupyter_client.launcher' from '/home/nbuser/anaconda3_501/lib/python3.6/site-packages/jupyter_client/launcher.py'>,\n",
       " 'traitlets.log': <module 'traitlets.log' from '/home/nbuser/anaconda3_501/lib/python3.6/site-packages/traitlets/log.py'>,\n",
       " 'jupyter_client.client': <module 'jupyter_client.client' from '/home/nbuser/anaconda3_501/lib/python3.6/site-packages/jupyter_client/client.py'>,\n",
       " 'jupyter_client.channels': <module 'jupyter_client.channels' from '/home/nbuser/anaconda3_501/lib/python3.6/site-packages/jupyter_client/channels.py'>,\n",
       " 'jupyter_client.channelsabc': <module 'jupyter_client.channelsabc' from '/home/nbuser/anaconda3_501/lib/python3.6/site-packages/jupyter_client/channelsabc.py'>,\n",
       " 'jupyter_client.clientabc': <module 'jupyter_client.clientabc' from '/home/nbuser/anaconda3_501/lib/python3.6/site-packages/jupyter_client/clientabc.py'>,\n",
       " 'jupyter_client.manager': <module 'jupyter_client.manager' from '/home/nbuser/anaconda3_501/lib/python3.6/site-packages/jupyter_client/manager.py'>,\n",
       " 'jupyter_client.kernelspec': <module 'jupyter_client.kernelspec' from '/home/nbuser/anaconda3_501/lib/python3.6/site-packages/jupyter_client/kernelspec.py'>,\n",
       " 'jupyter_client.managerabc': <module 'jupyter_client.managerabc' from '/home/nbuser/anaconda3_501/lib/python3.6/site-packages/jupyter_client/managerabc.py'>,\n",
       " 'jupyter_client.blocking': <module 'jupyter_client.blocking' from '/home/nbuser/anaconda3_501/lib/python3.6/site-packages/jupyter_client/blocking/__init__.py'>,\n",
       " 'jupyter_client.blocking.client': <module 'jupyter_client.blocking.client' from '/home/nbuser/anaconda3_501/lib/python3.6/site-packages/jupyter_client/blocking/client.py'>,\n",
       " 'jupyter_client.blocking.channels': <module 'jupyter_client.blocking.channels' from '/home/nbuser/anaconda3_501/lib/python3.6/site-packages/jupyter_client/blocking/channels.py'>,\n",
       " 'jupyter_client.multikernelmanager': <module 'jupyter_client.multikernelmanager' from '/home/nbuser/anaconda3_501/lib/python3.6/site-packages/jupyter_client/multikernelmanager.py'>,\n",
       " 'uuid': <module 'uuid' from '/home/nbuser/anaconda3_501/lib/python3.6/uuid.py'>,\n",
       " 'ctypes.util': <module 'ctypes.util' from '/home/nbuser/anaconda3_501/lib/python3.6/ctypes/util.py'>,\n",
       " 'ipykernel.kernelapp': <module 'ipykernel.kernelapp' from '/home/nbuser/anaconda3_501/lib/python3.6/site-packages/ipykernel/kernelapp.py'>,\n",
       " 'tornado': <module 'tornado' from '/home/nbuser/anaconda3_501/lib/python3.6/site-packages/tornado/__init__.py'>,\n",
       " 'tornado.ioloop': <module 'tornado.ioloop' from '/home/nbuser/anaconda3_501/lib/python3.6/site-packages/tornado/ioloop.py'>,\n",
       " 'numbers': <module 'numbers' from '/home/nbuser/anaconda3_501/lib/python3.6/numbers.py'>,\n",
       " 'tornado.concurrent': <module 'tornado.concurrent' from '/home/nbuser/anaconda3_501/lib/python3.6/site-packages/tornado/concurrent.py'>,\n",
       " 'tornado.log': <module 'tornado.log' from '/home/nbuser/anaconda3_501/lib/python3.6/site-packages/tornado/log.py'>,\n",
       " 'logging.handlers': <module 'logging.handlers' from '/home/nbuser/anaconda3_501/lib/python3.6/logging/handlers.py'>,\n",
       " 'tornado.escape': <module 'tornado.escape' from '/home/nbuser/anaconda3_501/lib/python3.6/site-packages/tornado/escape.py'>,\n",
       " 'tornado.util': <module 'tornado.util' from '/home/nbuser/anaconda3_501/lib/python3.6/site-packages/tornado/util.py'>,\n",
       " 'tornado.speedups': <module 'tornado.speedups' from '/home/nbuser/anaconda3_501/lib/python3.6/site-packages/tornado/speedups.cpython-36m-x86_64-linux-gnu.so'>,\n",
       " 'curses': <module 'curses' from '/home/nbuser/anaconda3_501/lib/python3.6/curses/__init__.py'>,\n",
       " '_curses': <module '_curses' from '/home/nbuser/anaconda3_501/lib/python3.6/lib-dynload/_curses.cpython-36m-x86_64-linux-gnu.so'>,\n",
       " 'tornado.stack_context': <module 'tornado.stack_context' from '/home/nbuser/anaconda3_501/lib/python3.6/site-packages/tornado/stack_context.py'>,\n",
       " 'tornado.platform': <module 'tornado.platform' from '/home/nbuser/anaconda3_501/lib/python3.6/site-packages/tornado/platform/__init__.py'>,\n",
       " 'tornado.platform.auto': <module 'tornado.platform.auto' from '/home/nbuser/anaconda3_501/lib/python3.6/site-packages/tornado/platform/auto.py'>,\n",
       " 'tornado.platform.posix': <module 'tornado.platform.posix' from '/home/nbuser/anaconda3_501/lib/python3.6/site-packages/tornado/platform/posix.py'>,\n",
       " 'tornado.platform.common': <module 'tornado.platform.common' from '/home/nbuser/anaconda3_501/lib/python3.6/site-packages/tornado/platform/common.py'>,\n",
       " 'tornado.platform.interface': <module 'tornado.platform.interface' from '/home/nbuser/anaconda3_501/lib/python3.6/site-packages/tornado/platform/interface.py'>,\n",
       " 'zmq.eventloop': <module 'zmq.eventloop' from '/home/nbuser/anaconda3_501/lib/python3.6/site-packages/zmq/eventloop/__init__.py'>,\n",
       " 'zmq.eventloop.ioloop': <module 'zmq.eventloop.ioloop' from '/home/nbuser/anaconda3_501/lib/python3.6/site-packages/zmq/eventloop/ioloop.py'>,\n",
       " 'tornado.platform.epoll': <module 'tornado.platform.epoll' from '/home/nbuser/anaconda3_501/lib/python3.6/site-packages/tornado/platform/epoll.py'>,\n",
       " 'zmq.eventloop.zmqstream': <module 'zmq.eventloop.zmqstream' from '/home/nbuser/anaconda3_501/lib/python3.6/site-packages/zmq/eventloop/zmqstream.py'>,\n",
       " 'ipykernel.iostream': <module 'ipykernel.iostream' from '/home/nbuser/anaconda3_501/lib/python3.6/site-packages/ipykernel/iostream.py'>,\n",
       " 'imp': <module 'imp' from '/home/nbuser/anaconda3_501/lib/python3.6/imp.py'>,\n",
       " 'jupyter_client.session': <module 'jupyter_client.session' from '/home/nbuser/anaconda3_501/lib/python3.6/site-packages/jupyter_client/session.py'>,\n",
       " 'hmac': <module 'hmac' from '/home/nbuser/anaconda3_501/lib/python3.6/hmac.py'>,\n",
       " 'jupyter_client.jsonutil': <module 'jupyter_client.jsonutil' from '/home/nbuser/anaconda3_501/lib/python3.6/site-packages/jupyter_client/jsonutil.py'>,\n",
       " 'dateutil': <module 'dateutil' from '/home/nbuser/anaconda3_501/lib/python3.6/site-packages/dateutil/__init__.py'>,\n",
       " 'dateutil._version': <module 'dateutil._version' from '/home/nbuser/anaconda3_501/lib/python3.6/site-packages/dateutil/_version.py'>,\n",
       " 'dateutil.parser': <module 'dateutil.parser' from '/home/nbuser/anaconda3_501/lib/python3.6/site-packages/dateutil/parser/__init__.py'>,\n",
       " 'dateutil.parser._parser': <module 'dateutil.parser._parser' from '/home/nbuser/anaconda3_501/lib/python3.6/site-packages/dateutil/parser/_parser.py'>,\n",
       " 'decimal': <module 'decimal' from '/home/nbuser/anaconda3_501/lib/python3.6/decimal.py'>,\n",
       " '_decimal': <module '_decimal' from '/home/nbuser/anaconda3_501/lib/python3.6/lib-dynload/_decimal.cpython-36m-x86_64-linux-gnu.so'>,\n",
       " 'dateutil.relativedelta': <module 'dateutil.relativedelta' from '/home/nbuser/anaconda3_501/lib/python3.6/site-packages/dateutil/relativedelta.py'>,\n",
       " 'dateutil._common': <module 'dateutil._common' from '/home/nbuser/anaconda3_501/lib/python3.6/site-packages/dateutil/_common.py'>,\n",
       " 'dateutil.tz': <module 'dateutil.tz' from '/home/nbuser/anaconda3_501/lib/python3.6/site-packages/dateutil/tz/__init__.py'>,\n",
       " 'dateutil.tz.tz': <module 'dateutil.tz.tz' from '/home/nbuser/anaconda3_501/lib/python3.6/site-packages/dateutil/tz/tz.py'>,\n",
       " 'dateutil.tz._common': <module 'dateutil.tz._common' from '/home/nbuser/anaconda3_501/lib/python3.6/site-packages/dateutil/tz/_common.py'>,\n",
       " 'dateutil.tz._factories': <module 'dateutil.tz._factories' from '/home/nbuser/anaconda3_501/lib/python3.6/site-packages/dateutil/tz/_factories.py'>,\n",
       " 'dateutil.parser.isoparser': <module 'dateutil.parser.isoparser' from '/home/nbuser/anaconda3_501/lib/python3.6/site-packages/dateutil/parser/isoparser.py'>,\n",
       " '_strptime': <module '_strptime' from '/home/nbuser/anaconda3_501/lib/python3.6/_strptime.py'>,\n",
       " 'jupyter_client.adapter': <module 'jupyter_client.adapter' from '/home/nbuser/anaconda3_501/lib/python3.6/site-packages/jupyter_client/adapter.py'>,\n",
       " 'ipykernel.heartbeat': <module 'ipykernel.heartbeat' from '/home/nbuser/anaconda3_501/lib/python3.6/site-packages/ipykernel/heartbeat.py'>,\n",
       " 'ipykernel.ipkernel': <module 'ipykernel.ipkernel' from '/home/nbuser/anaconda3_501/lib/python3.6/site-packages/ipykernel/ipkernel.py'>,\n",
       " 'IPython.utils.tokenutil': <module 'IPython.utils.tokenutil' from '/home/nbuser/anaconda3_501/lib/python3.6/site-packages/IPython/utils/tokenutil.py'>,\n",
       " 'tornado.gen': <module 'tornado.gen' from '/home/nbuser/anaconda3_501/lib/python3.6/site-packages/tornado/gen.py'>,\n",
       " 'tornado.platform.asyncio': <module 'tornado.platform.asyncio' from '/home/nbuser/anaconda3_501/lib/python3.6/site-packages/tornado/platform/asyncio.py'>,\n",
       " 'ipykernel.comm': <module 'ipykernel.comm' from '/home/nbuser/anaconda3_501/lib/python3.6/site-packages/ipykernel/comm/__init__.py'>,\n",
       " 'ipykernel.comm.manager': <module 'ipykernel.comm.manager' from '/home/nbuser/anaconda3_501/lib/python3.6/site-packages/ipykernel/comm/manager.py'>,\n",
       " 'ipykernel.comm.comm': <module 'ipykernel.comm.comm' from '/home/nbuser/anaconda3_501/lib/python3.6/site-packages/ipykernel/comm/comm.py'>,\n",
       " 'ipykernel.kernelbase': <module 'ipykernel.kernelbase' from '/home/nbuser/anaconda3_501/lib/python3.6/site-packages/ipykernel/kernelbase.py'>,\n",
       " 'tornado.queues': <module 'tornado.queues' from '/home/nbuser/anaconda3_501/lib/python3.6/site-packages/tornado/queues.py'>,\n",
       " 'tornado.locks': <module 'tornado.locks' from '/home/nbuser/anaconda3_501/lib/python3.6/site-packages/tornado/locks.py'>,\n",
       " 'ipykernel.jsonutil': <module 'ipykernel.jsonutil' from '/home/nbuser/anaconda3_501/lib/python3.6/site-packages/ipykernel/jsonutil.py'>,\n",
       " 'ipykernel.zmqshell': <module 'ipykernel.zmqshell' from '/home/nbuser/anaconda3_501/lib/python3.6/site-packages/ipykernel/zmqshell.py'>,\n",
       " 'IPython.core.payloadpage': <module 'IPython.core.payloadpage' from '/home/nbuser/anaconda3_501/lib/python3.6/site-packages/IPython/core/payloadpage.py'>,\n",
       " 'ipykernel.displayhook': <module 'ipykernel.displayhook' from '/home/nbuser/anaconda3_501/lib/python3.6/site-packages/ipykernel/displayhook.py'>,\n",
       " 'ipykernel.parentpoller': <module 'ipykernel.parentpoller' from '/home/nbuser/anaconda3_501/lib/python3.6/site-packages/ipykernel/parentpoller.py'>,\n",
       " 'faulthandler': <module 'faulthandler' (built-in)>,\n",
       " 'ipykernel.datapub': <module 'ipykernel.datapub' from '/home/nbuser/anaconda3_501/lib/python3.6/site-packages/ipykernel/datapub.py'>,\n",
       " 'ipykernel.serialize': <module 'ipykernel.serialize' from '/home/nbuser/anaconda3_501/lib/python3.6/site-packages/ipykernel/serialize.py'>,\n",
       " 'ipykernel.pickleutil': <module 'ipykernel.pickleutil' from '/home/nbuser/anaconda3_501/lib/python3.6/site-packages/ipykernel/pickleutil.py'>,\n",
       " 'ipykernel.codeutil': <module 'ipykernel.codeutil' from '/home/nbuser/anaconda3_501/lib/python3.6/site-packages/ipykernel/codeutil.py'>,\n",
       " 'IPython.core.completerlib': <module 'IPython.core.completerlib' from '/home/nbuser/anaconda3_501/lib/python3.6/site-packages/IPython/core/completerlib.py'>,\n",
       " 'storemagic': <module 'storemagic' from '/home/nbuser/anaconda3_501/lib/python3.6/site-packages/IPython/extensions/storemagic.py'>,\n",
       " 'ipywidgets': <module 'ipywidgets' from '/home/nbuser/anaconda3_501/lib/python3.6/site-packages/ipywidgets/__init__.py'>,\n",
       " 'ipywidgets._version': <module 'ipywidgets._version' from '/home/nbuser/anaconda3_501/lib/python3.6/site-packages/ipywidgets/_version.py'>,\n",
       " 'ipywidgets.widgets': <module 'ipywidgets.widgets' from '/home/nbuser/anaconda3_501/lib/python3.6/site-packages/ipywidgets/widgets/__init__.py'>,\n",
       " 'ipywidgets.widgets.widget': <module 'ipywidgets.widgets.widget' from '/home/nbuser/anaconda3_501/lib/python3.6/site-packages/ipywidgets/widgets/widget.py'>,\n",
       " 'ipywidgets.widgets.domwidget': <module 'ipywidgets.widgets.domwidget' from '/home/nbuser/anaconda3_501/lib/python3.6/site-packages/ipywidgets/widgets/domwidget.py'>,\n",
       " 'ipywidgets.widgets.trait_types': <module 'ipywidgets.widgets.trait_types' from '/home/nbuser/anaconda3_501/lib/python3.6/site-packages/ipywidgets/widgets/trait_types.py'>,\n",
       " 'ipywidgets.widgets.widget_layout': <module 'ipywidgets.widgets.widget_layout' from '/home/nbuser/anaconda3_501/lib/python3.6/site-packages/ipywidgets/widgets/widget_layout.py'>,\n",
       " 'ipywidgets.widgets.widget_style': <module 'ipywidgets.widgets.widget_style' from '/home/nbuser/anaconda3_501/lib/python3.6/site-packages/ipywidgets/widgets/widget_style.py'>,\n",
       " 'ipywidgets.widgets.valuewidget': <module 'ipywidgets.widgets.valuewidget' from '/home/nbuser/anaconda3_501/lib/python3.6/site-packages/ipywidgets/widgets/valuewidget.py'>,\n",
       " 'ipywidgets.widgets.widget_core': <module 'ipywidgets.widgets.widget_core' from '/home/nbuser/anaconda3_501/lib/python3.6/site-packages/ipywidgets/widgets/widget_core.py'>,\n",
       " 'ipywidgets.widgets.widget_bool': <module 'ipywidgets.widgets.widget_bool' from '/home/nbuser/anaconda3_501/lib/python3.6/site-packages/ipywidgets/widgets/widget_bool.py'>,\n",
       " 'ipywidgets.widgets.widget_description': <module 'ipywidgets.widgets.widget_description' from '/home/nbuser/anaconda3_501/lib/python3.6/site-packages/ipywidgets/widgets/widget_description.py'>,\n",
       " 'ipywidgets.widgets.widget_button': <module 'ipywidgets.widgets.widget_button' from '/home/nbuser/anaconda3_501/lib/python3.6/site-packages/ipywidgets/widgets/widget_button.py'>,\n",
       " 'ipywidgets.widgets.widget_box': <module 'ipywidgets.widgets.widget_box' from '/home/nbuser/anaconda3_501/lib/python3.6/site-packages/ipywidgets/widgets/widget_box.py'>,\n",
       " 'ipywidgets.widgets.docutils': <module 'ipywidgets.widgets.docutils' from '/home/nbuser/anaconda3_501/lib/python3.6/site-packages/ipywidgets/widgets/docutils.py'>,\n",
       " 'ipywidgets.widgets.widget_float': <module 'ipywidgets.widgets.widget_float' from '/home/nbuser/anaconda3_501/lib/python3.6/site-packages/ipywidgets/widgets/widget_float.py'>,\n",
       " 'ipywidgets.widgets.widget_int': <module 'ipywidgets.widgets.widget_int' from '/home/nbuser/anaconda3_501/lib/python3.6/site-packages/ipywidgets/widgets/widget_int.py'>,\n",
       " 'ipywidgets.widgets.widget_color': <module 'ipywidgets.widgets.widget_color' from '/home/nbuser/anaconda3_501/lib/python3.6/site-packages/ipywidgets/widgets/widget_color.py'>,\n",
       " 'ipywidgets.widgets.widget_date': <module 'ipywidgets.widgets.widget_date' from '/home/nbuser/anaconda3_501/lib/python3.6/site-packages/ipywidgets/widgets/widget_date.py'>,\n",
       " 'ipywidgets.widgets.widget_output': <module 'ipywidgets.widgets.widget_output' from '/home/nbuser/anaconda3_501/lib/python3.6/site-packages/ipywidgets/widgets/widget_output.py'>,\n",
       " 'ipywidgets.widgets.widget_selection': <module 'ipywidgets.widgets.widget_selection' from '/home/nbuser/anaconda3_501/lib/python3.6/site-packages/ipywidgets/widgets/widget_selection.py'>,\n",
       " 'ipywidgets.widgets.widget_selectioncontainer': <module 'ipywidgets.widgets.widget_selectioncontainer' from '/home/nbuser/anaconda3_501/lib/python3.6/site-packages/ipywidgets/widgets/widget_selectioncontainer.py'>,\n",
       " 'ipywidgets.widgets.widget_string': <module 'ipywidgets.widgets.widget_string' from '/home/nbuser/anaconda3_501/lib/python3.6/site-packages/ipywidgets/widgets/widget_string.py'>,\n",
       " 'ipywidgets.widgets.widget_controller': <module 'ipywidgets.widgets.widget_controller' from '/home/nbuser/anaconda3_501/lib/python3.6/site-packages/ipywidgets/widgets/widget_controller.py'>,\n",
       " 'ipywidgets.widgets.interaction': <module 'ipywidgets.widgets.interaction' from '/home/nbuser/anaconda3_501/lib/python3.6/site-packages/ipywidgets/widgets/interaction.py'>,\n",
       " 'ipywidgets.widgets.widget_link': <module 'ipywidgets.widgets.widget_link' from '/home/nbuser/anaconda3_501/lib/python3.6/site-packages/ipywidgets/widgets/widget_link.py'>,\n",
       " 'ipywidgets.widgets.widget_media': <module 'ipywidgets.widgets.widget_media' from '/home/nbuser/anaconda3_501/lib/python3.6/site-packages/ipywidgets/widgets/widget_media.py'>}"
      ]
     },
     "execution_count": 20,
     "metadata": {},
     "output_type": "execute_result"
    }
   ],
   "source": [
    "import sys\n",
    "sys.modules "
   ]
  },
  {
   "cell_type": "code",
   "execution_count": 21,
   "metadata": {},
   "outputs": [
    {
     "data": {
      "text/plain": [
       "dict"
      ]
     },
     "execution_count": 21,
     "metadata": {},
     "output_type": "execute_result"
    }
   ],
   "source": [
    "type(sys.modules)  #it contains all the modules and their memory addresses"
   ]
  },
  {
   "cell_type": "code",
   "execution_count": null,
   "metadata": {},
   "outputs": [],
   "source": [
    "sys.modules['math']"
   ]
  },
  {
   "cell_type": "code",
   "execution_count": null,
   "metadata": {},
   "outputs": [],
   "source": [
    "id(sys.modules['math'])"
   ]
  },
  {
   "cell_type": "code",
   "execution_count": null,
   "metadata": {},
   "outputs": [],
   "source": [
    "#we can also import math from sys.modules and the id of math does not change because it is in the global namespace "
   ]
  },
  {
   "cell_type": "code",
   "execution_count": null,
   "metadata": {},
   "outputs": [],
   "source": [
    "math.__name__"
   ]
  },
  {
   "cell_type": "code",
   "execution_count": null,
   "metadata": {},
   "outputs": [],
   "source": [
    "math.__dict__  #it is the dictionary of math,and it restores all the functions inside of the math module"
   ]
  },
  {
   "cell_type": "code",
   "execution_count": 22,
   "metadata": {},
   "outputs": [
    {
     "data": {
      "text/plain": [
       "<function math.sqrt>"
      ]
     },
     "execution_count": 22,
     "metadata": {},
     "output_type": "execute_result"
    }
   ],
   "source": [
    "#so we can retrieve functions from the dict\n",
    "f=math.__dict__['sqrt']\n",
    "f"
   ]
  },
  {
   "cell_type": "code",
   "execution_count": 23,
   "metadata": {},
   "outputs": [
    {
     "data": {
      "text/plain": [
       "1.4142135623730951"
      ]
     },
     "execution_count": 23,
     "metadata": {},
     "output_type": "execute_result"
    }
   ],
   "source": [
    "f(2)"
   ]
  },
  {
   "cell_type": "code",
   "execution_count": 24,
   "metadata": {},
   "outputs": [
    {
     "data": {
      "text/plain": [
       "['Decimal',\n",
       " 'Fraction',\n",
       " '_PyHASH_INF',\n",
       " '_PyHASH_MODULUS',\n",
       " '_RATIONAL_FORMAT',\n",
       " '__all__',\n",
       " '__builtins__',\n",
       " '__cached__',\n",
       " '__doc__',\n",
       " '__file__',\n",
       " '__loader__',\n",
       " '__name__',\n",
       " '__package__',\n",
       " '__spec__',\n",
       " '_gcd',\n",
       " 'gcd',\n",
       " 'math',\n",
       " 'numbers',\n",
       " 'operator',\n",
       " 're',\n",
       " 'sys']"
      ]
     },
     "execution_count": 24,
     "metadata": {},
     "output_type": "execute_result"
    }
   ],
   "source": [
    "import fractions\n",
    "dir(fractions)"
   ]
  },
  {
   "cell_type": "code",
   "execution_count": 25,
   "metadata": {},
   "outputs": [
    {
     "data": {
      "text/plain": [
       "list"
      ]
     },
     "execution_count": 25,
     "metadata": {},
     "output_type": "execute_result"
    }
   ],
   "source": [
    "type(dir(fractions))  #it is a list of keys, what are the keys ??"
   ]
  },
  {
   "cell_type": "code",
   "execution_count": 26,
   "metadata": {},
   "outputs": [
    {
     "data": {
      "text/plain": [
       "{'__name__': 'fractions',\n",
       " '__doc__': 'Fraction, infinite-precision, real numbers.',\n",
       " '__package__': '',\n",
       " '__loader__': <_frozen_importlib_external.SourceFileLoader at 0x7fda34578240>,\n",
       " '__spec__': ModuleSpec(name='fractions', loader=<_frozen_importlib_external.SourceFileLoader object at 0x7fda34578240>, origin='/home/nbuser/anaconda3_501/lib/python3.6/fractions.py'),\n",
       " '__file__': '/home/nbuser/anaconda3_501/lib/python3.6/fractions.py',\n",
       " '__cached__': '/home/nbuser/anaconda3_501/lib/python3.6/__pycache__/fractions.cpython-36.pyc',\n",
       " '__builtins__': {'__name__': 'builtins',\n",
       "  '__doc__': \"Built-in functions, exceptions, and other objects.\\n\\nNoteworthy: None is the `nil' object; Ellipsis represents `...' in slices.\",\n",
       "  '__package__': '',\n",
       "  '__loader__': _frozen_importlib.BuiltinImporter,\n",
       "  '__spec__': ModuleSpec(name='builtins', loader=<class '_frozen_importlib.BuiltinImporter'>),\n",
       "  '__build_class__': <function __build_class__>,\n",
       "  '__import__': <function __import__>,\n",
       "  'abs': <function abs(x, /)>,\n",
       "  'all': <function all(iterable, /)>,\n",
       "  'any': <function any(iterable, /)>,\n",
       "  'ascii': <function ascii(obj, /)>,\n",
       "  'bin': <function bin(number, /)>,\n",
       "  'callable': <function callable(obj, /)>,\n",
       "  'chr': <function chr(i, /)>,\n",
       "  'compile': <function compile(source, filename, mode, flags=0, dont_inherit=False, optimize=-1)>,\n",
       "  'delattr': <function delattr(obj, name, /)>,\n",
       "  'dir': <function dir>,\n",
       "  'divmod': <function divmod(x, y, /)>,\n",
       "  'eval': <function eval(source, globals=None, locals=None, /)>,\n",
       "  'exec': <function exec(source, globals=None, locals=None, /)>,\n",
       "  'format': <function format(value, format_spec='', /)>,\n",
       "  'getattr': <function getattr>,\n",
       "  'globals': <function globals()>,\n",
       "  'hasattr': <function hasattr(obj, name, /)>,\n",
       "  'hash': <function hash(obj, /)>,\n",
       "  'hex': <function hex(number, /)>,\n",
       "  'id': <function id(obj, /)>,\n",
       "  'input': <bound method Kernel.raw_input of <ipykernel.ipkernel.IPythonKernel object at 0x7fda34953550>>,\n",
       "  'isinstance': <function isinstance(obj, class_or_tuple, /)>,\n",
       "  'issubclass': <function issubclass(cls, class_or_tuple, /)>,\n",
       "  'iter': <function iter>,\n",
       "  'len': <function len(obj, /)>,\n",
       "  'locals': <function locals()>,\n",
       "  'max': <function max>,\n",
       "  'min': <function min>,\n",
       "  'next': <function next>,\n",
       "  'oct': <function oct(number, /)>,\n",
       "  'ord': <function ord(c, /)>,\n",
       "  'pow': <function pow(x, y, z=None, /)>,\n",
       "  'print': <function print>,\n",
       "  'repr': <function repr(obj, /)>,\n",
       "  'round': <function round>,\n",
       "  'setattr': <function setattr(obj, name, value, /)>,\n",
       "  'sorted': <function sorted(iterable, /, *, key=None, reverse=False)>,\n",
       "  'sum': <function sum(iterable, start=0, /)>,\n",
       "  'vars': <function vars>,\n",
       "  'None': None,\n",
       "  'Ellipsis': Ellipsis,\n",
       "  'NotImplemented': NotImplemented,\n",
       "  'False': False,\n",
       "  'True': True,\n",
       "  'bool': bool,\n",
       "  'memoryview': memoryview,\n",
       "  'bytearray': bytearray,\n",
       "  'bytes': bytes,\n",
       "  'classmethod': classmethod,\n",
       "  'complex': complex,\n",
       "  'dict': dict,\n",
       "  'enumerate': enumerate,\n",
       "  'filter': filter,\n",
       "  'float': float,\n",
       "  'frozenset': frozenset,\n",
       "  'property': property,\n",
       "  'int': int,\n",
       "  'list': list,\n",
       "  'map': map,\n",
       "  'object': object,\n",
       "  'range': range,\n",
       "  'reversed': reversed,\n",
       "  'set': set,\n",
       "  'slice': slice,\n",
       "  'staticmethod': staticmethod,\n",
       "  'str': str,\n",
       "  'super': super,\n",
       "  'tuple': tuple,\n",
       "  'type': type,\n",
       "  'zip': zip,\n",
       "  '__debug__': True,\n",
       "  'BaseException': BaseException,\n",
       "  'Exception': Exception,\n",
       "  'TypeError': TypeError,\n",
       "  'StopAsyncIteration': StopAsyncIteration,\n",
       "  'StopIteration': StopIteration,\n",
       "  'GeneratorExit': GeneratorExit,\n",
       "  'SystemExit': SystemExit,\n",
       "  'KeyboardInterrupt': KeyboardInterrupt,\n",
       "  'ImportError': ImportError,\n",
       "  'ModuleNotFoundError': ModuleNotFoundError,\n",
       "  'OSError': OSError,\n",
       "  'EnvironmentError': OSError,\n",
       "  'IOError': OSError,\n",
       "  'EOFError': EOFError,\n",
       "  'RuntimeError': RuntimeError,\n",
       "  'RecursionError': RecursionError,\n",
       "  'NotImplementedError': NotImplementedError,\n",
       "  'NameError': NameError,\n",
       "  'UnboundLocalError': UnboundLocalError,\n",
       "  'AttributeError': AttributeError,\n",
       "  'SyntaxError': SyntaxError,\n",
       "  'IndentationError': IndentationError,\n",
       "  'TabError': TabError,\n",
       "  'LookupError': LookupError,\n",
       "  'IndexError': IndexError,\n",
       "  'KeyError': KeyError,\n",
       "  'ValueError': ValueError,\n",
       "  'UnicodeError': UnicodeError,\n",
       "  'UnicodeEncodeError': UnicodeEncodeError,\n",
       "  'UnicodeDecodeError': UnicodeDecodeError,\n",
       "  'UnicodeTranslateError': UnicodeTranslateError,\n",
       "  'AssertionError': AssertionError,\n",
       "  'ArithmeticError': ArithmeticError,\n",
       "  'FloatingPointError': FloatingPointError,\n",
       "  'OverflowError': OverflowError,\n",
       "  'ZeroDivisionError': ZeroDivisionError,\n",
       "  'SystemError': SystemError,\n",
       "  'ReferenceError': ReferenceError,\n",
       "  'BufferError': BufferError,\n",
       "  'MemoryError': MemoryError,\n",
       "  'Warning': Warning,\n",
       "  'UserWarning': UserWarning,\n",
       "  'DeprecationWarning': DeprecationWarning,\n",
       "  'PendingDeprecationWarning': PendingDeprecationWarning,\n",
       "  'SyntaxWarning': SyntaxWarning,\n",
       "  'RuntimeWarning': RuntimeWarning,\n",
       "  'FutureWarning': FutureWarning,\n",
       "  'ImportWarning': ImportWarning,\n",
       "  'UnicodeWarning': UnicodeWarning,\n",
       "  'BytesWarning': BytesWarning,\n",
       "  'ResourceWarning': ResourceWarning,\n",
       "  'ConnectionError': ConnectionError,\n",
       "  'BlockingIOError': BlockingIOError,\n",
       "  'BrokenPipeError': BrokenPipeError,\n",
       "  'ChildProcessError': ChildProcessError,\n",
       "  'ConnectionAbortedError': ConnectionAbortedError,\n",
       "  'ConnectionRefusedError': ConnectionRefusedError,\n",
       "  'ConnectionResetError': ConnectionResetError,\n",
       "  'FileExistsError': FileExistsError,\n",
       "  'FileNotFoundError': FileNotFoundError,\n",
       "  'IsADirectoryError': IsADirectoryError,\n",
       "  'NotADirectoryError': NotADirectoryError,\n",
       "  'InterruptedError': InterruptedError,\n",
       "  'PermissionError': PermissionError,\n",
       "  'ProcessLookupError': ProcessLookupError,\n",
       "  'TimeoutError': TimeoutError,\n",
       "  'open': <function io.open(file, mode='r', buffering=-1, encoding=None, errors=None, newline=None, closefd=True, opener=None)>,\n",
       "  'copyright': Copyright (c) 2001-2018 Python Software Foundation.\n",
       "  All Rights Reserved.\n",
       "  \n",
       "  Copyright (c) 2000 BeOpen.com.\n",
       "  All Rights Reserved.\n",
       "  \n",
       "  Copyright (c) 1995-2001 Corporation for National Research Initiatives.\n",
       "  All Rights Reserved.\n",
       "  \n",
       "  Copyright (c) 1991-1995 Stichting Mathematisch Centrum, Amsterdam.\n",
       "  All Rights Reserved.,\n",
       "  'credits':     Thanks to CWI, CNRI, BeOpen.com, Zope Corporation and a cast of thousands\n",
       "      for supporting Python development.  See www.python.org for more information.,\n",
       "  'license': Type license() to see the full license text,\n",
       "  'help': Type help() for interactive help, or help(object) for help about object.,\n",
       "  '__IPYTHON__': True,\n",
       "  'display': <function IPython.core.display.display(*objs, include=None, exclude=None, metadata=None, transient=None, display_id=None, **kwargs)>,\n",
       "  'get_ipython': <bound method InteractiveShell.get_ipython of <ipykernel.zmqshell.ZMQInteractiveShell object at 0x7fda349acb38>>},\n",
       " 'Decimal': decimal.Decimal,\n",
       " 'math': <module 'math' from '/home/nbuser/anaconda3_501/lib/python3.6/lib-dynload/math.cpython-36m-x86_64-linux-gnu.so'>,\n",
       " 'numbers': <module 'numbers' from '/home/nbuser/anaconda3_501/lib/python3.6/numbers.py'>,\n",
       " 'operator': <module 'operator' from '/home/nbuser/anaconda3_501/lib/python3.6/operator.py'>,\n",
       " 're': <module 're' from '/home/nbuser/anaconda3_501/lib/python3.6/re.py'>,\n",
       " 'sys': <module 'sys' (built-in)>,\n",
       " '__all__': ['Fraction', 'gcd'],\n",
       " 'gcd': <function fractions.gcd(a, b)>,\n",
       " '_gcd': <function fractions._gcd(a, b)>,\n",
       " '_PyHASH_MODULUS': 2305843009213693951,\n",
       " '_PyHASH_INF': 314159,\n",
       " '_RATIONAL_FORMAT': re.compile(r'\\n    \\A\\s*                      # optional whitespace at the start, then\\n    (?P<sign>[-+]?)            # an optional sign, then\\n    (?=\\d|\\.\\d)                # lookahead for digit or .digit\\n    (?P<num>\\d*)               # numerator (possibly empty)\\n    (?:                        # followed by\\n       (?:/(?P<denom>\\d+))?    # an optional denominator\\n    |                          # or\\n       (?:\\.(?P<decimal>\\d*))? # an optional fractional part\\n       (?:E(?P<exp>[-+]?\\d+))? # and optional exponent\\n    )\\n    \\s*\\Z                      # and optional whitespace to finish\\n',\n",
       " re.IGNORECASE|re.UNICODE|re.VERBOSE),\n",
       " 'Fraction': fractions.Fraction}"
      ]
     },
     "execution_count": 26,
     "metadata": {},
     "output_type": "execute_result"
    }
   ],
   "source": [
    "fractions.__dict__   # dict tell us the memory address of the keys"
   ]
  },
  {
   "cell_type": "code",
   "execution_count": null,
   "metadata": {},
   "outputs": [],
   "source": [
    "#moduels are get loaded from files \n",
    "#the regular datatype are module (which means modules are datatype )"
   ]
  },
  {
   "cell_type": "code",
   "execution_count": 28,
   "metadata": {},
   "outputs": [
    {
     "data": {
      "text/plain": [
       "True"
      ]
     },
     "execution_count": 28,
     "metadata": {},
     "output_type": "execute_result"
    }
   ],
   "source": [
    "import types\n",
    "isinstance(fractions,types.ModuleType)"
   ]
  },
  {
   "cell_type": "code",
   "execution_count": null,
   "metadata": {},
   "outputs": [],
   "source": [
    "'''Module is a data type，\n",
    "it reminds me of the data types i've met such as lists, dicts and sets, all have their characteristics\n",
    "\n",
    "'''"
   ]
  },
  {
   "cell_type": "code",
   "execution_count": 30,
   "metadata": {},
   "outputs": [
    {
     "data": {
      "text/plain": [
       "{'__name__': 'test',\n",
       " '__doc__': 'this is a test module',\n",
       " '__package__': None,\n",
       " '__loader__': None,\n",
       " '__spec__': None}"
      ]
     },
     "execution_count": 30,
     "metadata": {},
     "output_type": "execute_result"
    }
   ],
   "source": [
    "#since module is a data type just like lists,we can create our own modules\n",
    "mod=types.ModuleType('test','this is a test module')\n",
    "mod.__dict__"
   ]
  },
  {
   "cell_type": "code",
   "execution_count": 31,
   "metadata": {},
   "outputs": [
    {
     "data": {
      "text/plain": [
       "{'__name__': 'test',\n",
       " '__doc__': 'this is a test module',\n",
       " '__package__': None,\n",
       " '__loader__': None,\n",
       " '__spec__': None,\n",
       " 'pi': 3.14}"
      ]
     },
     "execution_count": 31,
     "metadata": {},
     "output_type": "execute_result"
    }
   ],
   "source": [
    "#we can add some attributes to the dict\n",
    "mod.pi=3.14\n",
    "mod.__dict__"
   ]
  },
  {
   "cell_type": "code",
   "execution_count": 32,
   "metadata": {},
   "outputs": [
    {
     "data": {
      "text/plain": [
       "{'__name__': 'test',\n",
       " '__doc__': 'this is a test module',\n",
       " '__package__': None,\n",
       " '__loader__': None,\n",
       " '__spec__': None,\n",
       " 'pi': 3.14,\n",
       " 'hello': <function __main__.<lambda>()>}"
      ]
     },
     "execution_count": 32,
     "metadata": {},
     "output_type": "execute_result"
    }
   ],
   "source": [
    "mod.hello=lambda:'hello!'\n",
    "mod.__dict__"
   ]
  },
  {
   "cell_type": "code",
   "execution_count": 34,
   "metadata": {},
   "outputs": [
    {
     "data": {
      "text/plain": [
       "'hello!'"
      ]
     },
     "execution_count": 34,
     "metadata": {},
     "output_type": "execute_result"
    }
   ],
   "source": [
    "mod.hello()"
   ]
  },
  {
   "cell_type": "code",
   "execution_count": 33,
   "metadata": {},
   "outputs": [
    {
     "data": {
      "text/plain": [
       "False"
      ]
     },
     "execution_count": 33,
     "metadata": {},
     "output_type": "execute_result"
    }
   ],
   "source": [
    "'hello' in globals()"
   ]
  },
  {
   "cell_type": "code",
   "execution_count": 35,
   "metadata": {},
   "outputs": [
    {
     "data": {
      "text/plain": [
       "True"
      ]
     },
     "execution_count": 35,
     "metadata": {},
     "output_type": "execute_result"
    }
   ],
   "source": [
    "hello=mod.hello\n",
    "'hello' in globals()"
   ]
  },
  {
   "cell_type": "code",
   "execution_count": 36,
   "metadata": {},
   "outputs": [
    {
     "data": {
      "text/plain": [
       "True"
      ]
     },
     "execution_count": 36,
     "metadata": {},
     "output_type": "execute_result"
    }
   ],
   "source": [
    "'mod' in globals()"
   ]
  },
  {
   "cell_type": "code",
   "execution_count": 37,
   "metadata": {},
   "outputs": [
    {
     "data": {
      "text/plain": [
       "'hello!'"
      ]
     },
     "execution_count": 37,
     "metadata": {},
     "output_type": "execute_result"
    }
   ],
   "source": [
    "hello()"
   ]
  },
  {
   "cell_type": "code",
   "execution_count": 38,
   "metadata": {},
   "outputs": [
    {
     "data": {
      "text/plain": [
       "(Point(x=0, y=0), Point(x=1, y=1))"
      ]
     },
     "execution_count": 38,
     "metadata": {},
     "output_type": "execute_result"
    }
   ],
   "source": [
    "from collections import namedtuple\n",
    "mod.Point=namedtuple('Point','x y')\n",
    "p1=mod.Point(0,0)\n",
    "p2=mod.Point(1,1)\n",
    "p1,p2"
   ]
  },
  {
   "cell_type": "code",
   "execution_count": 39,
   "metadata": {},
   "outputs": [
    {
     "data": {
      "text/plain": [
       "{'__name__': 'test',\n",
       " '__doc__': 'this is a test module',\n",
       " '__package__': None,\n",
       " '__loader__': None,\n",
       " '__spec__': None,\n",
       " 'pi': 3.14,\n",
       " 'hello': <function __main__.<lambda>()>,\n",
       " 'Point': __main__.Point}"
      ]
     },
     "execution_count": 39,
     "metadata": {},
     "output_type": "execute_result"
    }
   ],
   "source": [
    "mod.__dict__"
   ]
  },
  {
   "cell_type": "code",
   "execution_count": 40,
   "metadata": {},
   "outputs": [
    {
     "data": {
      "text/plain": [
       "['Point',\n",
       " '__doc__',\n",
       " '__loader__',\n",
       " '__name__',\n",
       " '__package__',\n",
       " '__spec__',\n",
       " 'hello',\n",
       " 'pi']"
      ]
     },
     "execution_count": 40,
     "metadata": {},
     "output_type": "execute_result"
    }
   ],
   "source": [
    " dir(mod)"
   ]
  },
  {
   "cell_type": "code",
   "execution_count": 41,
   "metadata": {},
   "outputs": [
    {
     "data": {
      "text/plain": [
       "Point(x=20, y=20)"
      ]
     },
     "execution_count": 41,
     "metadata": {},
     "output_type": "execute_result"
    }
   ],
   "source": [
    "PT=getattr(mod,'Point')  #这个好酷 \n",
    "PT(20,20)"
   ]
  },
  {
   "cell_type": "code",
   "execution_count": 42,
   "metadata": {},
   "outputs": [
    {
     "data": {
      "text/plain": [
       "Point(x=10, y=10)"
      ]
     },
     "execution_count": 42,
     "metadata": {},
     "output_type": "execute_result"
    }
   ],
   "source": [
    "#it is the same as \n",
    "PT=mod.__dict__['Point']\n",
    "PT(10,10)"
   ]
  },
  {
   "cell_type": "code",
   "execution_count": null,
   "metadata": {},
   "outputs": [],
   "source": [
    "#****************************************how does python import modules*************************"
   ]
  },
  {
   "cell_type": "code",
   "execution_count": null,
   "metadata": {},
   "outputs": [],
   "source": [
    "# when we import something, what are we doing "
   ]
  },
  {
   "cell_type": "code",
   "execution_count": null,
   "metadata": {},
   "outputs": [],
   "source": []
  },
  {
   "cell_type": "code",
   "execution_count": null,
   "metadata": {},
   "outputs": [],
   "source": [
    "#where does python look for imports?\n",
    "\n",
    "#when we import a module, we first look for it in sys module "
   ]
  },
  {
   "cell_type": "code",
   "execution_count": 1,
   "metadata": {},
   "outputs": [
    {
     "data": {
      "text/plain": [
       "'/home/nbuser/anaconda3_501'"
      ]
     },
     "execution_count": 1,
     "metadata": {},
     "output_type": "execute_result"
    }
   ],
   "source": [
    "import sys\n",
    "sys.prefix "
   ]
  },
  {
   "cell_type": "code",
   "execution_count": 2,
   "metadata": {},
   "outputs": [
    {
     "data": {
      "text/plain": [
       "'/home/nbuser/anaconda3_501'"
      ]
     },
     "execution_count": 2,
     "metadata": {},
     "output_type": "execute_result"
    }
   ],
   "source": [
    "#then we find out where the C compile binary exists\n",
    "sys.exec_prefix \n",
    "\n",
    "#in the same file as the module exists"
   ]
  },
  {
   "cell_type": "code",
   "execution_count": 3,
   "metadata": {},
   "outputs": [
    {
     "data": {
      "text/plain": [
       "['',\n",
       " '/home/nbuser/library',\n",
       " '/home/nbuser/anaconda3_501/lib/python36.zip',\n",
       " '/home/nbuser/anaconda3_501/lib/python3.6',\n",
       " '/home/nbuser/anaconda3_501/lib/python3.6/lib-dynload',\n",
       " '/home/nbuser/.local/lib/python3.6/site-packages',\n",
       " '/home/nbuser/anaconda3_501/lib/python3.6/site-packages',\n",
       " '/home/nbuser/anaconda3_501/lib/python3.6/site-packages/IPython/extensions',\n",
       " '/home/nbuser/.ipython']"
      ]
     },
     "execution_count": 3,
     "metadata": {},
     "output_type": "execute_result"
    }
   ],
   "source": [
    "#when we import a module, python will first look for modules in sys.path\n",
    "sys.path"
   ]
  },
  {
   "cell_type": "code",
   "execution_count": null,
   "metadata": {},
   "outputs": [],
   "source": [
    "#at high level, python will import modules from file "
   ]
  },
  {
   "cell_type": "code",
   "execution_count": null,
   "metadata": {},
   "outputs": [],
   "source": [
    "#***************************************Imports and importlib*****************************************"
   ]
  },
  {
   "cell_type": "code",
   "execution_count": 2,
   "metadata": {},
   "outputs": [],
   "source": [
    "import sys\n",
    "#when we import sys, where does sys comes from ??"
   ]
  },
  {
   "cell_type": "code",
   "execution_count": 3,
   "metadata": {},
   "outputs": [
    {
     "data": {
      "text/plain": [
       "<module 'sys' (built-in)>"
      ]
     },
     "execution_count": 3,
     "metadata": {},
     "output_type": "execute_result"
    }
   ],
   "source": [
    "sys  #it comes from built-in "
   ]
  },
  {
   "cell_type": "code",
   "execution_count": 6,
   "metadata": {},
   "outputs": [],
   "source": [
    "import importlib"
   ]
  },
  {
   "cell_type": "code",
   "execution_count": 7,
   "metadata": {},
   "outputs": [
    {
     "data": {
      "text/plain": [
       "<module 'importlib' from '/home/nbuser/anaconda3_501/lib/python3.6/importlib/__init__.py'>"
      ]
     },
     "execution_count": 7,
     "metadata": {},
     "output_type": "execute_result"
    }
   ],
   "source": [
    "importlib  #importlib is a package "
   ]
  },
  {
   "cell_type": "code",
   "execution_count": 8,
   "metadata": {},
   "outputs": [],
   "source": [
    "mod_name='math'"
   ]
  },
  {
   "cell_type": "code",
   "execution_count": 9,
   "metadata": {},
   "outputs": [
    {
     "data": {
      "text/plain": [
       "<module 'math' from '/home/nbuser/anaconda3_501/lib/python3.6/lib-dynload/math.cpython-36m-x86_64-linux-gnu.so'>"
      ]
     },
     "execution_count": 9,
     "metadata": {},
     "output_type": "execute_result"
    }
   ],
   "source": [
    "importlib.import_module(mod_name)"
   ]
  },
  {
   "cell_type": "code",
   "execution_count": 10,
   "metadata": {},
   "outputs": [
    {
     "data": {
      "text/plain": [
       "True"
      ]
     },
     "execution_count": 10,
     "metadata": {},
     "output_type": "execute_result"
    }
   ],
   "source": [
    "'math' in sys.modules"
   ]
  },
  {
   "cell_type": "code",
   "execution_count": 11,
   "metadata": {},
   "outputs": [
    {
     "data": {
      "text/plain": [
       "False"
      ]
     },
     "execution_count": 11,
     "metadata": {},
     "output_type": "execute_result"
    }
   ],
   "source": [
    "'fractions' in sys.modules  #because we have not imported fractions yet "
   ]
  },
  {
   "cell_type": "code",
   "execution_count": 14,
   "metadata": {},
   "outputs": [
    {
     "data": {
      "text/plain": [
       "False"
      ]
     },
     "execution_count": 14,
     "metadata": {},
     "output_type": "execute_result"
    }
   ],
   "source": [
    "'math' in globals()  #math is not in global namespace "
   ]
  },
  {
   "cell_type": "code",
   "execution_count": 15,
   "metadata": {},
   "outputs": [
    {
     "data": {
      "text/plain": [
       "\"\\nthis equals to:\\n\\nimport math as math2\\nmath2=sys.modules['math']\\n\\n\""
      ]
     },
     "execution_count": 15,
     "metadata": {},
     "output_type": "execute_result"
    }
   ],
   "source": [
    "math2=importlib.import_module(mod_name)\n",
    "\n",
    "'''\n",
    "this equals to:\n",
    "\n",
    "import math as math2\n",
    "math2=sys.modules['math']\n",
    "\n",
    "'''"
   ]
  },
  {
   "cell_type": "code",
   "execution_count": 16,
   "metadata": {},
   "outputs": [
    {
     "data": {
      "text/plain": [
       "True"
      ]
     },
     "execution_count": 16,
     "metadata": {},
     "output_type": "execute_result"
    }
   ],
   "source": [
    "'math2' in globals()"
   ]
  },
  {
   "cell_type": "code",
   "execution_count": null,
   "metadata": {},
   "outputs": [],
   "source": [
    "id(math2)"
   ]
  },
  {
   "cell_type": "code",
   "execution_count": null,
   "metadata": {},
   "outputs": [],
   "source": [
    "id(sys.modules['math'])"
   ]
  },
  {
   "cell_type": "code",
   "execution_count": null,
   "metadata": {},
   "outputs": [],
   "source": [
    "#所以用importlib是需要创建对象的"
   ]
  },
  {
   "cell_type": "code",
   "execution_count": 17,
   "metadata": {},
   "outputs": [],
   "source": [
    "fractions=importlib.import_module('fractions')"
   ]
  },
  {
   "cell_type": "code",
   "execution_count": 19,
   "metadata": {},
   "outputs": [
    {
     "data": {
      "text/plain": [
       "<module 'fractions' from '/home/nbuser/anaconda3_501/lib/python3.6/fractions.py'>"
      ]
     },
     "execution_count": 19,
     "metadata": {},
     "output_type": "execute_result"
    }
   ],
   "source": [
    "fractions"
   ]
  },
  {
   "cell_type": "code",
   "execution_count": 20,
   "metadata": {},
   "outputs": [
    {
     "data": {
      "text/plain": [
       "ModuleSpec(name='fractions', loader=<_frozen_importlib_external.SourceFileLoader object at 0x7fa1f1b36fd0>, origin='/home/nbuser/anaconda3_501/lib/python3.6/fractions.py')"
      ]
     },
     "execution_count": 20,
     "metadata": {},
     "output_type": "execute_result"
    }
   ],
   "source": [
    "fractions.__spec__ "
   ]
  },
  {
   "cell_type": "code",
   "execution_count": null,
   "metadata": {},
   "outputs": [],
   "source": [
    "'''\n",
    "*finders\n",
    "*loaders\n",
    "*finder+loader=importer\n",
    "\n",
    "'''"
   ]
  },
  {
   "cell_type": "code",
   "execution_count": 21,
   "metadata": {},
   "outputs": [
    {
     "data": {
      "text/plain": [
       "[_frozen_importlib.BuiltinImporter,\n",
       " _frozen_importlib.FrozenImporter,\n",
       " _frozen_importlib_external.PathFinder,\n",
       " <six._SixMetaPathImporter at 0x7fa1f4b03240>]"
      ]
     },
     "execution_count": 21,
     "metadata": {},
     "output_type": "execute_result"
    }
   ],
   "source": [
    "sys.meta_path"
   ]
  },
  {
   "cell_type": "code",
   "execution_count": 28,
   "metadata": {},
   "outputs": [
    {
     "data": {
      "text/plain": [
       "ModuleSpec(name='math', loader=<_frozen_importlib_external.ExtensionFileLoader object at 0x7fa1f5326940>, origin='/home/nbuser/anaconda3_501/lib/python3.6/lib-dynload/math.cpython-36m-x86_64-linux-gnu.so')"
      ]
     },
     "execution_count": 28,
     "metadata": {},
     "output_type": "execute_result"
    }
   ],
   "source": [
    "import math\n",
    "math.__spec__"
   ]
  },
  {
   "cell_type": "code",
   "execution_count": 29,
   "metadata": {},
   "outputs": [
    {
     "data": {
      "text/plain": [
       "ModuleSpec(name='decimal', loader=<_frozen_importlib_external.SourceFileLoader object at 0x7fa1f1fa5588>, origin='/home/nbuser/anaconda3_501/lib/python3.6/decimal.py')"
      ]
     },
     "execution_count": 29,
     "metadata": {},
     "output_type": "execute_result"
    }
   ],
   "source": [
    "importlib.util.find_spec('decimal')"
   ]
  },
  {
   "cell_type": "code",
   "execution_count": 33,
   "metadata": {},
   "outputs": [],
   "source": [
    "with open('module1.py','w') as code_file:\n",
    "    code_file.write(\"print('running module1.py....')\\n\")\n",
    "    code_file.write(\"a=100\\n\")"
   ]
  },
  {
   "cell_type": "code",
   "execution_count": 34,
   "metadata": {},
   "outputs": [],
   "source": [
    "importlib.util.find_spec('module1')"
   ]
  },
  {
   "cell_type": "code",
   "execution_count": 35,
   "metadata": {},
   "outputs": [
    {
     "ename": "ModuleNotFoundError",
     "evalue": "No module named 'module1'",
     "output_type": "error",
     "traceback": [
      "\u001b[0;31m---------------------------------------------------------------------------\u001b[0m",
      "\u001b[0;31mModuleNotFoundError\u001b[0m                       Traceback (most recent call last)",
      "\u001b[0;32m<ipython-input-35-e4e9c65f813c>\u001b[0m in \u001b[0;36m<module>\u001b[0;34m\u001b[0m\n\u001b[0;32m----> 1\u001b[0;31m \u001b[0;32mimport\u001b[0m \u001b[0mmodule1\u001b[0m\u001b[0;34m\u001b[0m\u001b[0m\n\u001b[0m",
      "\u001b[0;31mModuleNotFoundError\u001b[0m: No module named 'module1'"
     ]
    }
   ],
   "source": [
    "import module1"
   ]
  },
  {
   "cell_type": "code",
   "execution_count": null,
   "metadata": {},
   "outputs": [],
   "source": []
  }
 ],
 "metadata": {
  "kernelspec": {
   "display_name": "Python 3.6",
   "language": "python",
   "name": "python36"
  },
  "language_info": {
   "codemirror_mode": {
    "name": "ipython",
    "version": 3
   },
   "file_extension": ".py",
   "mimetype": "text/x-python",
   "name": "python",
   "nbconvert_exporter": "python",
   "pygments_lexer": "ipython3",
   "version": "3.6.6"
  }
 },
 "nbformat": 4,
 "nbformat_minor": 2
}
