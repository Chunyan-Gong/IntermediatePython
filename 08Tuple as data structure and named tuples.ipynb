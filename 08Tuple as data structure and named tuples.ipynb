{
 "cells": [
  {
   "cell_type": "code",
   "execution_count": 2,
   "metadata": {},
   "outputs": [
    {
     "name": "stdout",
     "output_type": "stream",
     "text": [
      "38280000\n",
      "38280000\n"
     ]
    }
   ],
   "source": [
    "#since elements cannot be added or changed and the order can also not be changed , so it works well for representing data structure \n",
    "#the positions gave the meaning, so it's a light weight data structure \n",
    "london=('london','UK',8780000)\n",
    "new_york=('New York','USA',8500000)\n",
    "beijing=('Beijing','China',21000000)\n",
    "\n",
    "#the tuples are 不同类的 heterogeneous\n",
    "cities=[('london','UK',8780000),('New York','USA',8500000),('Beijing','China',21000000)]\n",
    "total_population=0\n",
    "for city in cities:\n",
    "    total_population+=city[2]\n",
    "print(total_population)\n",
    "\n",
    "#太巧妙了\n",
    "total=sum(city[2] for city in cities)\n",
    "print(total)"
   ]
  },
  {
   "cell_type": "code",
   "execution_count": null,
   "metadata": {},
   "outputs": [],
   "source": [
    "#unpack the tuple"
   ]
  },
  {
   "cell_type": "code",
   "execution_count": null,
   "metadata": {},
   "outputs": [],
   "source": [
    "#packing: pack three variables into a tuple\n",
    "new_york=('New York','USA','8500000')\n",
    "\n",
    "#unpack\n",
    "city,country,population=new_york"
   ]
  },
  {
   "cell_type": "code",
   "execution_count": null,
   "metadata": {},
   "outputs": [],
   "source": [
    "#dummy variables\n",
    "city,_,population=('Beijing','China',21000000)\n",
    "\n",
    "#其实也可以写成这样\n",
    "city,ignored,population=('Beijing','China',21000000)"
   ]
  },
  {
   "cell_type": "code",
   "execution_count": 1,
   "metadata": {},
   "outputs": [
    {
     "name": "stdout",
     "output_type": "stream",
     "text": [
      "DJIA\n",
      "2018\n",
      "1\n",
      "19\n",
      "26071.72\n"
     ]
    }
   ],
   "source": [
    "#extended unpacking\n",
    "record=('DJIA',2018,1,19,25987.35,26017.72,25942.83,26071.72)\n",
    "\n",
    "#中间的不想要，只想要两边的，怎么unpacking ?\n",
    "symbol,year,month,day,*_,close=record\n",
    "print(symbol)\n",
    "print(year)\n",
    "print(month)\n",
    "print(day)\n",
    "print(close)"
   ]
  },
  {
   "cell_type": "code",
   "execution_count": 3,
   "metadata": {},
   "outputs": [
    {
     "data": {
      "text/plain": [
       "(1, 4, 5)"
      ]
     },
     "execution_count": 3,
     "metadata": {},
     "output_type": "execute_result"
    }
   ],
   "source": [
    "a=1,2,3,4,5\n",
    "x,*other,y,z=a\n",
    "x,y,z"
   ]
  },
  {
   "cell_type": "code",
   "execution_count": 4,
   "metadata": {},
   "outputs": [
    {
     "data": {
      "text/plain": [
       "[2, 3]"
      ]
     },
     "execution_count": 4,
     "metadata": {},
     "output_type": "execute_result"
    }
   ],
   "source": [
    "other  #it is still a tuple, it is also a variable"
   ]
  },
  {
   "cell_type": "code",
   "execution_count": null,
   "metadata": {},
   "outputs": [],
   "source": [
    "#tuple里面的元素不能改变，并不意味着其元素里面的东西不能变"
   ]
  },
  {
   "cell_type": "code",
   "execution_count": 3,
   "metadata": {},
   "outputs": [
    {
     "name": "stdout",
     "output_type": "stream",
     "text": [
      "(0, ('london', 'UK', 8780000))\n",
      "(1, ('New York', 'USA', 8500000))\n",
      "(2, ('Beijing', 'China', 21000000))\n"
     ]
    }
   ],
   "source": [
    "#enumerate a tuple, each item is a tuple\n",
    "for item in enumerate(cities):\n",
    "    print(item)"
   ]
  },
  {
   "cell_type": "code",
   "execution_count": 4,
   "metadata": {},
   "outputs": [
    {
     "name": "stdout",
     "output_type": "stream",
     "text": [
      "0 ('london', 'UK', 8780000)\n",
      "1 ('New York', 'USA', 8500000)\n",
      "2 ('Beijing', 'China', 21000000)\n"
     ]
    }
   ],
   "source": [
    " #since the enumerate returns a tuple, we can separate the index and the value\n",
    "for index,city in enumerate(cities):\n",
    "    print(index,city)"
   ]
  },
  {
   "cell_type": "code",
   "execution_count": 5,
   "metadata": {},
   "outputs": [
    {
     "name": "stdout",
     "output_type": "stream",
     "text": [
      "pi is approximately:3.0 \n"
     ]
    }
   ],
   "source": [
    "#use tuples to return the results in a function \n",
    "#approximate the pi\n",
    "from random import uniform\n",
    "from math import sqrt\n",
    "def random_shot(radius):\n",
    "    random_x=uniform(-radius,radius)\n",
    "    random_y=uniform(-radius,radius)\n",
    "    if sqrt(random_x**2+random_y**2)<=radius:\n",
    "        is_in_circle=True\n",
    "    else:\n",
    "        is_in_circle=False\n",
    "    return random_x,random_y,is_in_circle\n",
    "\n",
    "num_attempts=100\n",
    "count_inside=0\n",
    "for i in range(num_attempts):\n",
    "    *_,is_in_circle=random_shot(1)  #因为原函数返回的是一个tuple,所以这里解析tuple\n",
    "    if is_in_circle:\n",
    "        count_inside+=1\n",
    "print(f'pi is approximately:{4*count_inside/num_attempts} ')\n",
    "        "
   ]
  },
  {
   "cell_type": "code",
   "execution_count": null,
   "metadata": {},
   "outputs": [],
   "source": [
    "#***************************************named tuples*****************************************"
   ]
  },
  {
   "cell_type": "code",
   "execution_count": null,
   "metadata": {},
   "outputs": [],
   "source": [
    "#named tuples are subclass of tuples, \n",
    "#lcoated in standard library module, namedtuple is function,this function generates a new class, the class inherits from the class\n",
    "#nametuple needs the class name we want to use, and a sequence of field names we want to assign, in the order of the elements in the tuple\n",
    "#the return value will be a class"
   ]
  },
  {
   "cell_type": "code",
   "execution_count": 1,
   "metadata": {},
   "outputs": [
    {
     "ename": "TypeError",
     "evalue": "__new__() takes 2 positional arguments but 3 were given",
     "output_type": "error",
     "traceback": [
      "\u001b[0;31m---------------------------------------------------------------------------\u001b[0m",
      "\u001b[0;31mTypeError\u001b[0m                                 Traceback (most recent call last)",
      "\u001b[0;32m<ipython-input-1-1ecc8fc2bc20>\u001b[0m in \u001b[0;36m<module>\u001b[0;34m\u001b[0m\n\u001b[1;32m      4\u001b[0m \u001b[0;31m#then we can create an object from it\u001b[0m\u001b[0;34m\u001b[0m\u001b[0;34m\u001b[0m\u001b[0m\n\u001b[1;32m      5\u001b[0m \u001b[0;31m#positional arguments\u001b[0m\u001b[0;34m\u001b[0m\u001b[0;34m\u001b[0m\u001b[0m\n\u001b[0;32m----> 6\u001b[0;31m \u001b[0mpt1\u001b[0m\u001b[0;34m=\u001b[0m\u001b[0mPoint2D\u001b[0m\u001b[0;34m(\u001b[0m\u001b[0;36m10\u001b[0m\u001b[0;34m,\u001b[0m\u001b[0;36m20\u001b[0m\u001b[0;34m)\u001b[0m\u001b[0;34m\u001b[0m\u001b[0m\n\u001b[0m\u001b[1;32m      7\u001b[0m \u001b[0;34m\u001b[0m\u001b[0m\n\u001b[1;32m      8\u001b[0m \u001b[0;31m#keyword arguments\u001b[0m\u001b[0;34m\u001b[0m\u001b[0;34m\u001b[0m\u001b[0m\n",
      "\u001b[0;31mTypeError\u001b[0m: __new__() takes 2 positional arguments but 3 were given"
     ]
    }
   ],
   "source": [
    "from collections import namedtuple\n",
    "Point2D=namedtuple('Point2D','xy')\n",
    "\n",
    "#then we can create an object from it \n",
    "#positional arguments\n",
    "pt1=Point2D(10,20)\n",
    "\n",
    "#keyword arguments\n",
    "pt2=Point2D(x=10,y=20)"
   ]
  },
  {
   "cell_type": "code",
   "execution_count": null,
   "metadata": {},
   "outputs": [],
   "source": [
    "#accessing data in a named tuple\n",
    "\n",
    "#1. treat it as a tuple\n",
    "#isintstance(pt1,tuple) 这个方法蛮好的，但是直接print type不就行了吗\n",
    "\n",
    "#1.1for tuple,we can indexing, slicing, pakcing and unpacking\n",
    "\n",
    "\n",
    "#1.2 accessing it by field names\n",
    "\n"
   ]
  },
  {
   "cell_type": "code",
   "execution_count": null,
   "metadata": {},
   "outputs": [],
   "source": [
    "#～～～～～～～～～～～～～～～～～～～～～code along～～～～～～～～～～～～～～～～～～～～～～··"
   ]
  },
  {
   "cell_type": "code",
   "execution_count": 14,
   "metadata": {},
   "outputs": [],
   "source": [
    "class Point3D:\n",
    "    def __init__(self,x,y,z):\n",
    "        self.x=x\n",
    "        self.y=y\n",
    "        self.z=z\n",
    "#if we want to have a datastructure that has names and values, we need to   "
   ]
  },
  {
   "cell_type": "code",
   "execution_count": 15,
   "metadata": {},
   "outputs": [
    {
     "data": {
      "text/plain": [
       "Point2D(x=10, y=20)"
      ]
     },
     "execution_count": 15,
     "metadata": {},
     "output_type": "execute_result"
    }
   ],
   "source": [
    "from collections import namedtuple\n",
    "Point2D=namedtuple('Point2D',['x','y'])\n",
    "pt1=Point2D(10,20)\n",
    "pt1"
   ]
  },
  {
   "cell_type": "code",
   "execution_count": 16,
   "metadata": {},
   "outputs": [
    {
     "data": {
      "text/plain": [
       "Point2D(x=10, y=20)"
      ]
     },
     "execution_count": 16,
     "metadata": {},
     "output_type": "execute_result"
    }
   ],
   "source": [
    "Pt2D=namedtuple('Point2D',('x','y'))\n",
    "pt2=Pt2D(10,20)\n",
    "pt2"
   ]
  },
  {
   "cell_type": "code",
   "execution_count": 19,
   "metadata": {},
   "outputs": [
    {
     "data": {
      "text/plain": [
       "True"
      ]
     },
     "execution_count": 19,
     "metadata": {},
     "output_type": "execute_result"
    }
   ],
   "source": [
    "isinstance(pt2,tuple)"
   ]
  },
  {
   "cell_type": "code",
   "execution_count": 17,
   "metadata": {},
   "outputs": [
    {
     "data": {
      "text/plain": [
       "<__main__.Point3D at 0x7f7cd62cdb00>"
      ]
     },
     "execution_count": 17,
     "metadata": {},
     "output_type": "execute_result"
    }
   ],
   "source": [
    "Pt3D=Point3D\n",
    "p=Pt3D(10,20,30)\n",
    "p   "
   ]
  },
  {
   "cell_type": "code",
   "execution_count": 20,
   "metadata": {},
   "outputs": [
    {
     "data": {
      "text/plain": [
       "False"
      ]
     },
     "execution_count": 20,
     "metadata": {},
     "output_type": "execute_result"
    }
   ],
   "source": [
    "isinstance(p,tuple)"
   ]
  },
  {
   "cell_type": "code",
   "execution_count": 21,
   "metadata": {},
   "outputs": [
    {
     "data": {
      "text/plain": [
       "20"
      ]
     },
     "execution_count": 21,
     "metadata": {},
     "output_type": "execute_result"
    }
   ],
   "source": [
    "#since namedtuple is a tuple, we can find out the max and min of the tuple\n",
    "max(pt2)"
   ]
  },
  {
   "cell_type": "code",
   "execution_count": 22,
   "metadata": {},
   "outputs": [
    {
     "ename": "TypeError",
     "evalue": "'Point3D' object is not iterable",
     "output_type": "error",
     "traceback": [
      "\u001b[0;31m---------------------------------------------------------------------------\u001b[0m",
      "\u001b[0;31mTypeError\u001b[0m                                 Traceback (most recent call last)",
      "\u001b[0;32m<ipython-input-22-ab8038008980>\u001b[0m in \u001b[0;36m<module>\u001b[0;34m\u001b[0m\n\u001b[1;32m      1\u001b[0m \u001b[0;31m#but the class is not a tuple\u001b[0m\u001b[0;34m\u001b[0m\u001b[0;34m\u001b[0m\u001b[0m\n\u001b[0;32m----> 2\u001b[0;31m \u001b[0mmin\u001b[0m\u001b[0;34m(\u001b[0m\u001b[0mp\u001b[0m\u001b[0;34m)\u001b[0m\u001b[0;34m\u001b[0m\u001b[0m\n\u001b[0m",
      "\u001b[0;31mTypeError\u001b[0m: 'Point3D' object is not iterable"
     ]
    }
   ],
   "source": [
    "#but the class is not a tuple, so if our class restores many data,we should use namedtuples to get more free functions \n",
    "min(p)"
   ]
  },
  {
   "cell_type": "code",
   "execution_count": 1,
   "metadata": {},
   "outputs": [
    {
     "data": {
      "text/plain": [
       "Circle(center_x=0, center_y=0, radius=10)"
      ]
     },
     "execution_count": 1,
     "metadata": {},
     "output_type": "execute_result"
    }
   ],
   "source": [
    "from collections import namedtuple\n",
    "Circle=namedtuple('Circle','center_x center_y  radius')\n",
    "c=Circle(0,0,10)\n",
    "c"
   ]
  },
  {
   "cell_type": "code",
   "execution_count": null,
   "metadata": {},
   "outputs": [],
   "source": [
    "#we have two ways to get access to the value of named tuples"
   ]
  },
  {
   "cell_type": "code",
   "execution_count": 2,
   "metadata": {},
   "outputs": [
    {
     "data": {
      "text/plain": [
       "10"
      ]
     },
     "execution_count": 2,
     "metadata": {},
     "output_type": "execute_result"
    }
   ],
   "source": [
    "c.radius"
   ]
  },
  {
   "cell_type": "code",
   "execution_count": 3,
   "metadata": {},
   "outputs": [
    {
     "data": {
      "text/plain": [
       "10"
      ]
     },
     "execution_count": 3,
     "metadata": {},
     "output_type": "execute_result"
    }
   ],
   "source": [
    "c[2]"
   ]
  },
  {
   "cell_type": "code",
   "execution_count": 5,
   "metadata": {},
   "outputs": [],
   "source": [
    "Stock=namedtuple('Stock','''symbol\n",
    "                                        year\n",
    "                                        month\n",
    "                                        day\n",
    "                                        open\n",
    "                                        high\n",
    "                                        low\n",
    "                                        close''')\n"
   ]
  },
  {
   "cell_type": "code",
   "execution_count": 28,
   "metadata": {},
   "outputs": [
    {
     "data": {
      "text/plain": [
       "Stock(symbol='DIJA', year=2018, month=1, day=25, open=26313, high=26458, low=26260, close=26393)"
      ]
     },
     "execution_count": 28,
     "metadata": {},
     "output_type": "execute_result"
    }
   ],
   "source": [
    "djia=Stock('DIJA',2018,1,25,26_313,26_458,26_260,26_393)\n",
    "djia"
   ]
  },
  {
   "cell_type": "code",
   "execution_count": 29,
   "metadata": {},
   "outputs": [
    {
     "data": {
      "text/plain": [
       "26393"
      ]
     },
     "execution_count": 29,
     "metadata": {},
     "output_type": "execute_result"
    }
   ],
   "source": [
    "djia.close"
   ]
  },
  {
   "cell_type": "code",
   "execution_count": 30,
   "metadata": {},
   "outputs": [],
   "source": [
    "#extended unpacking the tuple\n",
    "symbol,year,month,*_,close=djia"
   ]
  },
  {
   "cell_type": "code",
   "execution_count": 31,
   "metadata": {},
   "outputs": [
    {
     "data": {
      "text/plain": [
       "'DIJA'"
      ]
     },
     "execution_count": 31,
     "metadata": {},
     "output_type": "execute_result"
    }
   ],
   "source": [
    "symbol"
   ]
  },
  {
   "cell_type": "code",
   "execution_count": 32,
   "metadata": {},
   "outputs": [
    {
     "data": {
      "text/plain": [
       "2018"
      ]
     },
     "execution_count": 32,
     "metadata": {},
     "output_type": "execute_result"
    }
   ],
   "source": [
    "year"
   ]
  },
  {
   "cell_type": "code",
   "execution_count": 33,
   "metadata": {},
   "outputs": [
    {
     "data": {
      "text/plain": [
       "1"
      ]
     },
     "execution_count": 33,
     "metadata": {},
     "output_type": "execute_result"
    }
   ],
   "source": [
    "month"
   ]
  },
  {
   "cell_type": "code",
   "execution_count": 34,
   "metadata": {},
   "outputs": [
    {
     "data": {
      "text/plain": [
       "26393"
      ]
     },
     "execution_count": 34,
     "metadata": {},
     "output_type": "execute_result"
    }
   ],
   "source": [
    "close"
   ]
  },
  {
   "cell_type": "code",
   "execution_count": 35,
   "metadata": {},
   "outputs": [
    {
     "data": {
      "text/plain": [
       "('DIJA', 2018, 1, 26393)"
      ]
     },
     "execution_count": 35,
     "metadata": {},
     "output_type": "execute_result"
    }
   ],
   "source": [
    "symbol,year,month,close"
   ]
  },
  {
   "cell_type": "code",
   "execution_count": 36,
   "metadata": {},
   "outputs": [
    {
     "name": "stdout",
     "output_type": "stream",
     "text": [
      "[25, 26313, 26458, 26260]\n"
     ]
    }
   ],
   "source": [
    "print(_)"
   ]
  },
  {
   "cell_type": "code",
   "execution_count": 37,
   "metadata": {},
   "outputs": [
    {
     "data": {
      "text/plain": [
       "OrderedDict([('symbol', 'DIJA'),\n",
       "             ('year', 2018),\n",
       "             ('month', 1),\n",
       "             ('day', 25),\n",
       "             ('open', 26313),\n",
       "             ('high', 26458),\n",
       "             ('low', 26260),\n",
       "             ('close', 26393)])"
      ]
     },
     "execution_count": 37,
     "metadata": {},
     "output_type": "execute_result"
    }
   ],
   "source": [
    "d=djia._asdict()\n",
    "d"
   ]
  },
  {
   "cell_type": "code",
   "execution_count": 38,
   "metadata": {},
   "outputs": [
    {
     "data": {
      "text/plain": [
       "{'symbol': 'DIJA',\n",
       " 'year': 2018,\n",
       " 'month': 1,\n",
       " 'day': 25,\n",
       " 'open': 26313,\n",
       " 'high': 26458,\n",
       " 'low': 26260,\n",
       " 'close': 26393}"
      ]
     },
     "execution_count": 38,
     "metadata": {},
     "output_type": "execute_result"
    }
   ],
   "source": [
    "#convert ordered dict to dict\n",
    "dict(d)"
   ]
  },
  {
   "cell_type": "code",
   "execution_count": 39,
   "metadata": {},
   "outputs": [
    {
     "data": {
      "text/plain": [
       "'DIJA'"
      ]
     },
     "execution_count": 39,
     "metadata": {},
     "output_type": "execute_result"
    }
   ],
   "source": [
    "d['symbol']"
   ]
  },
  {
   "cell_type": "code",
   "execution_count": 40,
   "metadata": {},
   "outputs": [
    {
     "name": "stdout",
     "output_type": "stream",
     "text": [
      "DIJA\n",
      "2018\n",
      "1\n",
      "25\n",
      "26313\n",
      "26458\n",
      "26260\n",
      "26393\n"
     ]
    }
   ],
   "source": [
    "for item in djia:\n",
    "    print(item)"
   ]
  },
  {
   "cell_type": "code",
   "execution_count": 41,
   "metadata": {},
   "outputs": [],
   "source": [
    "Person=namedtuple('Person','name age _ssn',rename=True)  #_表示这个值是可以改变的"
   ]
  },
  {
   "cell_type": "code",
   "execution_count": 42,
   "metadata": {},
   "outputs": [
    {
     "data": {
      "text/plain": [
       "('name', 'age', '_2')"
      ]
     },
     "execution_count": 42,
     "metadata": {},
     "output_type": "execute_result"
    }
   ],
   "source": [
    "Person._fields"
   ]
  },
  {
   "cell_type": "code",
   "execution_count": 43,
   "metadata": {},
   "outputs": [
    {
     "data": {
      "text/plain": [
       "\"from builtins import property as _property, tuple as _tuple\\nfrom operator import itemgetter as _itemgetter\\nfrom collections import OrderedDict\\n\\nclass Person(tuple):\\n    'Person(name, age, _2)'\\n\\n    __slots__ = ()\\n\\n    _fields = ('name', 'age', '_2')\\n\\n    def __new__(_cls, name, age, _2):\\n        'Create new instance of Person(name, age, _2)'\\n        return _tuple.__new__(_cls, (name, age, _2))\\n\\n    @classmethod\\n    def _make(cls, iterable, new=tuple.__new__, len=len):\\n        'Make a new Person object from a sequence or iterable'\\n        result = new(cls, iterable)\\n        if len(result) != 3:\\n            raise TypeError('Expected 3 arguments, got %d' % len(result))\\n        return result\\n\\n    def _replace(_self, **kwds):\\n        'Return a new Person object replacing specified fields with new values'\\n        result = _self._make(map(kwds.pop, ('name', 'age', '_2'), _self))\\n        if kwds:\\n            raise ValueError('Got unexpected field names: %r' % list(kwds))\\n        return result\\n\\n    def __repr__(self):\\n        'Return a nicely formatted representation string'\\n        return self.__class__.__name__ + '(name=%r, age=%r, _2=%r)' % self\\n\\n    def _asdict(self):\\n        'Return a new OrderedDict which maps field names to their values.'\\n        return OrderedDict(zip(self._fields, self))\\n\\n    def __getnewargs__(self):\\n        'Return self as a plain tuple.  Used by copy and pickle.'\\n        return tuple(self)\\n\\n    name = _property(_itemgetter(0), doc='Alias for field number 0')\\n\\n    age = _property(_itemgetter(1), doc='Alias for field number 1')\\n\\n    _2 = _property(_itemgetter(2), doc='Alias for field number 2')\\n\\n\""
      ]
     },
     "execution_count": 43,
     "metadata": {},
     "output_type": "execute_result"
    }
   ],
   "source": [
    "Person._source"
   ]
  },
  {
   "cell_type": "code",
   "execution_count": 44,
   "metadata": {},
   "outputs": [],
   "source": [
    "#～～～～～～～～～～～～～～～～～～～～Modifying and Extending～～～～～～～～～～～～～～～～～～·"
   ]
  },
  {
   "cell_type": "code",
   "execution_count": 45,
   "metadata": {},
   "outputs": [
    {
     "data": {
      "text/plain": [
       "Stock(symbol='DIJA', year=2018, month=1, day=25, open=26313, high=26458, low=26260, close=26393)"
      ]
     },
     "execution_count": 45,
     "metadata": {},
     "output_type": "execute_result"
    }
   ],
   "source": [
    "#namedtuple has _replace() method \n",
    "Stock=namedtuple('Stock','''symbol\n",
    "                                        year\n",
    "                                        month\n",
    "                                        day\n",
    "                                        open\n",
    "                                        high\n",
    "                                        low\n",
    "                                        close''')\n",
    "djia=Stock('DIJA',2018,1,25,26_313,26_458,26_260,26_393)\n",
    "djia"
   ]
  },
  {
   "cell_type": "code",
   "execution_count": 46,
   "metadata": {},
   "outputs": [
    {
     "data": {
      "text/plain": [
       "Stock(symbol='DIJA', year=2018, month=1, day=26, open=26313, high=26459, low=26260, close=26394)"
      ]
     },
     "execution_count": 46,
     "metadata": {},
     "output_type": "execute_result"
    }
   ],
   "source": [
    "#change two values of a tuple\n",
    "djia=djia._replace(day=26,high=26_459,close=26_394)\n",
    "djia"
   ]
  },
  {
   "cell_type": "code",
   "execution_count": 47,
   "metadata": {},
   "outputs": [],
   "source": [
    "#so a tuple can actually be changed "
   ]
  },
  {
   "cell_type": "code",
   "execution_count": 48,
   "metadata": {},
   "outputs": [
    {
     "data": {
      "text/plain": [
       "('symbol', 'year', 'month', 'day', 'open', 'high', 'low', 'close')"
      ]
     },
     "execution_count": 48,
     "metadata": {},
     "output_type": "execute_result"
    }
   ],
   "source": [
    "#Extending a namedtuple\n",
    "Stock=namedtuple('Stock','''symbol\n",
    "                                        year\n",
    "                                        month\n",
    "                                        day\n",
    "                                        open\n",
    "                                        high\n",
    "                                        low\n",
    "                                        close''')\n",
    "Stock._fields"
   ]
  },
  {
   "cell_type": "code",
   "execution_count": 50,
   "metadata": {},
   "outputs": [],
   "source": [
    "new_fields=Stock._fields+('previous_close',)"
   ]
  },
  {
   "cell_type": "code",
   "execution_count": 51,
   "metadata": {},
   "outputs": [
    {
     "data": {
      "text/plain": [
       "__main__.StockExt"
      ]
     },
     "execution_count": 51,
     "metadata": {},
     "output_type": "execute_result"
    }
   ],
   "source": [
    "StockExt=namedtuple('StockExt',new_fields)"
   ]
  },
  {
   "cell_type": "code",
   "execution_count": 52,
   "metadata": {},
   "outputs": [
    {
     "data": {
      "text/plain": [
       "StockExt(symbol='DIJA', year=2018, month=1, day=25, open=26313, high=26458, low=26260, close=26393, previous_close=26000)"
      ]
     },
     "execution_count": 52,
     "metadata": {},
     "output_type": "execute_result"
    }
   ],
   "source": [
    "#but we have extended the StockExt, we have not extended the value yet\n",
    "djia=Stock('DIJA',2018,1,25,26_313,26_458,26_260,26_393)\n",
    "djia_ext=StockExt(*djia,26_000)\n",
    "djia_ext"
   ]
  },
  {
   "cell_type": "code",
   "execution_count": null,
   "metadata": {},
   "outputs": [],
   "source": [
    "#厉害啊，这就是在原来的基础上添加\n",
    "#we can also use _make()"
   ]
  },
  {
   "cell_type": "code",
   "execution_count": 53,
   "metadata": {},
   "outputs": [
    {
     "data": {
      "text/plain": [
       "StockExt(symbol='DIJA', year=2018, month=1, day=25, open=26313, high=26458, low=26260, close=26393, previous_close=26000)"
      ]
     },
     "execution_count": 53,
     "metadata": {},
     "output_type": "execute_result"
    }
   ],
   "source": [
    "djia_ext=StockExt._make(djia+(26_000,))\n",
    "djia_ext"
   ]
  },
  {
   "cell_type": "code",
   "execution_count": 54,
   "metadata": {},
   "outputs": [
    {
     "data": {
      "text/plain": [
       "['DIJA', 2018, 1, 25, 26313, 26458, 26260]"
      ]
     },
     "execution_count": 54,
     "metadata": {},
     "output_type": "execute_result"
    }
   ],
   "source": [
    "*values,_=djia\n",
    "values"
   ]
  },
  {
   "cell_type": "code",
   "execution_count": 56,
   "metadata": {},
   "outputs": [],
   "source": [
    "values.append(26_393)"
   ]
  },
  {
   "cell_type": "code",
   "execution_count": 57,
   "metadata": {},
   "outputs": [
    {
     "data": {
      "text/plain": [
       "Stock(symbol='DIJA', year=2018, month=1, day=25, open=26313, high=26458, low=26260, close=26393)"
      ]
     },
     "execution_count": 57,
     "metadata": {},
     "output_type": "execute_result"
    }
   ],
   "source": [
    "#values is a list,we need to unpack it if we want to put it into the Stock()\n",
    "Stock(*values)"
   ]
  },
  {
   "cell_type": "code",
   "execution_count": null,
   "metadata": {},
   "outputs": [],
   "source": [
    "#～～～～～～～～～～～～～～～～～～～～～default docs for named tuples～～～～～～～～～～～～～～～～～～～～～～··"
   ]
  },
  {
   "cell_type": "code",
   "execution_count": 62,
   "metadata": {},
   "outputs": [],
   "source": [
    "from collections import namedtuple\n",
    "Point2D=namedtuple('Point2D','x y')"
   ]
  },
  {
   "cell_type": "code",
   "execution_count": 63,
   "metadata": {},
   "outputs": [
    {
     "data": {
      "text/plain": [
       "'Point2D(x, y)'"
      ]
     },
     "execution_count": 63,
     "metadata": {},
     "output_type": "execute_result"
    }
   ],
   "source": [
    "Point2D.__doc__"
   ]
  },
  {
   "cell_type": "code",
   "execution_count": 64,
   "metadata": {},
   "outputs": [
    {
     "data": {
      "text/plain": [
       "'Alias for field number 0'"
      ]
     },
     "execution_count": 64,
     "metadata": {},
     "output_type": "execute_result"
    }
   ],
   "source": [
    "Point2D.x.__doc__"
   ]
  },
  {
   "cell_type": "code",
   "execution_count": 65,
   "metadata": {},
   "outputs": [
    {
     "data": {
      "text/plain": [
       "'Alias for field number 1'"
      ]
     },
     "execution_count": 65,
     "metadata": {},
     "output_type": "execute_result"
    }
   ],
   "source": [
    "Point2D.y.__doc__"
   ]
  },
  {
   "cell_type": "code",
   "execution_count": null,
   "metadata": {},
   "outputs": [],
   "source": [
    "#we can change the doc"
   ]
  },
  {
   "cell_type": "code",
   "execution_count": null,
   "metadata": {},
   "outputs": [],
   "source": [
    "Point2D.__doc__='represents a 2D cartesian coordinate '"
   ]
  },
  {
   "cell_type": "code",
   "execution_count": null,
   "metadata": {},
   "outputs": [],
   "source": [
    "Point2D.x.__doc__='x coordinate'"
   ]
  },
  {
   "cell_type": "code",
   "execution_count": null,
   "metadata": {},
   "outputs": [],
   "source": [
    "Point2D.x.__doc__='y coordinate'"
   ]
  },
  {
   "cell_type": "code",
   "execution_count": null,
   "metadata": {},
   "outputs": [],
   "source": [
    "\n",
    "\n",
    "#then we can create an object from it \n",
    "#positional arguments\n",
    "pt1=Point2D(10,20)\n",
    "\n",
    "#keyword arguments\n",
    "pt2=Point2D(x=10,y=20)"
   ]
  },
  {
   "cell_type": "code",
   "execution_count": 66,
   "metadata": {},
   "outputs": [
    {
     "data": {
      "text/plain": [
       "Vector2D(x1=0, x2=0, y1=0, y2=0, origin_x=0, origin_y=0)"
      ]
     },
     "execution_count": 66,
     "metadata": {},
     "output_type": "execute_result"
    }
   ],
   "source": [
    "#using a prototype\n",
    "Vector2D=namedtuple('Vector2D','x1 x2 y1 y2 origin_x origin_y')\n",
    "vector_zero=Vector2D(0,0,0,0,0,0)\n",
    "vector_zero"
   ]
  },
  {
   "cell_type": "code",
   "execution_count": 67,
   "metadata": {},
   "outputs": [
    {
     "data": {
      "text/plain": [
       "Vector2D(x1=10, x2=10, y1=20, y2=20, origin_x=0, origin_y=0)"
      ]
     },
     "execution_count": 67,
     "metadata": {},
     "output_type": "execute_result"
    }
   ],
   "source": [
    "v1=vector_zero._replace(x1=10, x2=10, y1=20, y2=20)\n",
    "v1"
   ]
  },
  {
   "cell_type": "code",
   "execution_count": 69,
   "metadata": {},
   "outputs": [
    {
     "ename": "AttributeError",
     "evalue": "type object 'Vector2D' has no attribute '__defaults__'",
     "output_type": "error",
     "traceback": [
      "\u001b[0;31m---------------------------------------------------------------------------\u001b[0m",
      "\u001b[0;31mAttributeError\u001b[0m                            Traceback (most recent call last)",
      "\u001b[0;32m<ipython-input-69-c43ba540f494>\u001b[0m in \u001b[0;36m<module>\u001b[0;34m\u001b[0m\n\u001b[1;32m      2\u001b[0m \u001b[0mVector2D\u001b[0m\u001b[0;34m=\u001b[0m\u001b[0mnamedtuple\u001b[0m\u001b[0;34m(\u001b[0m\u001b[0;34m'Vector2D'\u001b[0m\u001b[0;34m,\u001b[0m\u001b[0;34m'x1 x2 y1 y2 origin_x origin_y'\u001b[0m\u001b[0;34m)\u001b[0m\u001b[0;34m\u001b[0m\u001b[0m\n\u001b[1;32m      3\u001b[0m \u001b[0mVector2D\u001b[0m\u001b[0;34m.\u001b[0m\u001b[0m__new__\u001b[0m\u001b[0;34m.\u001b[0m\u001b[0m__defaults__\u001b[0m\u001b[0;34m=\u001b[0m\u001b[0;34m(\u001b[0m\u001b[0;36m0\u001b[0m\u001b[0;34m,\u001b[0m\u001b[0;36m0\u001b[0m\u001b[0;34m)\u001b[0m\u001b[0;34m\u001b[0m\u001b[0m\n\u001b[0;32m----> 4\u001b[0;31m \u001b[0mVector2D\u001b[0m\u001b[0;34m.\u001b[0m\u001b[0m__defaults__\u001b[0m\u001b[0;34m\u001b[0m\u001b[0m\n\u001b[0m",
      "\u001b[0;31mAttributeError\u001b[0m: type object 'Vector2D' has no attribute '__defaults__'"
     ]
    }
   ],
   "source": [
    "#using __defaults__\n",
    "Vector2D=namedtuple('Vector2D','x1 x2 y1 y2 origin_x origin_y')\n",
    "Vector2D.__new__.__defaults__=(0,0) #因为这里只是给了最后2个值，所以只有最后两个值是default"
   ]
  },
  {
   "cell_type": "code",
   "execution_count": 71,
   "metadata": {},
   "outputs": [
    {
     "data": {
      "text/plain": [
       "Vector2D(x1=10, x2=10, y1=20, y2=20, origin_x=0, origin_y=0)"
      ]
     },
     "execution_count": 71,
     "metadata": {},
     "output_type": "execute_result"
    }
   ],
   "source": [
    "v1=Vector2D(10,10,20,20)\n",
    "v1"
   ]
  },
  {
   "cell_type": "code",
   "execution_count": null,
   "metadata": {},
   "outputs": [],
   "source": [
    "#***************************************Application：return multiple values*****************************************"
   ]
  },
  {
   "cell_type": "code",
   "execution_count": 77,
   "metadata": {},
   "outputs": [],
   "source": [
    "#设置一个程序会产生random color\n",
    "from random import randint,random\n",
    "from collections import namedtuple"
   ]
  },
  {
   "cell_type": "code",
   "execution_count": 78,
   "metadata": {},
   "outputs": [],
   "source": [
    "def random_color():\n",
    "    red=randint(0,255)\n",
    "    blue=randint(0,255)\n",
    "    green=randint(0,255)\n",
    "    alpha=round(random(),2)\n",
    "    return red,blue,green,alpha\n",
    "#这个函数的return值其实是一个tuple, so we can unpack it"
   ]
  },
  {
   "cell_type": "code",
   "execution_count": 79,
   "metadata": {},
   "outputs": [],
   "source": [
    "color=random_color()\n",
    "red,blue,green,alpha=color"
   ]
  },
  {
   "cell_type": "code",
   "execution_count": 80,
   "metadata": {},
   "outputs": [
    {
     "data": {
      "text/plain": [
       "158"
      ]
     },
     "execution_count": 80,
     "metadata": {},
     "output_type": "execute_result"
    }
   ],
   "source": [
    "red"
   ]
  },
  {
   "cell_type": "code",
   "execution_count": 81,
   "metadata": {},
   "outputs": [
    {
     "data": {
      "text/plain": [
       "172"
      ]
     },
     "execution_count": 81,
     "metadata": {},
     "output_type": "execute_result"
    }
   ],
   "source": [
    "green"
   ]
  },
  {
   "cell_type": "code",
   "execution_count": 82,
   "metadata": {},
   "outputs": [
    {
     "data": {
      "text/plain": [
       "254"
      ]
     },
     "execution_count": 82,
     "metadata": {},
     "output_type": "execute_result"
    }
   ],
   "source": [
    "blue"
   ]
  },
  {
   "cell_type": "code",
   "execution_count": 83,
   "metadata": {},
   "outputs": [
    {
     "data": {
      "text/plain": [
       "0.53"
      ]
     },
     "execution_count": 83,
     "metadata": {},
     "output_type": "execute_result"
    }
   ],
   "source": [
    "alpha"
   ]
  },
  {
   "cell_type": "code",
   "execution_count": 85,
   "metadata": {},
   "outputs": [],
   "source": [
    "#we can also use a namedtuple\n",
    "Color=namedtuple('Color','red green blue alpha')\n",
    "def random_color():\n",
    "    red=randint(0,255)\n",
    "    blue=randint(0,255)\n",
    "    green=randint(0,255)\n",
    "    alpha=round(random(),2)\n",
    "    return Color(red,blue,green,alpha)"
   ]
  },
  {
   "cell_type": "code",
   "execution_count": 86,
   "metadata": {},
   "outputs": [
    {
     "data": {
      "text/plain": [
       "Color(red=206, green=149, blue=78, alpha=0.98)"
      ]
     },
     "execution_count": 86,
     "metadata": {},
     "output_type": "execute_result"
    }
   ],
   "source": [
    "color=random_color()\n",
    "color  #this color is a named color"
   ]
  },
  {
   "cell_type": "code",
   "execution_count": null,
   "metadata": {},
   "outputs": [],
   "source": [
    "#***************************************Application：alternative to dictionaries*****************************************"
   ]
  },
  {
   "cell_type": "code",
   "execution_count": 2,
   "metadata": {},
   "outputs": [],
   "source": [
    "data_dict=dict(key1=100,key2=200,key3=300)"
   ]
  },
  {
   "cell_type": "code",
   "execution_count": 3,
   "metadata": {},
   "outputs": [],
   "source": [
    "from collections import namedtuple\n",
    "Data=namedtuple('Data','key1 key2 key3')"
   ]
  },
  {
   "cell_type": "code",
   "execution_count": 4,
   "metadata": {},
   "outputs": [],
   "source": [
    "#这个dict算是比较小的，对于更多数据的dict，我们可以用下面的方法来创建namedtuple\n",
    "Data=namedtuple('Data',data_dict.keys()) #而且这个key还是排好序的"
   ]
  },
  {
   "cell_type": "code",
   "execution_count": 5,
   "metadata": {},
   "outputs": [
    {
     "data": {
      "text/plain": [
       "dict_values([100, 200, 300])"
      ]
     },
     "execution_count": 5,
     "metadata": {},
     "output_type": "execute_result"
    }
   ],
   "source": [
    "#创建好namedtuple之后，就开始创建下面的object了,同样也可以用原来的dict方法来取值，但是要unpack\n",
    "data_dict.values()"
   ]
  },
  {
   "cell_type": "code",
   "execution_count": 8,
   "metadata": {},
   "outputs": [
    {
     "data": {
      "text/plain": [
       "Data(key1=100, key2=200, key3=300)"
      ]
     },
     "execution_count": 8,
     "metadata": {},
     "output_type": "execute_result"
    }
   ],
   "source": [
    "d1= Data(*data_dict.values())\n",
    "d1"
   ]
  },
  {
   "cell_type": "code",
   "execution_count": 9,
   "metadata": {},
   "outputs": [
    {
     "data": {
      "text/plain": [
       "Data(key1=10, key2=20, key3=30)"
      ]
     },
     "execution_count": 9,
     "metadata": {},
     "output_type": "execute_result"
    }
   ],
   "source": [
    "#但是如果要变化key的位置的话，只能自己输入了\n",
    "d2=Data(key1=10,key3=30,key2=20)\n",
    "d2"
   ]
  },
  {
   "cell_type": "code",
   "execution_count": 11,
   "metadata": {},
   "outputs": [
    {
     "data": {
      "text/plain": [
       "20"
      ]
     },
     "execution_count": 11,
     "metadata": {},
     "output_type": "execute_result"
    }
   ],
   "source": [
    "key_name='key2'\n",
    "getattr(d2,key_name)"
   ]
  },
  {
   "cell_type": "code",
   "execution_count": 12,
   "metadata": {},
   "outputs": [
    {
     "data": {
      "text/plain": [
       "200"
      ]
     },
     "execution_count": 12,
     "metadata": {},
     "output_type": "execute_result"
    }
   ],
   "source": [
    "data_dict.get('key2')"
   ]
  },
  {
   "cell_type": "code",
   "execution_count": null,
   "metadata": {},
   "outputs": [],
   "source": [
    "data_dict.get('key10',None) #这个的意思就是如果key不存在的话，就返回None，如果没有这个的话，就会报错"
   ]
  },
  {
   "cell_type": "code",
   "execution_count": 13,
   "metadata": {},
   "outputs": [],
   "source": [
    "getattr(d2,'key10',None)"
   ]
  },
  {
   "cell_type": "code",
   "execution_count": 10,
   "metadata": {},
   "outputs": [
    {
     "data": {
      "text/plain": [
       "Data(key1=100, key2=200, key3=300)"
      ]
     },
     "execution_count": 10,
     "metadata": {},
     "output_type": "execute_result"
    }
   ],
   "source": [
    "#we can also unpack the dict directly\n",
    "d3=Data(**data_dict)\n",
    "d3"
   ]
  },
  {
   "cell_type": "code",
   "execution_count": 14,
   "metadata": {},
   "outputs": [
    {
     "data": {
      "text/plain": [
       "200"
      ]
     },
     "execution_count": 14,
     "metadata": {},
     "output_type": "execute_result"
    }
   ],
   "source": [
    "#为什么要把dict 变成 namedtuple ? 还有一个原因就是便于取值\n",
    "data_dict['key2']"
   ]
  },
  {
   "cell_type": "code",
   "execution_count": 15,
   "metadata": {},
   "outputs": [
    {
     "data": {
      "text/plain": [
       "200"
      ]
     },
     "execution_count": 15,
     "metadata": {},
     "output_type": "execute_result"
    }
   ],
   "source": [
    "d1.key2  #这里的取值方式就不是传统的indexing的方式，而是attributes的方式"
   ]
  },
  {
   "cell_type": "code",
   "execution_count": null,
   "metadata": {},
   "outputs": [],
   "source": [
    "#一个namedtuple就很像一个dictionary，但是为什么要把dict变成namedtuple"
   ]
  },
  {
   "cell_type": "code",
   "execution_count": 10,
   "metadata": {},
   "outputs": [],
   "source": [
    "#consider that we have a list of dictonaries \n",
    "data_list=[\n",
    "{'key1':1,'key2':2},\n",
    "    {'key1':1,'key2':4},\n",
    "    {'key1':5,'key2':6,'key3':7},\n",
    "    {'key2':100}\n",
    "]\n",
    "\n",
    "#这里面的dictionary 的结构并不是一致的，我们可不可以把它变成一个namedtuple， 然后里面的dictionary是结构一致的？\n"
   ]
  },
  {
   "cell_type": "code",
   "execution_count": 11,
   "metadata": {},
   "outputs": [
    {
     "name": "stdout",
     "output_type": "stream",
     "text": [
      "{'key2', 'key3', 'key1'}\n"
     ]
    },
    {
     "data": {
      "text/plain": [
       "'\\n这里比较重要的是keys是一个set，所以不会有重复的值\\n'"
      ]
     },
     "execution_count": 11,
     "metadata": {},
     "output_type": "execute_result"
    }
   ],
   "source": [
    "keys=set()\n",
    "for d in data_list:\n",
    "    for key in d.keys():  #这个有点神奇\n",
    "        keys.add(key)\n",
    "print(keys)\n",
    "\n",
    "'''\n",
    "这里比较重要的是keys是一个set，所以不会有重复的值\n",
    "'''"
   ]
  },
  {
   "cell_type": "code",
   "execution_count": 14,
   "metadata": {},
   "outputs": [
    {
     "name": "stdout",
     "output_type": "stream",
     "text": [
      "{'key2', 'key3', 'key1'}\n"
     ]
    }
   ],
   "source": [
    "#we can write in a comprehensive way \n",
    "ks={key for dict_ in data_list for key in dict_.keys()}\n",
    "print(ks)"
   ]
  },
  {
   "cell_type": "code",
   "execution_count": 16,
   "metadata": {},
   "outputs": [],
   "source": [
    "#create a namedtuple\n",
    "from collections import namedtuple\n",
    "struct = namedtuple('struct',sorted(ks))\n",
    "struct.__new__.__defaults__=(None,)*len(struct._fields)  #为什么要在这里设置defaults"
   ]
  },
  {
   "cell_type": "code",
   "execution_count": 17,
   "metadata": {},
   "outputs": [
    {
     "data": {
      "text/plain": [
       "struct(key1=None, key2=None, key3=10)"
      ]
     },
     "execution_count": 17,
     "metadata": {},
     "output_type": "execute_result"
    }
   ],
   "source": [
    "struct(key3=10)"
   ]
  },
  {
   "cell_type": "code",
   "execution_count": 18,
   "metadata": {},
   "outputs": [
    {
     "name": "stdout",
     "output_type": "stream",
     "text": [
      "[struct(key1=1, key2=2, key3=None), struct(key1=1, key2=4, key3=None), struct(key1=5, key2=6, key3=7), struct(key1=None, key2=100, key3=None)]\n"
     ]
    }
   ],
   "source": [
    "tuple_list=[]\n",
    "for dict_ in data_list:\n",
    "    tuple_list.append(struct(**dict_))\n",
    "print(tuple_list)  "
   ]
  },
  {
   "cell_type": "code",
   "execution_count": 22,
   "metadata": {},
   "outputs": [],
   "source": [
    "#用更完整的方式写出来\n",
    "def tuplify_dicts(dicts):\n",
    "    ks={key for dict_ in data_list for key in dict_.keys()}\n",
    "    struct = namedtuple('struct',sorted(ks),rename=True)\n",
    "    struct.__new__.__defaults__=(None,)*len(struct._fields)\n",
    "    return [struct(**dict_) for dict_ in dicts]"
   ]
  },
  {
   "cell_type": "code",
   "execution_count": 23,
   "metadata": {},
   "outputs": [
    {
     "data": {
      "text/plain": [
       "[struct(key1=1, key2=2, key3=None),\n",
       " struct(key1=1, key2=4, key3=None),\n",
       " struct(key1=5, key2=6, key3=7),\n",
       " struct(key1=None, key2=100, key3=None)]"
      ]
     },
     "execution_count": 23,
     "metadata": {},
     "output_type": "execute_result"
    }
   ],
   "source": [
    "tuple_list=tuplify_dicts(data_list)\n",
    "tuple_list"
   ]
  },
  {
   "cell_type": "code",
   "execution_count": null,
   "metadata": {},
   "outputs": [],
   "source": []
  }
 ],
 "metadata": {
  "kernelspec": {
   "display_name": "Python 3.6",
   "language": "python",
   "name": "python36"
  },
  "language_info": {
   "codemirror_mode": {
    "name": "ipython",
    "version": 3
   },
   "file_extension": ".py",
   "mimetype": "text/x-python",
   "name": "python",
   "nbconvert_exporter": "python",
   "pygments_lexer": "ipython3",
   "version": "3.6.6"
  }
 },
 "nbformat": 4,
 "nbformat_minor": 2
}
